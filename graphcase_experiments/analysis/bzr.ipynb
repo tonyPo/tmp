{
 "cells": [
  {
   "cell_type": "markdown",
   "metadata": {},
   "source": [
    "Notebook te check the embedding and effectiveness on the BZR dataset."
   ]
  },
  {
   "cell_type": "code",
   "execution_count": null,
   "metadata": {},
   "outputs": [],
   "source": [
    "import os\n",
    "os. chdir(\"../..\")\n",
    "os.getcwd()"
   ]
  },
  {
   "cell_type": "code",
   "execution_count": null,
   "metadata": {},
   "outputs": [],
   "source": [
    "import networkx as nx\n",
    "from graphcase_experiments.algos.GraphCaseWrapper import GraphCaseWrapper\n",
    "from graphcase_experiments.tools.embedding_plotter import plot_embedding2, plotly_embedding\n",
    "from graphcase_experiments.tools.calculate_embed import calculate_graphcase_embedding\n",
    "from graphcase_experiments.graphs.enron.mail_reader import spark\n",
    "import matplotlib.pyplot as plt\n",
    "import pydot\n",
    "import pandas as pd\n",
    "import tensorflow as tf\n",
    "import pyspark.sql.functions as F"
   ]
  },
  {
   "cell_type": "code",
   "execution_count": null,
   "metadata": {},
   "outputs": [],
   "source": [
    "# load graph\n",
    "SOURCE_PATH = 'graphcase_experiments/graphs/bzr/'\n",
    "G = nx.read_gpickle(SOURCE_PATH + 'bzr_graph')"
   ]
  },
  {
   "cell_type": "code",
   "execution_count": null,
   "metadata": {},
   "outputs": [],
   "source": [
    "G.number_of_edges()"
   ]
  },
  {
   "cell_type": "code",
   "execution_count": null,
   "metadata": {},
   "outputs": [],
   "source": [
    "from graphcase_experiments.tools.calculate_embed import calculate_graphcase_embedding\n",
    "from graphcase_experiments.algos.GraphCaseWrapper import GraphCaseWrapper\n",
    "\n",
    "_, tbl = calculate_graphcase_embedding(\n",
    "            G, 'graphcase_experiments/data/bzr/', params=GraphCaseWrapper.BZR_PARAMS, verbose=True, algo=GraphCaseWrapper\n",
    "        )"
   ]
  },
  {
   "cell_type": "code",
   "execution_count": null,
   "metadata": {},
   "outputs": [],
   "source": [
    "# get the confussion matrix\n",
    "from sklearn.metrics import ConfusionMatrixDisplay\n",
    "from graphcase_experiments.experiments.ring_exp import classify_svm\n",
    "svm_res = classify_svm(tbl, test_size=0.5)\n",
    "ConfusionMatrixDisplay.from_predictions(tbl['label_id'], svm_res['pred_labels'])"
   ]
  },
  {
   "cell_type": "code",
   "execution_count": null,
   "metadata": {},
   "outputs": [],
   "source": [
    "# alternative mapping - detailed lbls\n",
    "from graphcase_experiments.experiments.bzr_comp import calc_bzr_performance\n",
    "ind, res = calc_bzr_performance(G=G, test_size=0.5, runs=10)"
   ]
  },
  {
   "cell_type": "code",
   "execution_count": null,
   "metadata": {},
   "outputs": [],
   "source": [
    "res"
   ]
  },
  {
   "cell_type": "code",
   "execution_count": null,
   "metadata": {},
   "outputs": [],
   "source": [
    "import pickle\n",
    "filename = 'graphcase_experiments/data/results/reallife/bzr_results.pickle'\n",
    "with open(filename, 'wb') as handle:\n",
    "    pickle.dump(res, handle, protocol=pickle.HIGHEST_PROTOCOL)"
   ]
  },
  {
   "cell_type": "code",
   "execution_count": null,
   "metadata": {},
   "outputs": [],
   "source": [
    "res"
   ]
  },
  {
   "cell_type": "code",
   "execution_count": null,
   "metadata": {},
   "outputs": [],
   "source": [
    "res"
   ]
  },
  {
   "cell_type": "code",
   "execution_count": null,
   "metadata": {},
   "outputs": [],
   "source": []
  }
 ],
 "metadata": {
  "kernelspec": {
   "display_name": "Python 3.8.12 ('graphcase')",
   "language": "python",
   "name": "python3"
  },
  "language_info": {
   "codemirror_mode": {
    "name": "ipython",
    "version": 3
   },
   "file_extension": ".py",
   "mimetype": "text/x-python",
   "name": "python",
   "nbconvert_exporter": "python",
   "pygments_lexer": "ipython3",
   "version": "3.8.12"
  },
  "orig_nbformat": 4,
  "vscode": {
   "interpreter": {
    "hash": "c716535ba2b95ead85a0e15eb985372fe78ead652a07dc780f0a477ec156580f"
   }
  }
 },
 "nbformat": 4,
 "nbformat_minor": 2
}
