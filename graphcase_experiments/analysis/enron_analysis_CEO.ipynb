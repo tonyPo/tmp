{
 "cells": [
  {
   "cell_type": "markdown",
   "metadata": {},
   "source": []
  },
  {
   "cell_type": "markdown",
   "metadata": {},
   "source": [
    "# EDA/ sanity check \n",
    "Check on the constructed enron network to determine if the graph is a good use case\n",
    "\n",
    "going to check two CEO/president who have a very different embedding in graphcase and investigate the underlying reason."
   ]
  },
  {
   "cell_type": "code",
   "execution_count": 1,
   "metadata": {},
   "outputs": [
    {
     "data": {
      "text/plain": [
       "'/Users/tonpoppe/workspace/graphcase_experiments/graphcase_experiments'"
      ]
     },
     "execution_count": 1,
     "metadata": {},
     "output_type": "execute_result"
    }
   ],
   "source": [
    "# run this only once!!\n",
    "import os\n",
    "os. chdir(\"../..\")\n",
    "os.getcwd()"
   ]
  },
  {
   "cell_type": "code",
   "execution_count": 2,
   "metadata": {},
   "outputs": [
    {
     "name": "stderr",
     "output_type": "stream",
     "text": [
      "/Users/tonpoppe/opt/anaconda3/envs/graphcase/lib/python3.8/site-packages/tqdm/auto.py:22: TqdmWarning: IProgress not found. Please update jupyter and ipywidgets. See https://ipywidgets.readthedocs.io/en/stable/user_install.html\n",
      "  from .autonotebook import tqdm as notebook_tqdm\n"
     ]
    }
   ],
   "source": [
    "import networkx as nx\n",
    "from graphcase_experiments.algos.GraphCaseWrapper import GraphCaseWrapper\n",
    "from graphcase_experiments.tools.embedding_plotter import plot_embedding2, plotly_embedding, plot_graph\n",
    "from graphcase_experiments.tools.calculate_embed import calculate_graphcase_embedding\n",
    "import matplotlib.pyplot as plt\n",
    "import pydot\n",
    "import contextlib"
   ]
  },
  {
   "cell_type": "code",
   "execution_count": 3,
   "metadata": {},
   "outputs": [],
   "source": [
    "# load graph\n",
    "SOURCE_PATH = 'graphcase_experiments/graphs/enron/data/'\n",
    "G = nx.read_gpickle(SOURCE_PATH + 'enron_sub_graph.pickle')"
   ]
  },
  {
   "cell_type": "code",
   "execution_count": 4,
   "metadata": {},
   "outputs": [
    {
     "name": "stderr",
     "output_type": "stream",
     "text": [
      "2022-07-15 10:11:18.493673: I tensorflow/core/platform/cpu_feature_guard.cc:151] This TensorFlow binary is optimized with oneAPI Deep Neural Network Library (oneDNN) to use the following CPU instructions in performance-critical operations:  AVX2 FMA\n",
      "To enable them in other operations, rebuild TensorFlow with the appropriate compiler flags.\n",
      "2022-07-15 10:12:38.136997: W tensorflow/python/util/util.cc:368] Sets are not currently considered sequences, but this may change in the future, so consider avoiding using them.\n",
      "WARNING:absl:Found untraced functions such as dense_8_layer_call_fn, dense_8_layer_call_and_return_conditional_losses, dense_9_layer_call_fn, dense_9_layer_call_and_return_conditional_losses while saving (showing 4 of 4). These functions will not be directly callable after loading.\n",
      "/Users/tonpoppe/workspace/graphcase_experiments/graphcase_experiments/graphcase_experiments/tools/embedding_plotter.py:88: SettingWithCopyWarning: \n",
      "A value is trying to be set on a copy of a slice from a DataFrame.\n",
      "Try using .loc[row_indexer,col_indexer] = value instead\n",
      "\n",
      "See the caveats in the documentation: https://pandas.pydata.org/pandas-docs/stable/user_guide/indexing.html#returning-a-view-versus-a-copy\n",
      "  embed_df['embed1'] = embed[:,0]\n",
      "/Users/tonpoppe/workspace/graphcase_experiments/graphcase_experiments/graphcase_experiments/tools/embedding_plotter.py:89: SettingWithCopyWarning: \n",
      "A value is trying to be set on a copy of a slice from a DataFrame.\n",
      "Try using .loc[row_indexer,col_indexer] = value instead\n",
      "\n",
      "See the caveats in the documentation: https://pandas.pydata.org/pandas-docs/stable/user_guide/indexing.html#returning-a-view-versus-a-copy\n",
      "  embed_df['embed2'] = embed[:,1]\n"
     ]
    },
    {
     "data": {
      "application/vnd.plotly.v1+json": {
       "config": {
        "plotlyServerURL": "https://plot.ly"
       },
       "data": [
        {
         "customdata": [
          [
           0,
           "ceos-president",
           0
          ],
          [
           15,
           "ceos-president",
           0
          ],
          [
           21,
           "ceos-president",
           0
          ],
          [
           26,
           "ceos-president",
           0
          ],
          [
           50,
           "ceos-president",
           0
          ],
          [
           95,
           "ceos-president",
           0
          ],
          [
           111,
           "ceos-president",
           0
          ],
          [
           119,
           "ceos-president",
           0
          ],
          [
           122,
           "ceos-president",
           0
          ]
         ],
         "hovertemplate": "label=%{customdata[1]}<br>embed1=%{x}<br>embed2=%{y}<br>id=%{customdata[0]}<br>label_id=%{customdata[2]}<extra></extra>",
         "legendgroup": "ceos-president",
         "marker": {
          "color": "#636efa",
          "symbol": "circle"
         },
         "mode": "markers",
         "name": "ceos-president",
         "orientation": "v",
         "showlegend": true,
         "type": "scatter",
         "x": [
          0.4221320788339783,
          0.03671897443435266,
          0.4082519774721002,
          0.8350462824499377,
          0.29311933350146047,
          0.8372412663044579,
          0.10698890506102363,
          0.18742210774394075,
          0.03288530516134551
         ],
         "xaxis": "x",
         "y": [
          0.811819806407822,
          1.2241676524024587,
          1.0376857699790052,
          1.031919985005664,
          0.7983268845320153,
          0.7064677408975163,
          1.098485814598733,
          0.6782154046333471,
          0.89034005369573
         ],
         "yaxis": "y"
        },
        {
         "customdata": [
          [
           1,
           "manager",
           1
          ],
          [
           7,
           "manager",
           1
          ],
          [
           13,
           "manager",
           1
          ],
          [
           19,
           "manager",
           1
          ],
          [
           33,
           "manager",
           1
          ],
          [
           42,
           "manager",
           1
          ],
          [
           49,
           "manager",
           1
          ],
          [
           68,
           "manager",
           1
          ],
          [
           71,
           "manager",
           1
          ],
          [
           97,
           "manager",
           1
          ],
          [
           99,
           "manager",
           1
          ],
          [
           114,
           "manager",
           1
          ],
          [
           117,
           "manager",
           1
          ],
          [
           131,
           "manager",
           1
          ],
          [
           150,
           "manager",
           1
          ]
         ],
         "hovertemplate": "label=%{customdata[1]}<br>embed1=%{x}<br>embed2=%{y}<br>id=%{customdata[0]}<br>label_id=%{customdata[2]}<extra></extra>",
         "legendgroup": "manager",
         "marker": {
          "color": "#EF553B",
          "symbol": "circle"
         },
         "mode": "markers",
         "name": "manager",
         "orientation": "v",
         "showlegend": true,
         "type": "scatter",
         "x": [
          -0.8215139855646476,
          -0.1816748435058701,
          1.0860354186493262,
          0.5759791211003352,
          -0.30320435621946473,
          0.8442438827603027,
          0.4780514411024215,
          1.079541699988469,
          0.7486402509111614,
          -0.9349782325575767,
          0.08616656887806352,
          -0.6341281903310529,
          -0.10927443195049899,
          0.710186193848079,
          -0.15199146239094044
         ],
         "xaxis": "x",
         "y": [
          -0.8479538646069594,
          0.7649864364182041,
          -0.20509705021035612,
          -0.3993166553117915,
          0.7104966249542399,
          0.532910431516589,
          0.17043045614503377,
          -0.49925102215191736,
          0.7329435709135201,
          0.20670123607101282,
          -0.9322520381988209,
          -1.0512274412233726,
          0.6050537359786176,
          0.8824268706713229,
          -1.418295138173724
         ],
         "yaxis": "y"
        },
        {
         "customdata": [
          [
           2,
           "vice president",
           2
          ],
          [
           14,
           "vice president",
           2
          ],
          [
           28,
           "vice president",
           2
          ],
          [
           31,
           "vice president",
           2
          ],
          [
           34,
           "vice president",
           2
          ],
          [
           40,
           "vice president",
           2
          ],
          [
           44,
           "vice president",
           2
          ],
          [
           56,
           "vice president",
           2
          ],
          [
           60,
           "vice president",
           2
          ],
          [
           62,
           "vice president",
           2
          ],
          [
           67,
           "vice president",
           2
          ],
          [
           70,
           "vice president",
           2
          ],
          [
           72,
           "vice president",
           2
          ],
          [
           78,
           "vice president",
           2
          ],
          [
           94,
           "vice president",
           2
          ],
          [
           98,
           "vice president",
           2
          ],
          [
           104,
           "vice president",
           2
          ],
          [
           107,
           "vice president",
           2
          ],
          [
           120,
           "vice president",
           2
          ],
          [
           123,
           "vice president",
           2
          ],
          [
           140,
           "vice president",
           2
          ],
          [
           148,
           "vice president",
           2
          ]
         ],
         "hovertemplate": "label=%{customdata[1]}<br>embed1=%{x}<br>embed2=%{y}<br>id=%{customdata[0]}<br>label_id=%{customdata[2]}<extra></extra>",
         "legendgroup": "vice president",
         "marker": {
          "color": "#00cc96",
          "symbol": "circle"
         },
         "mode": "markers",
         "name": "vice president",
         "orientation": "v",
         "showlegend": true,
         "type": "scatter",
         "x": [
          0.37398719527094,
          -0.3351934007520677,
          0.462932002406216,
          0.9610282907686546,
          -0.4806572710064593,
          0.7184040264031502,
          0.5445215013110287,
          1.1329627037455328,
          -0.2108418021604888,
          1.0688083621189417,
          -0.8110287308725191,
          0.5061768951543699,
          0.0643494970349902,
          -0.8833624476883745,
          0.6814257361532012,
          -0.13862788639923204,
          0.12685554652348466,
          0.2945410509293166,
          1.2071287624464906,
          -0.5558203983710223,
          -1.2081811742864381,
          -0.49041341036159464
         ],
         "xaxis": "x",
         "y": [
          1.4918324567285128,
          0.6538905486508602,
          1.2326172971208824,
          -0.09286889852512929,
          0.6125939097633971,
          -0.46078585130864097,
          0.7702362029627515,
          -0.6444634682958779,
          1.1743965071426867,
          0.15054165690434723,
          0.8160241892614405,
          1.234107938849724,
          1.451808067915758,
          0.13168407471531152,
          0.9779230685748292,
          -0.1012440852565758,
          0.9206179907094734,
          1.3001602250648525,
          0.6822067701053647,
          0.3162552426809086,
          0.1471696729854418,
          -0.08944726631277986
         ],
         "yaxis": "y"
        },
        {
         "customdata": [
          [
           3,
           "trader",
           3
          ],
          [
           5,
           "trader",
           3
          ],
          [
           9,
           "trader",
           3
          ],
          [
           20,
           "trader",
           3
          ],
          [
           22,
           "trader",
           3
          ],
          [
           24,
           "trader",
           3
          ],
          [
           27,
           "trader",
           3
          ],
          [
           36,
           "trader",
           3
          ],
          [
           39,
           "trader",
           3
          ],
          [
           53,
           "trader",
           3
          ],
          [
           59,
           "trader",
           3
          ],
          [
           61,
           "trader",
           3
          ],
          [
           63,
           "trader",
           3
          ],
          [
           74,
           "trader",
           3
          ],
          [
           80,
           "trader",
           3
          ],
          [
           85,
           "trader",
           3
          ],
          [
           88,
           "trader",
           3
          ],
          [
           91,
           "trader",
           3
          ],
          [
           92,
           "trader",
           3
          ],
          [
           96,
           "trader",
           3
          ],
          [
           105,
           "trader",
           3
          ],
          [
           116,
           "trader",
           3
          ],
          [
           118,
           "trader",
           3
          ],
          [
           121,
           "trader",
           3
          ],
          [
           124,
           "trader",
           3
          ],
          [
           126,
           "trader",
           3
          ],
          [
           127,
           "trader",
           3
          ],
          [
           128,
           "trader",
           3
          ],
          [
           129,
           "trader",
           3
          ],
          [
           133,
           "trader",
           3
          ],
          [
           136,
           "trader",
           3
          ],
          [
           137,
           "trader",
           3
          ],
          [
           139,
           "trader",
           3
          ],
          [
           142,
           "trader",
           3
          ],
          [
           143,
           "trader",
           3
          ]
         ],
         "hovertemplate": "label=%{customdata[1]}<br>embed1=%{x}<br>embed2=%{y}<br>id=%{customdata[0]}<br>label_id=%{customdata[2]}<extra></extra>",
         "legendgroup": "trader",
         "marker": {
          "color": "#ab63fa",
          "symbol": "circle"
         },
         "mode": "markers",
         "name": "trader",
         "orientation": "v",
         "showlegend": true,
         "type": "scatter",
         "x": [
          0.23603197584175006,
          -0.5111191946791962,
          0.7349486268686536,
          -0.6936473825011354,
          -0.5615126395255976,
          -0.49869878624961145,
          0.13539349578269008,
          0.6056759194255125,
          0.671893033009787,
          -1.1607206030998565,
          -0.7150464892596394,
          -0.9684271170410927,
          -1.156340555496284,
          -0.0154193750047845,
          1.164927652826145,
          0.012063999483568868,
          -0.49974347271404984,
          -0.9502789430320779,
          -0.8755249964074784,
          0.9974250685439472,
          -0.34867138021573374,
          -0.13860409862600623,
          1.194482444105475,
          -0.32415321990930257,
          -0.7712706787583746,
          0.3437713839584732,
          0.05299024087275343,
          -0.26113777521572945,
          0.279723483511804,
          0.5923600028417721,
          1.018653323911777,
          -1.099211066944825,
          -0.7746479369666095,
          0.07825628235476366,
          -0.6040234374412531
         ],
         "xaxis": "x",
         "y": [
          -0.2665966983571861,
          -1.178178489952855,
          -0.7174291669182211,
          -1.4031843706886855,
          -1.4972492037290683,
          -0.9346756293359706,
          -0.6457234912486153,
          -0.74448400762976,
          0.14855044458184052,
          -1.147341082919083,
          -1.0806786718834882,
          -1.2910055018800886,
          -0.866617593718143,
          -1.725860718305526,
          -0.0786891214058644,
          -0.37006440693374687,
          -1.3328225795264854,
          -0.751405060759759,
          -0.5834040331053278,
          0.6171418096583563,
          -0.011301873381634863,
          -0.21799305173398847,
          0.24345196389039506,
          -0.6655949576601582,
          0.49157697932656674,
          -1.5825994096153526,
          -0.6599616099108462,
          -0.10847635153903996,
          -0.5334631975476367,
          -1.0225744027561805,
          -0.9777977749633601,
          -0.3982065000790823,
          0.7343085874735118,
          -1.6041608654784063,
          0.945964679330796
         ],
         "yaxis": "y"
        },
        {
         "customdata": [
          [
           4,
           "director",
           4
          ],
          [
           25,
           "director",
           4
          ],
          [
           41,
           "director",
           4
          ],
          [
           48,
           "director",
           4
          ],
          [
           51,
           "director",
           4
          ],
          [
           55,
           "director",
           4
          ],
          [
           69,
           "director",
           4
          ],
          [
           75,
           "director",
           4
          ],
          [
           83,
           "director",
           4
          ],
          [
           84,
           "director",
           4
          ],
          [
           87,
           "director",
           4
          ],
          [
           90,
           "director",
           4
          ],
          [
           101,
           "director",
           4
          ],
          [
           103,
           "director",
           4
          ],
          [
           113,
           "director",
           4
          ],
          [
           115,
           "director",
           4
          ],
          [
           125,
           "director",
           4
          ],
          [
           132,
           "director",
           4
          ],
          [
           135,
           "director",
           4
          ],
          [
           141,
           "director",
           4
          ],
          [
           144,
           "director",
           4
          ],
          [
           146,
           "director",
           4
          ],
          [
           147,
           "director",
           4
          ]
         ],
         "hovertemplate": "label=%{customdata[1]}<br>embed1=%{x}<br>embed2=%{y}<br>id=%{customdata[0]}<br>label_id=%{customdata[2]}<extra></extra>",
         "legendgroup": "director",
         "marker": {
          "color": "#FFA15A",
          "symbol": "circle"
         },
         "mode": "markers",
         "name": "director",
         "orientation": "v",
         "showlegend": true,
         "type": "scatter",
         "x": [
          0.6471869573334614,
          -1.0833717775044451,
          0.45819239180046123,
          0.27344414944325995,
          -1.364711713258966,
          -0.20025429594234978,
          0.2640922906693084,
          -1.2232982088030728,
          0.9090687809322078,
          -0.9266121578340801,
          0.059477885192114215,
          -0.6723696319060752,
          -0.002897526089080784,
          -0.7181099492371787,
          -0.4965274368411691,
          -1.0901419907684071,
          -1.0641911736782554,
          0.019803297099095504,
          -0.7369613292758708,
          0.9442690464459769,
          0.8580392684614797,
          0.015696260880836553,
          -1.23248498764165
         ],
         "xaxis": "x",
         "y": [
          1.4507258749687568,
          -0.04193485245730196,
          0.060927465339972287,
          0.29871056216626457,
          -0.7417915204340776,
          -0.5689473412278264,
          -0.8159084216616271,
          -0.6144066756142427,
          0.23878659123584262,
          -0.8519404549623549,
          -0.016580121373589538,
          0.11166936179099245,
          0.5814463174820328,
          0.34017181489257453,
          -1.8042395835883709,
          0.25301652568911986,
          -0.9152865109786054,
          -1.424845606451047,
          0.612161469588739,
          -0.7957766303241037,
          -0.5331358370032202,
          0.47158384125384156,
          0.008727651375598354
         ],
         "yaxis": "y"
        },
        {
         "customdata": [
          [
           6,
           "attorney-legal asst.",
           5
          ],
          [
           11,
           "attorney-legal asst.",
           5
          ],
          [
           16,
           "attorney-legal asst.",
           5
          ],
          [
           30,
           "attorney-legal asst.",
           5
          ],
          [
           38,
           "attorney-legal asst.",
           5
          ],
          [
           45,
           "attorney-legal asst.",
           5
          ],
          [
           52,
           "attorney-legal asst.",
           5
          ],
          [
           73,
           "attorney-legal asst.",
           5
          ],
          [
           76,
           "attorney-legal asst.",
           5
          ],
          [
           79,
           "attorney-legal asst.",
           5
          ],
          [
           82,
           "attorney-legal asst.",
           5
          ],
          [
           93,
           "attorney-legal asst.",
           5
          ],
          [
           102,
           "attorney-legal asst.",
           5
          ],
          [
           138,
           "attorney-legal asst.",
           5
          ]
         ],
         "hovertemplate": "label=%{customdata[1]}<br>embed1=%{x}<br>embed2=%{y}<br>id=%{customdata[0]}<br>label_id=%{customdata[2]}<extra></extra>",
         "legendgroup": "attorney-legal asst.",
         "marker": {
          "color": "#19d3f3",
          "symbol": "circle"
         },
         "mode": "markers",
         "name": "attorney-legal asst.",
         "orientation": "v",
         "showlegend": true,
         "type": "scatter",
         "x": [
          0.15895278747128944,
          -0.8804404098444442,
          0.14803390429632649,
          -0.6738663375134097,
          0.09088919113847267,
          -0.2764789644975426,
          0.6483902431424086,
          -0.961236451665038,
          0.7507351886911239,
          0.7797951974204678,
          0.253752673677025,
          1.0468611661680605,
          0.29124666700336127,
          0.42402967323698476
         ],
         "xaxis": "x",
         "y": [
          1.5589589561577235,
          -0.11351307842493016,
          1.4128446375827315,
          -1.8871671509082277,
          1.3851116834751371,
          1.1594562685744179,
          -0.1841120345199082,
          -0.22898916911481212,
          1.0884750643749794,
          0.37059999449153136,
          -0.9612745154008944,
          1.050186482076679,
          1.4746885849133138,
          -1.0432516586707044
         ],
         "yaxis": "y"
        },
        {
         "customdata": [
          [
           8,
           "specialist",
           6
          ],
          [
           18,
           "specialist",
           6
          ],
          [
           54,
           "specialist",
           6
          ],
          [
           58,
           "specialist",
           6
          ],
          [
           86,
           "specialist",
           6
          ],
          [
           100,
           "specialist",
           6
          ],
          [
           130,
           "specialist",
           6
          ],
          [
           149,
           "specialist",
           6
          ]
         ],
         "hovertemplate": "label=%{customdata[1]}<br>embed1=%{x}<br>embed2=%{y}<br>id=%{customdata[0]}<br>label_id=%{customdata[2]}<extra></extra>",
         "legendgroup": "specialist",
         "marker": {
          "color": "#FF6692",
          "symbol": "circle"
         },
         "mode": "markers",
         "name": "specialist",
         "orientation": "v",
         "showlegend": true,
         "type": "scatter",
         "x": [
          -0.636603841531906,
          -0.4319231811736086,
          -0.7858223817400908,
          0.5159057227956131,
          0.8276781437161737,
          -0.4772154168463569,
          -0.47088745489100975,
          -0.3221914146616871
         ],
         "xaxis": "x",
         "y": [
          -0.6756808790828588,
          -1.879092904032359,
          0.9097351484487463,
          -0.6042731409559456,
          0.14970155760173143,
          1.1720688644459132,
          -0.5717423264968855,
          -1.1701373149117007
         ],
         "yaxis": "y"
        },
        {
         "customdata": [
          [
           10,
           "employee",
           7
          ],
          [
           12,
           "employee",
           7
          ],
          [
           17,
           "employee",
           7
          ],
          [
           23,
           "employee",
           7
          ],
          [
           29,
           "employee",
           7
          ],
          [
           35,
           "employee",
           7
          ],
          [
           43,
           "employee",
           7
          ],
          [
           46,
           "employee",
           7
          ],
          [
           47,
           "employee",
           7
          ],
          [
           77,
           "employee",
           7
          ],
          [
           89,
           "employee",
           7
          ],
          [
           106,
           "employee",
           7
          ],
          [
           108,
           "employee",
           7
          ],
          [
           110,
           "employee",
           7
          ],
          [
           112,
           "employee",
           7
          ]
         ],
         "hovertemplate": "label=%{customdata[1]}<br>embed1=%{x}<br>embed2=%{y}<br>id=%{customdata[0]}<br>label_id=%{customdata[2]}<extra></extra>",
         "legendgroup": "employee",
         "marker": {
          "color": "#B6E880",
          "symbol": "circle"
         },
         "mode": "markers",
         "name": "employee",
         "orientation": "v",
         "showlegend": true,
         "type": "scatter",
         "x": [
          1.0510523031226526,
          -0.568081179886026,
          -0.32414383224039145,
          1.1363405823665016,
          -0.8193528668861288,
          0.712925201128142,
          -0.08344486260124064,
          -1.03612154412823,
          0.8643429445621263,
          0.7827666964246215,
          -1.2896993422623475,
          -0.3362197344472922,
          0.313594422885932,
          0.29904847927917083,
          -0.649133210597512
         ],
         "xaxis": "x",
         "y": [
          0.364852451161805,
          -0.24563045373834286,
          -1.899149650652667,
          0.8642129004920017,
          -0.331436042933636,
          0.6045472279685924,
          -0.7715391186186091,
          -1.0655521895592546,
          -0.3415391497191486,
          0.6112443330724456,
          -0.615266826461677,
          -0.7981592928286854,
          1.432768372213648,
          -1.423983501586332,
          -1.908283582140104
         ],
         "yaxis": "y"
        },
        {
         "customdata": [
          [
           32,
           "executive vp",
           8
          ],
          [
           65,
           "executive vp",
           8
          ],
          [
           145,
           "executive vp",
           8
          ]
         ],
         "hovertemplate": "label=%{customdata[1]}<br>embed1=%{x}<br>embed2=%{y}<br>id=%{customdata[0]}<br>label_id=%{customdata[2]}<extra></extra>",
         "legendgroup": "executive vp",
         "marker": {
          "color": "#FF97FF",
          "symbol": "circle"
         },
         "mode": "markers",
         "name": "executive vp",
         "orientation": "v",
         "showlegend": true,
         "type": "scatter",
         "x": [
          0.39465948952083585,
          0.6545614486992704,
          0.24898829571600026
         ],
         "xaxis": "x",
         "y": [
          0.527993660226552,
          1.230274185318233,
          0.8779330786718333
         ],
         "yaxis": "y"
        },
        {
         "customdata": [
          [
           37,
           "managing director",
           9
          ],
          [
           57,
           "managing director",
           9
          ],
          [
           64,
           "managing director",
           9
          ],
          [
           66,
           "managing director",
           9
          ],
          [
           81,
           "managing director",
           9
          ],
          [
           109,
           "managing director",
           9
          ],
          [
           134,
           "managing director",
           9
          ]
         ],
         "hovertemplate": "label=%{customdata[1]}<br>embed1=%{x}<br>embed2=%{y}<br>id=%{customdata[0]}<br>label_id=%{customdata[2]}<extra></extra>",
         "legendgroup": "managing director",
         "marker": {
          "color": "#FECB52",
          "symbol": "circle"
         },
         "mode": "markers",
         "name": "managing director",
         "orientation": "v",
         "showlegend": true,
         "type": "scatter",
         "x": [
          0.6420653055869514,
          0.5868960043453104,
          -0.04169658990431645,
          0.41476484209883274,
          0.16609849493760553,
          -0.17344991487593522,
          -0.45498242501340563
         ],
         "xaxis": "x",
         "y": [
          -0.13235678620914967,
          1.3216051017405706,
          0.9483592173774579,
          1.3773200016384293,
          0.4574602685911283,
          1.3109715621587585,
          0.8989310878057689
         ],
         "yaxis": "y"
        }
       ],
       "layout": {
        "legend": {
         "title": {
          "text": "label"
         },
         "tracegroupgap": 0
        },
        "margin": {
         "t": 60
        },
        "template": {
         "data": {
          "bar": [
           {
            "error_x": {
             "color": "#2a3f5f"
            },
            "error_y": {
             "color": "#2a3f5f"
            },
            "marker": {
             "line": {
              "color": "#E5ECF6",
              "width": 0.5
             },
             "pattern": {
              "fillmode": "overlay",
              "size": 10,
              "solidity": 0.2
             }
            },
            "type": "bar"
           }
          ],
          "barpolar": [
           {
            "marker": {
             "line": {
              "color": "#E5ECF6",
              "width": 0.5
             },
             "pattern": {
              "fillmode": "overlay",
              "size": 10,
              "solidity": 0.2
             }
            },
            "type": "barpolar"
           }
          ],
          "carpet": [
           {
            "aaxis": {
             "endlinecolor": "#2a3f5f",
             "gridcolor": "white",
             "linecolor": "white",
             "minorgridcolor": "white",
             "startlinecolor": "#2a3f5f"
            },
            "baxis": {
             "endlinecolor": "#2a3f5f",
             "gridcolor": "white",
             "linecolor": "white",
             "minorgridcolor": "white",
             "startlinecolor": "#2a3f5f"
            },
            "type": "carpet"
           }
          ],
          "choropleth": [
           {
            "colorbar": {
             "outlinewidth": 0,
             "ticks": ""
            },
            "type": "choropleth"
           }
          ],
          "contour": [
           {
            "colorbar": {
             "outlinewidth": 0,
             "ticks": ""
            },
            "colorscale": [
             [
              0,
              "#0d0887"
             ],
             [
              0.1111111111111111,
              "#46039f"
             ],
             [
              0.2222222222222222,
              "#7201a8"
             ],
             [
              0.3333333333333333,
              "#9c179e"
             ],
             [
              0.4444444444444444,
              "#bd3786"
             ],
             [
              0.5555555555555556,
              "#d8576b"
             ],
             [
              0.6666666666666666,
              "#ed7953"
             ],
             [
              0.7777777777777778,
              "#fb9f3a"
             ],
             [
              0.8888888888888888,
              "#fdca26"
             ],
             [
              1,
              "#f0f921"
             ]
            ],
            "type": "contour"
           }
          ],
          "contourcarpet": [
           {
            "colorbar": {
             "outlinewidth": 0,
             "ticks": ""
            },
            "type": "contourcarpet"
           }
          ],
          "heatmap": [
           {
            "colorbar": {
             "outlinewidth": 0,
             "ticks": ""
            },
            "colorscale": [
             [
              0,
              "#0d0887"
             ],
             [
              0.1111111111111111,
              "#46039f"
             ],
             [
              0.2222222222222222,
              "#7201a8"
             ],
             [
              0.3333333333333333,
              "#9c179e"
             ],
             [
              0.4444444444444444,
              "#bd3786"
             ],
             [
              0.5555555555555556,
              "#d8576b"
             ],
             [
              0.6666666666666666,
              "#ed7953"
             ],
             [
              0.7777777777777778,
              "#fb9f3a"
             ],
             [
              0.8888888888888888,
              "#fdca26"
             ],
             [
              1,
              "#f0f921"
             ]
            ],
            "type": "heatmap"
           }
          ],
          "heatmapgl": [
           {
            "colorbar": {
             "outlinewidth": 0,
             "ticks": ""
            },
            "colorscale": [
             [
              0,
              "#0d0887"
             ],
             [
              0.1111111111111111,
              "#46039f"
             ],
             [
              0.2222222222222222,
              "#7201a8"
             ],
             [
              0.3333333333333333,
              "#9c179e"
             ],
             [
              0.4444444444444444,
              "#bd3786"
             ],
             [
              0.5555555555555556,
              "#d8576b"
             ],
             [
              0.6666666666666666,
              "#ed7953"
             ],
             [
              0.7777777777777778,
              "#fb9f3a"
             ],
             [
              0.8888888888888888,
              "#fdca26"
             ],
             [
              1,
              "#f0f921"
             ]
            ],
            "type": "heatmapgl"
           }
          ],
          "histogram": [
           {
            "marker": {
             "pattern": {
              "fillmode": "overlay",
              "size": 10,
              "solidity": 0.2
             }
            },
            "type": "histogram"
           }
          ],
          "histogram2d": [
           {
            "colorbar": {
             "outlinewidth": 0,
             "ticks": ""
            },
            "colorscale": [
             [
              0,
              "#0d0887"
             ],
             [
              0.1111111111111111,
              "#46039f"
             ],
             [
              0.2222222222222222,
              "#7201a8"
             ],
             [
              0.3333333333333333,
              "#9c179e"
             ],
             [
              0.4444444444444444,
              "#bd3786"
             ],
             [
              0.5555555555555556,
              "#d8576b"
             ],
             [
              0.6666666666666666,
              "#ed7953"
             ],
             [
              0.7777777777777778,
              "#fb9f3a"
             ],
             [
              0.8888888888888888,
              "#fdca26"
             ],
             [
              1,
              "#f0f921"
             ]
            ],
            "type": "histogram2d"
           }
          ],
          "histogram2dcontour": [
           {
            "colorbar": {
             "outlinewidth": 0,
             "ticks": ""
            },
            "colorscale": [
             [
              0,
              "#0d0887"
             ],
             [
              0.1111111111111111,
              "#46039f"
             ],
             [
              0.2222222222222222,
              "#7201a8"
             ],
             [
              0.3333333333333333,
              "#9c179e"
             ],
             [
              0.4444444444444444,
              "#bd3786"
             ],
             [
              0.5555555555555556,
              "#d8576b"
             ],
             [
              0.6666666666666666,
              "#ed7953"
             ],
             [
              0.7777777777777778,
              "#fb9f3a"
             ],
             [
              0.8888888888888888,
              "#fdca26"
             ],
             [
              1,
              "#f0f921"
             ]
            ],
            "type": "histogram2dcontour"
           }
          ],
          "mesh3d": [
           {
            "colorbar": {
             "outlinewidth": 0,
             "ticks": ""
            },
            "type": "mesh3d"
           }
          ],
          "parcoords": [
           {
            "line": {
             "colorbar": {
              "outlinewidth": 0,
              "ticks": ""
             }
            },
            "type": "parcoords"
           }
          ],
          "pie": [
           {
            "automargin": true,
            "type": "pie"
           }
          ],
          "scatter": [
           {
            "fillpattern": {
             "fillmode": "overlay",
             "size": 10,
             "solidity": 0.2
            },
            "type": "scatter"
           }
          ],
          "scatter3d": [
           {
            "line": {
             "colorbar": {
              "outlinewidth": 0,
              "ticks": ""
             }
            },
            "marker": {
             "colorbar": {
              "outlinewidth": 0,
              "ticks": ""
             }
            },
            "type": "scatter3d"
           }
          ],
          "scattercarpet": [
           {
            "marker": {
             "colorbar": {
              "outlinewidth": 0,
              "ticks": ""
             }
            },
            "type": "scattercarpet"
           }
          ],
          "scattergeo": [
           {
            "marker": {
             "colorbar": {
              "outlinewidth": 0,
              "ticks": ""
             }
            },
            "type": "scattergeo"
           }
          ],
          "scattergl": [
           {
            "marker": {
             "colorbar": {
              "outlinewidth": 0,
              "ticks": ""
             }
            },
            "type": "scattergl"
           }
          ],
          "scattermapbox": [
           {
            "marker": {
             "colorbar": {
              "outlinewidth": 0,
              "ticks": ""
             }
            },
            "type": "scattermapbox"
           }
          ],
          "scatterpolar": [
           {
            "marker": {
             "colorbar": {
              "outlinewidth": 0,
              "ticks": ""
             }
            },
            "type": "scatterpolar"
           }
          ],
          "scatterpolargl": [
           {
            "marker": {
             "colorbar": {
              "outlinewidth": 0,
              "ticks": ""
             }
            },
            "type": "scatterpolargl"
           }
          ],
          "scatterternary": [
           {
            "marker": {
             "colorbar": {
              "outlinewidth": 0,
              "ticks": ""
             }
            },
            "type": "scatterternary"
           }
          ],
          "surface": [
           {
            "colorbar": {
             "outlinewidth": 0,
             "ticks": ""
            },
            "colorscale": [
             [
              0,
              "#0d0887"
             ],
             [
              0.1111111111111111,
              "#46039f"
             ],
             [
              0.2222222222222222,
              "#7201a8"
             ],
             [
              0.3333333333333333,
              "#9c179e"
             ],
             [
              0.4444444444444444,
              "#bd3786"
             ],
             [
              0.5555555555555556,
              "#d8576b"
             ],
             [
              0.6666666666666666,
              "#ed7953"
             ],
             [
              0.7777777777777778,
              "#fb9f3a"
             ],
             [
              0.8888888888888888,
              "#fdca26"
             ],
             [
              1,
              "#f0f921"
             ]
            ],
            "type": "surface"
           }
          ],
          "table": [
           {
            "cells": {
             "fill": {
              "color": "#EBF0F8"
             },
             "line": {
              "color": "white"
             }
            },
            "header": {
             "fill": {
              "color": "#C8D4E3"
             },
             "line": {
              "color": "white"
             }
            },
            "type": "table"
           }
          ]
         },
         "layout": {
          "annotationdefaults": {
           "arrowcolor": "#2a3f5f",
           "arrowhead": 0,
           "arrowwidth": 1
          },
          "autotypenumbers": "strict",
          "coloraxis": {
           "colorbar": {
            "outlinewidth": 0,
            "ticks": ""
           }
          },
          "colorscale": {
           "diverging": [
            [
             0,
             "#8e0152"
            ],
            [
             0.1,
             "#c51b7d"
            ],
            [
             0.2,
             "#de77ae"
            ],
            [
             0.3,
             "#f1b6da"
            ],
            [
             0.4,
             "#fde0ef"
            ],
            [
             0.5,
             "#f7f7f7"
            ],
            [
             0.6,
             "#e6f5d0"
            ],
            [
             0.7,
             "#b8e186"
            ],
            [
             0.8,
             "#7fbc41"
            ],
            [
             0.9,
             "#4d9221"
            ],
            [
             1,
             "#276419"
            ]
           ],
           "sequential": [
            [
             0,
             "#0d0887"
            ],
            [
             0.1111111111111111,
             "#46039f"
            ],
            [
             0.2222222222222222,
             "#7201a8"
            ],
            [
             0.3333333333333333,
             "#9c179e"
            ],
            [
             0.4444444444444444,
             "#bd3786"
            ],
            [
             0.5555555555555556,
             "#d8576b"
            ],
            [
             0.6666666666666666,
             "#ed7953"
            ],
            [
             0.7777777777777778,
             "#fb9f3a"
            ],
            [
             0.8888888888888888,
             "#fdca26"
            ],
            [
             1,
             "#f0f921"
            ]
           ],
           "sequentialminus": [
            [
             0,
             "#0d0887"
            ],
            [
             0.1111111111111111,
             "#46039f"
            ],
            [
             0.2222222222222222,
             "#7201a8"
            ],
            [
             0.3333333333333333,
             "#9c179e"
            ],
            [
             0.4444444444444444,
             "#bd3786"
            ],
            [
             0.5555555555555556,
             "#d8576b"
            ],
            [
             0.6666666666666666,
             "#ed7953"
            ],
            [
             0.7777777777777778,
             "#fb9f3a"
            ],
            [
             0.8888888888888888,
             "#fdca26"
            ],
            [
             1,
             "#f0f921"
            ]
           ]
          },
          "colorway": [
           "#636efa",
           "#EF553B",
           "#00cc96",
           "#ab63fa",
           "#FFA15A",
           "#19d3f3",
           "#FF6692",
           "#B6E880",
           "#FF97FF",
           "#FECB52"
          ],
          "font": {
           "color": "#2a3f5f"
          },
          "geo": {
           "bgcolor": "white",
           "lakecolor": "white",
           "landcolor": "#E5ECF6",
           "showlakes": true,
           "showland": true,
           "subunitcolor": "white"
          },
          "hoverlabel": {
           "align": "left"
          },
          "hovermode": "closest",
          "mapbox": {
           "style": "light"
          },
          "paper_bgcolor": "white",
          "plot_bgcolor": "#E5ECF6",
          "polar": {
           "angularaxis": {
            "gridcolor": "white",
            "linecolor": "white",
            "ticks": ""
           },
           "bgcolor": "#E5ECF6",
           "radialaxis": {
            "gridcolor": "white",
            "linecolor": "white",
            "ticks": ""
           }
          },
          "scene": {
           "xaxis": {
            "backgroundcolor": "#E5ECF6",
            "gridcolor": "white",
            "gridwidth": 2,
            "linecolor": "white",
            "showbackground": true,
            "ticks": "",
            "zerolinecolor": "white"
           },
           "yaxis": {
            "backgroundcolor": "#E5ECF6",
            "gridcolor": "white",
            "gridwidth": 2,
            "linecolor": "white",
            "showbackground": true,
            "ticks": "",
            "zerolinecolor": "white"
           },
           "zaxis": {
            "backgroundcolor": "#E5ECF6",
            "gridcolor": "white",
            "gridwidth": 2,
            "linecolor": "white",
            "showbackground": true,
            "ticks": "",
            "zerolinecolor": "white"
           }
          },
          "shapedefaults": {
           "line": {
            "color": "#2a3f5f"
           }
          },
          "ternary": {
           "aaxis": {
            "gridcolor": "white",
            "linecolor": "white",
            "ticks": ""
           },
           "baxis": {
            "gridcolor": "white",
            "linecolor": "white",
            "ticks": ""
           },
           "bgcolor": "#E5ECF6",
           "caxis": {
            "gridcolor": "white",
            "linecolor": "white",
            "ticks": ""
           }
          },
          "title": {
           "x": 0.05
          },
          "xaxis": {
           "automargin": true,
           "gridcolor": "white",
           "linecolor": "white",
           "ticks": "",
           "title": {
            "standoff": 15
           },
           "zerolinecolor": "white",
           "zerolinewidth": 2
          },
          "yaxis": {
           "automargin": true,
           "gridcolor": "white",
           "linecolor": "white",
           "ticks": "",
           "title": {
            "standoff": 15
           },
           "zerolinecolor": "white",
           "zerolinewidth": 2
          }
         }
        },
        "xaxis": {
         "anchor": "y",
         "domain": [
          0,
          1
         ],
         "title": {
          "text": "embed1"
         }
        },
        "yaxis": {
         "anchor": "x",
         "domain": [
          0,
          1
         ],
         "title": {
          "text": "embed2"
         }
        }
       }
      }
     },
     "metadata": {},
     "output_type": "display_data"
    }
   ],
   "source": [
    "algo = GraphCaseWrapper\n",
    "with open(os.devnull, 'w') as devnull:\n",
    "    with contextlib.redirect_stdout(devnull):\n",
    "        _, tbl_gc = calculate_graphcase_embedding(\n",
    "            G, algo.LOCATION, params=algo.COMP_PARAMS, verbose=False, algo=algo\n",
    "        )\n",
    "plotly_embedding(tbl_gc)"
   ]
  },
  {
   "cell_type": "markdown",
   "metadata": {},
   "source": [
    "# Comparision of network with article of Creamer\n",
    "\n",
    "First checking the # of emails"
   ]
  },
  {
   "cell_type": "code",
   "execution_count": 15,
   "metadata": {},
   "outputs": [],
   "source": [
    "from graphcase_experiments.graphs.enron.mail_reader import spark, Enron_to_graph\n",
    "import pyspark.sql.functions as F\n",
    "tmp_path = '/Users/tonpoppe/Downloads/'\n",
    "nodes = (spark.read.format('parquet').load(tmp_path + 'nodes')\n",
    "    .filter(\"isCore= 1\")\n",
    ")\n",
    "tmp_path = '/Users/tonpoppe/Downloads/'\n",
    "edges = spark.read.format('parquet').load(tmp_path + 'edges')"
   ]
  },
  {
   "cell_type": "markdown",
   "metadata": {},
   "source": []
  },
  {
   "cell_type": "code",
   "execution_count": 21,
   "metadata": {},
   "outputs": [
    {
     "name": "stdout",
     "output_type": "stream",
     "text": [
      "+---------+---------+------+------+-------+------+\n",
      "|   target|   source|weight|cnt_cc|size_to|  size|\n",
      "+---------+---------+------+------+-------+------+\n",
      "|stclair-c|  panus-s|   104|     2|  57712| 58100|\n",
      "|kitchen-l| taylor-m|    67|    19|  95838|129628|\n",
      "| watson-k|  lokay-m|    76|     7|  54624| 60276|\n",
      "|   neal-s|kitchen-l|    15|     1|  17083| 19712|\n",
      "+---------+---------+------+------+-------+------+\n",
      "only showing top 4 rows\n",
      "\n"
     ]
    }
   ],
   "source": [
    "core_edges = (edges\n",
    "    .join(nodes.select(F.col('email_address').alias('source')), 'source', 'inner')\n",
    "    .join(nodes.select(F.col('email_address').alias('target')), 'target', 'inner')\n",
    ")\n",
    "core_edges.show(4)"
   ]
  },
  {
   "cell_type": "code",
   "execution_count": 28,
   "metadata": {},
   "outputs": [
    {
     "name": "stdout",
     "output_type": "stream",
     "text": [
      "+----------+--------+--------+----------+-----+\n",
      "|     email|total_to|total_cc|total_from|total|\n",
      "+----------+--------+--------+----------+-----+\n",
      "|   allen-p|     310|      33|       320|  663|\n",
      "|  arnold-j|     388|      26|       427|  841|\n",
      "|   arora-h|      71|       4|        16|   91|\n",
      "|  badeer-r|     252|      28|        16|  296|\n",
      "|  bailey-s|     894|     181|       316| 1391|\n",
      "|    bass-e|     221|      59|       391|  671|\n",
      "|baughman-d|      36|       1|       151|  188|\n",
      "|    beck-s|     156|      70|       340|  566|\n",
      "|  benson-r|      40|       6|         0|   46|\n",
      "|   blair-l|     108|      38|       213|  359|\n",
      "+----------+--------+--------+----------+-----+\n",
      "only showing top 10 rows\n",
      "\n"
     ]
    }
   ],
   "source": [
    "core_edges_inc = (core_edges\n",
    "    .groupBy('target').agg(F.sum('weight').alias('total_to'),\n",
    "                        F.sum('cnt_cc').alias('total_cc'))\n",
    "    .withColumnRenamed('target', 'email')\n",
    ")\n",
    "core_edges_out = (core_edges\n",
    "    .groupBy('source').agg(F.sum('weight').alias('total_from'))\n",
    "    .withColumnRenamed('source', 'email')\n",
    ")\n",
    "core_egdes_stat = (core_edges_inc.join(core_edges_out, 'email', 'outer')\n",
    "    .fillna(0)\n",
    "    .withColumn('total', F.col('total_to') + F.col('total_cc') + F.col('total_from'))\n",
    ")\n",
    "core_egdes_stat.show(10)"
   ]
  },
  {
   "cell_type": "code",
   "execution_count": 29,
   "metadata": {},
   "outputs": [
    {
     "name": "stdout",
     "output_type": "stream",
     "text": [
      "+----------+--------+--------+----------+-----+--------+--------------------+\n",
      "|     email|total_to|total_cc|total_from|total|features|         scaledtotal|\n",
      "+----------+--------+--------+----------+-----+--------+--------------------+\n",
      "|   allen-p|     310|      33|       320|  663| [663.0]|[0.18960068945705...|\n",
      "|  arnold-j|     388|      26|       427|  841| [841.0]|[0.24073542085607...|\n",
      "|   arora-h|      71|       4|        16|   91|  [91.0]|[0.02528009192760...|\n",
      "|  badeer-r|     252|      28|        16|  296| [296.0]|[0.08417121516805...|\n",
      "|  bailey-s|     894|     181|       316| 1391|[1391.0]|[0.39873599540361...|\n",
      "|    bass-e|     221|      59|       391|  671| [671.0]|[0.19189887963228...|\n",
      "|baughman-d|      36|       1|       151|  188| [188.0]|[0.05314564780235...|\n",
      "|    beck-s|     156|      70|       340|  566| [566.0]|[0.16173513358230...|\n",
      "|  benson-r|      40|       6|         0|   46|  [46.0]|[0.01235277219189...|\n",
      "|   blair-l|     108|      38|       213|  359| [359.0]|[0.10226946279804...|\n",
      "+----------+--------+--------+----------+-----+--------+--------------------+\n",
      "only showing top 10 rows\n",
      "\n"
     ]
    }
   ],
   "source": [
    "from pyspark.ml.feature import MinMaxScaler, VectorAssembler\n",
    "assembler = VectorAssembler().setInputCols(['total']).setOutputCol(\"features\")\n",
    "transformed = assembler.transform(core_egdes_stat)\n",
    "scaler = MinMaxScaler(inputCol=\"features\", outputCol=\"scaledtotal\")\n",
    "scalerModel =  scaler.fit(transformed.select(\"features\"))\n",
    "scaledData = scalerModel.transform(transformed)\n",
    "scaledData.show(10)"
   ]
  },
  {
   "cell_type": "markdown",
   "metadata": {},
   "source": [
    "Over het algemeem klopt het wel, maar lyn blair heeft in onze graph 50% lagere count."
   ]
  },
  {
   "cell_type": "code",
   "execution_count": 30,
   "metadata": {},
   "outputs": [],
   "source": [
    "#check the input.\n",
    "tmp_path = '/Users/tonpoppe/Downloads/'\n",
    "email = spark.read.format('parquet').load(tmp_path + 'enron_email')"
   ]
  },
  {
   "cell_type": "code",
   "execution_count": 42,
   "metadata": {},
   "outputs": [
    {
     "name": "stderr",
     "output_type": "stream",
     "text": [
      "[Stage 74:===================================================>      (8 + 1) / 9]\r"
     ]
    },
    {
     "name": "stdout",
     "output_type": "stream",
     "text": [
      "+--------------------+-----+\n",
      "|        from_address|count|\n",
      "+--------------------+-----+\n",
      "|             blair-l|  306|\n",
      "|john.buchanan@enr...|  122|\n",
      "|lorna.brennan@enr...|  106|\n",
      "|janet.butler@enro...|   74|\n",
      "|            corman-s|   73|\n",
      "+--------------------+-----+\n",
      "only showing top 5 rows\n",
      "\n"
     ]
    },
    {
     "name": "stderr",
     "output_type": "stream",
     "text": [
      "                                                                                \r"
     ]
    }
   ],
   "source": [
    "res = email.filter(\"recipient like '%blair%'\").groupBy('from_address').count().orderBy('count', ascending=False)\n",
    "res.show(5)"
   ]
  },
  {
   "cell_type": "code",
   "execution_count": 54,
   "metadata": {},
   "outputs": [
    {
     "name": "stderr",
     "output_type": "stream",
     "text": [
      "                                                                                \r"
     ]
    },
    {
     "data": {
      "text/plain": [
       "306"
      ]
     },
     "execution_count": 54,
     "metadata": {},
     "output_type": "execute_result"
    }
   ],
   "source": [
    "own = email.filter(\"recipient like '%blair%' and from_address = 'blair-l'\")\n",
    "own.count()"
   ]
  },
  {
   "cell_type": "code",
   "execution_count": 50,
   "metadata": {},
   "outputs": [
    {
     "name": "stdout",
     "output_type": "stream",
     "text": [
      "+--------------------------------+----------------------------------------------------------------------+\n",
      "|folder                          |fname                                                                 |\n",
      "+--------------------------------+----------------------------------------------------------------------+\n",
      "|blair-l/sent_items              |/Users/tonpoppe/Downloads/maildir3/blair-l/sent_items/78.             |\n",
      "|blair-l/sent_items              |/Users/tonpoppe/Downloads/maildir3/blair-l/sent_items/723.            |\n",
      "|blair-l/deleted_items/_sent_mail|/Users/tonpoppe/Downloads/maildir3/blair-l/deleted_items/_sent_mail/6.|\n",
      "|blair-l/personnel___paa         |/Users/tonpoppe/Downloads/maildir3/blair-l/personnel___paa/16.        |\n",
      "|blair-l/sent_items              |/Users/tonpoppe/Downloads/maildir3/blair-l/sent_items/127.            |\n",
      "+--------------------------------+----------------------------------------------------------------------+\n",
      "only showing top 5 rows\n",
      "\n"
     ]
    }
   ],
   "source": [
    "path = \"/Users/tonpoppe/Downloads/enron_parsed_all3_dedup\"  #all\n",
    "df = spark.read.format('parquet').load(path)\n",
    "tmp = df.join(own.select('mail_id'), 'mail_id', 'inner')\n",
    "tmp.select('folder', 'fname').show(5, truncate=False)\n",
    "# visual inspectation of these email show indeed that some people send to them self."
   ]
  },
  {
   "cell_type": "code",
   "execution_count": 53,
   "metadata": {},
   "outputs": [
    {
     "name": "stdout",
     "output_type": "stream",
     "text": [
      "+-------------+-------+\n",
      "|       target|tot_cnt|\n",
      "+-------------+-------+\n",
      "|     corman-s|    119|\n",
      "|     watson-k|     26|\n",
      "|schoolcraft-d|     24|\n",
      "|      lokay-m|     10|\n",
      "|     donoho-l|      9|\n",
      "|     ybarbo-p|      5|\n",
      "|      lokey-t|      4|\n",
      "|    mccarty-d|      4|\n",
      "|     fossum-d|      4|\n",
      "|       rapp-b|      3|\n",
      "+-------------+-------+\n",
      "only showing top 10 rows\n",
      "\n"
     ]
    }
   ],
   "source": [
    "tmp =core_edges.filter(\"source = 'blair-l'\").groupBy('target').agg(F.sum('weight').alias('tot_cnt'))\n",
    "tmp.orderBy('tot_cnt', ascending=False).show(10)"
   ]
  },
  {
   "cell_type": "markdown",
   "metadata": {},
   "source": [
    "# time span \n",
    "Check time span of the e-mail"
   ]
  },
  {
   "cell_type": "code",
   "execution_count": 57,
   "metadata": {},
   "outputs": [],
   "source": [
    "# no data are stored in the enron parsing file. need to reparce with data. -> on to do list"
   ]
  },
  {
   "cell_type": "markdown",
   "metadata": {},
   "source": [
    "# content type\n",
    "Check content types"
   ]
  },
  {
   "cell_type": "code",
   "execution_count": 59,
   "metadata": {},
   "outputs": [
    {
     "name": "stdout",
     "output_type": "stream",
     "text": [
      "+------------+-------+\n",
      "|content_type|  count|\n",
      "+------------+-------+\n",
      "|  text/plain|1384662|\n",
      "+------------+-------+\n",
      "\n"
     ]
    }
   ],
   "source": [
    "email.groupBy('content_type').count().show(5)"
   ]
  },
  {
   "cell_type": "code",
   "execution_count": 61,
   "metadata": {},
   "outputs": [
    {
     "name": "stdout",
     "output_type": "stream",
     "text": [
      "+--------------------+--------------------+----------+--------------------+------+--------------------+------+--------------------+-------+------------+--------------------+-----+-----+------+\n",
      "|           recipient|        from_address|email_size|          to_address|cnt_to|          cc_address|cnt_cc|         bcc_address|cnt_bcc|content_type|             mail_id|is_to|is_cc|is_bcc|\n",
      "+--------------------+--------------------+----------+--------------------+------+--------------------+------+--------------------+-------+------------+--------------------+-----+-----+------+\n",
      "|'.'annette@enron.com|           lenhart-m|       762|[chad.landry@enro...|    19|                  []|     0|                  []|      0|  text/plain|F05O2001074739070...|    1|    0|     0|\n",
      "|'.'lcentol@enron.com|           lenhart-m|       762|[chad.landry@enro...|    19|                  []|     0|                  []|      0|  text/plain|F05O2001074739070...|    1|    0|     0|\n",
      "|   '.'pete@enron.com|           germany-c|       461|[chris.germany@en...|     2|['.'pete@enron.co...|     9|['.'pete@enron.co...|      9|  text/plain|T30A2002080427070...|    0|    1|     0|\n",
      "|'.'valerie@enron.com|   eldon@direcpc.com|       702|['.'andre@enron.c...|    29|                  []|     0|                  []|      0|  text/plain|M15O2001231355070...|    1|    0|     0|\n",
      "| '03.rhett@enron.com|       curtq@msn.com|      3833|[soc.bob@enron.co...|   237|                  []|     0|                  []|      0|  text/plain|T23O2001203200070...|    1|    0|     0|\n",
      "|'77.richard@enron...|       curtq@msn.com|      3833|[soc.bob@enron.co...|   237|                  []|     0|                  []|      0|  text/plain|T23O2001203200070...|    1|    0|     0|\n",
      "|'78.charles@enron...|rcboccaccio@earth...|      1423|['82.david@enron....|   239|                  []|     0|                  []|      0|  text/plain|M19N2001110943080...|    1|    0|     0|\n",
      "|'79.robert@enron.com|lancebertram@idea...|      1002|[soc.bob@enron.co...|   238|                  []|     0|                  []|      0|  text/plain|T23O2001105331070...|    1|    0|     0|\n",
      "| '79.terry@enron.com|rcboccaccio@earth...|       940|['82.david@enron....|   235|                  []|     0|                  []|      0|  text/plain|T23O2001114031070...|    1|    0|     0|\n",
      "| '81.chris@enron.com|rcboccaccio@earth...|      3714|['82.david@enron....|   238|                  []|     0|                  []|      0|  text/plain|T23O2001062423070...|    1|    0|     0|\n",
      "| '81.danny@enron.com|       curtq@msn.com|      3833|[soc.bob@enron.co...|   237|                  []|     0|                  []|      0|  text/plain|T23O2001203200070...|    1|    0|     0|\n",
      "|'87.malcolm@enron...|       curtq@msn.com|      3833|[soc.bob@enron.co...|   237|                  []|     0|                  []|      0|  text/plain|T23O2001203200070...|    1|    0|     0|\n",
      "|'97.donald@enron.com|rcboccaccio@earth...|      1893|['82.david@enron....|   236|                  []|     0|                  []|      0|  text/plain|M29O2001064117080...|    1|    0|     0|\n",
      "| 'alvarado@enron.com|             hyatt-k|      3777|['alvarado@enron....|     2|                  []|     0|                  []|      0|  text/plain|M29O2001062007080...|    1|    0|     0|\n",
      "|  'clayton@enron.com|larry.hochberg@ny...|      1091|[nyiso_tech_excha...|     1|['adamson@enron.c...|    24|['adamson@enron.c...|     24|  text/plain|W26S2001054105070...|    0|    1|     0|\n",
      "|   'dadson@enron.com|           shapiro-r|       419|['dadson@enron.co...|     2|                  []|     0|                  []|      0|  text/plain|M29O20011043440800RE|    1|    0|     0|\n",
      "|   'fleury@enron.com|larry.hochberg@ny...|       930|[nyiso_tie@lyris....|     2|['adamson@enron.c...|    26|['adamson@enron.c...|     26|  text/plain|M24D2001073514080...|    0|    1|     0|\n",
      "|     'houx@enron.com|             heard-m|       909|['houx@enron.com,...|     2|[sara.shackleton@...|     1|[sara.shackleton@...|      1|  text/plain|M10S2001084151070...|    1|    0|     0|\n",
      "|    'lipke@enron.com| h..foster@enron.com|      3807|['lipke@enron.com...|     2|   [.ward@enron.com]|     1|   [.ward@enron.com]|      1|  text/plain|T27S2001063433070...|    1|    0|     0|\n",
      "|'zimmerman@enron.com|     dks@cpuc.ca.gov|       479|['awad@enron.com,...|    48|                  []|     0|                  []|      0|  text/plain|F16N2001093730080...|    1|    0|     0|\n",
      "+--------------------+--------------------+----------+--------------------+------+--------------------+------+--------------------+-------+------------+--------------------+-----+-----+------+\n",
      "only showing top 20 rows\n",
      "\n"
     ]
    },
    {
     "name": "stderr",
     "output_type": "stream",
     "text": [
      "22/07/16 01:13:43 WARN HeartbeatReceiver: Removing executor driver with no recent heartbeats: 998437 ms exceeds timeout 120000 ms\n",
      "22/07/16 01:13:43 WARN SparkContext: Killing executors is not supported by current scheduler.\n",
      "22/07/24 21:35:30 WARN TransportChannelHandler: Exception in connection from /10.0.0.9:54814\n",
      "java.io.IOException: Operation timed out\n",
      "\tat sun.nio.ch.FileDispatcherImpl.read0(Native Method)\n",
      "\tat sun.nio.ch.SocketDispatcher.read(SocketDispatcher.java:39)\n",
      "\tat sun.nio.ch.IOUtil.readIntoNativeBuffer(IOUtil.java:223)\n",
      "\tat sun.nio.ch.IOUtil.read(IOUtil.java:192)\n",
      "\tat sun.nio.ch.SocketChannelImpl.read(SocketChannelImpl.java:378)\n",
      "\tat io.netty.buffer.PooledByteBuf.setBytes(PooledByteBuf.java:253)\n",
      "\tat io.netty.buffer.AbstractByteBuf.writeBytes(AbstractByteBuf.java:1132)\n",
      "\tat io.netty.channel.socket.nio.NioSocketChannel.doReadBytes(NioSocketChannel.java:350)\n",
      "\tat io.netty.channel.nio.AbstractNioByteChannel$NioByteUnsafe.read(AbstractNioByteChannel.java:151)\n",
      "\tat io.netty.channel.nio.NioEventLoop.processSelectedKey(NioEventLoop.java:719)\n",
      "\tat io.netty.channel.nio.NioEventLoop.processSelectedKeysOptimized(NioEventLoop.java:655)\n",
      "\tat io.netty.channel.nio.NioEventLoop.processSelectedKeys(NioEventLoop.java:581)\n",
      "\tat io.netty.channel.nio.NioEventLoop.run(NioEventLoop.java:493)\n",
      "\tat io.netty.util.concurrent.SingleThreadEventExecutor$4.run(SingleThreadEventExecutor.java:986)\n",
      "\tat io.netty.util.internal.ThreadExecutorMap$2.run(ThreadExecutorMap.java:74)\n",
      "\tat io.netty.util.concurrent.FastThreadLocalRunnable.run(FastThreadLocalRunnable.java:30)\n",
      "\tat java.lang.Thread.run(Thread.java:750)\n"
     ]
    }
   ],
   "source": [
    "email.show()"
   ]
  },
  {
   "cell_type": "code",
   "execution_count": null,
   "metadata": {},
   "outputs": [],
   "source": []
  }
 ],
 "metadata": {
  "interpreter": {
   "hash": "c716535ba2b95ead85a0e15eb985372fe78ead652a07dc780f0a477ec156580f"
  },
  "kernelspec": {
   "display_name": "Python 3.8.12 ('graphcase')",
   "language": "python",
   "name": "python3"
  },
  "language_info": {
   "codemirror_mode": {
    "name": "ipython",
    "version": 3
   },
   "file_extension": ".py",
   "mimetype": "text/x-python",
   "name": "python",
   "nbconvert_exporter": "python",
   "pygments_lexer": "ipython3",
   "version": "3.8.12"
  },
  "orig_nbformat": 4
 },
 "nbformat": 4,
 "nbformat_minor": 2
}
