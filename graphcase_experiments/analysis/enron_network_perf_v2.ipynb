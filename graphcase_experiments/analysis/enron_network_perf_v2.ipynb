{
 "cells": [
  {
   "cell_type": "markdown",
   "metadata": {},
   "source": [
    "# performance on sub-graph with smry labels with alternative mapping"
   ]
  },
  {
   "cell_type": "code",
   "execution_count": 1,
   "metadata": {},
   "outputs": [
    {
     "data": {
      "text/plain": [
       "'/Users/tonpoppe/workspace/graphcase_experiments/graphcase_experiments'"
      ]
     },
     "execution_count": 1,
     "metadata": {},
     "output_type": "execute_result"
    }
   ],
   "source": [
    "# run this only once!!\n",
    "import os\n",
    "os. chdir(\"../..\")\n",
    "os.getcwd()"
   ]
  },
  {
   "cell_type": "code",
   "execution_count": 2,
   "metadata": {},
   "outputs": [
    {
     "name": "stderr",
     "output_type": "stream",
     "text": [
      "/Users/tonpoppe/opt/anaconda3/envs/graphcase/lib/python3.8/site-packages/tqdm/auto.py:22: TqdmWarning: IProgress not found. Please update jupyter and ipywidgets. See https://ipywidgets.readthedocs.io/en/stable/user_install.html\n",
      "  from .autonotebook import tqdm as notebook_tqdm\n"
     ]
    }
   ],
   "source": [
    "import networkx as nx\n",
    "from graphcase_experiments.algos.GraphCaseWrapper import GraphCaseWrapper\n",
    "from graphcase_experiments.tools.embedding_plotter import plot_embedding2, plotly_embedding\n",
    "from graphcase_experiments.tools.calculate_embed import calculate_graphcase_embedding\n",
    "import matplotlib.pyplot as plt\n",
    "import pydot"
   ]
  },
  {
   "cell_type": "code",
   "execution_count": 3,
   "metadata": {},
   "outputs": [],
   "source": [
    "# load graph\n",
    "SOURCE_PATH = 'graphcase_experiments/graphs/enron/data/'\n",
    "G = nx.read_gpickle(SOURCE_PATH + 'enron_sub_graph.pickle')"
   ]
  },
  {
   "cell_type": "code",
   "execution_count": 4,
   "metadata": {},
   "outputs": [],
   "source": [
    "main_label = {\n",
    "    'ceos-president': 'senior_mngt',\n",
    "    'managing director': 'senior_mngt',\n",
    "    'executive vp': 'senior_mngt',\n",
    "    'vice president': 'middle_mngt',\n",
    "    'director': 'middle_mngt',\n",
    "    'manager': 'middle_mngt',\n",
    "    'trader': 'trader',\n",
    "    'specialist': 'employee',\n",
    "    'employee': 'employee',\n",
    "    'attorney-legal asst.': 'employee',\n",
    "}\n",
    "G2 = G.copy()\n",
    "relabel =  {n: main_label[a.lower()] for n,a in G.nodes(data='label')}\n",
    "nx.set_node_attributes(G2, relabel, 'label')"
   ]
  },
  {
   "cell_type": "code",
   "execution_count": 5,
   "metadata": {},
   "outputs": [
    {
     "name": "stdout",
     "output_type": "stream",
     "text": [
      "WARNING: AutoGraph could not transform <bound method InputLayerConstructor.get_input_layer of <GAE.input_layer_constructor.InputLayerConstructor object at 0x7fd1f5ad0cd0>> and will run it as-is.\n",
      "Cause: mangled names are not yet supported\n",
      "To silence this warning, decorate the function with @tf.autograph.experimental.do_not_convert\n"
     ]
    },
    {
     "name": "stderr",
     "output_type": "stream",
     "text": [
      "2022-07-15 11:32:13.687767: I tensorflow/core/platform/cpu_feature_guard.cc:151] This TensorFlow binary is optimized with oneAPI Deep Neural Network Library (oneDNN) to use the following CPU instructions in performance-critical operations:  AVX2 FMA\n",
      "To enable them in other operations, rebuild TensorFlow with the appropriate compiler flags.\n",
      "2022-07-15 11:34:52.531206: W tensorflow/python/util/util.cc:368] Sets are not currently considered sequences, but this may change in the future, so consider avoiding using them.\n",
      "WARNING:absl:Found untraced functions such as dense_8_layer_call_fn, dense_8_layer_call_and_return_conditional_losses, dense_9_layer_call_fn, dense_9_layer_call_and_return_conditional_losses while saving (showing 4 of 4). These functions will not be directly callable after loading.\n",
      "/Users/tonpoppe/workspace/graphcase_experiments/graphcase_experiments/graphcase_experiments/tools/embedding_plotter.py:88: SettingWithCopyWarning: \n",
      "A value is trying to be set on a copy of a slice from a DataFrame.\n",
      "Try using .loc[row_indexer,col_indexer] = value instead\n",
      "\n",
      "See the caveats in the documentation: https://pandas.pydata.org/pandas-docs/stable/user_guide/indexing.html#returning-a-view-versus-a-copy\n",
      "  embed_df['embed1'] = embed[:,0]\n",
      "/Users/tonpoppe/workspace/graphcase_experiments/graphcase_experiments/graphcase_experiments/tools/embedding_plotter.py:89: SettingWithCopyWarning: \n",
      "A value is trying to be set on a copy of a slice from a DataFrame.\n",
      "Try using .loc[row_indexer,col_indexer] = value instead\n",
      "\n",
      "See the caveats in the documentation: https://pandas.pydata.org/pandas-docs/stable/user_guide/indexing.html#returning-a-view-versus-a-copy\n",
      "  embed_df['embed2'] = embed[:,1]\n"
     ]
    },
    {
     "data": {
      "application/vnd.plotly.v1+json": {
       "config": {
        "plotlyServerURL": "https://plot.ly"
       },
       "data": [
        {
         "customdata": [
          [
           0,
           "senior_mngt",
           0
          ],
          [
           15,
           "senior_mngt",
           0
          ],
          [
           21,
           "senior_mngt",
           0
          ],
          [
           26,
           "senior_mngt",
           0
          ],
          [
           32,
           "senior_mngt",
           0
          ],
          [
           37,
           "senior_mngt",
           0
          ],
          [
           50,
           "senior_mngt",
           0
          ],
          [
           57,
           "senior_mngt",
           0
          ],
          [
           64,
           "senior_mngt",
           0
          ],
          [
           65,
           "senior_mngt",
           0
          ],
          [
           66,
           "senior_mngt",
           0
          ],
          [
           81,
           "senior_mngt",
           0
          ],
          [
           95,
           "senior_mngt",
           0
          ],
          [
           109,
           "senior_mngt",
           0
          ],
          [
           111,
           "senior_mngt",
           0
          ],
          [
           119,
           "senior_mngt",
           0
          ],
          [
           122,
           "senior_mngt",
           0
          ],
          [
           134,
           "senior_mngt",
           0
          ],
          [
           145,
           "senior_mngt",
           0
          ]
         ],
         "hovertemplate": "label=%{customdata[1]}<br>embed1=%{x}<br>embed2=%{y}<br>id=%{customdata[0]}<br>label_id=%{customdata[2]}<extra></extra>",
         "legendgroup": "senior_mngt",
         "marker": {
          "color": "#636efa",
          "symbol": "circle"
         },
         "mode": "markers",
         "name": "senior_mngt",
         "orientation": "v",
         "showlegend": true,
         "type": "scatter",
         "x": [
          0.06392856267029147,
          0.12080143824635135,
          0.0137547720269675,
          0.46513745428077513,
          -0.2258482247709598,
          -0.6801634639021636,
          -0.12376962209567295,
          0.06445587782569841,
          -0.5166230633334827,
          -0.04184459512034047,
          -0.21634818248093712,
          0.1580612801661619,
          0.34686485355450597,
          -0.678155502917885,
          -0.2302585146781192,
          0.14388067686297923,
          -0.3400181179776695,
          -0.9143224405334349,
          -0.2578687162635873
         ],
         "xaxis": "x",
         "y": [
          0.8607252562184773,
          1.2555399726934418,
          1.0927782350189648,
          1.184766636146321,
          0.5591388410913616,
          0.14824414996290786,
          0.87737142118733,
          1.3977013183092633,
          0.8112995273510926,
          1.3897334035880433,
          1.3630405113718118,
          0.47776242501789823,
          1.0667958428660838,
          0.9919971069224216,
          1.0358824973516656,
          0.8033297985255167,
          0.779280675433917,
          0.605993994350133,
          0.7972808242665402
         ],
         "yaxis": "y"
        },
        {
         "customdata": [
          [
           1,
           "middle_mngt",
           1
          ],
          [
           2,
           "middle_mngt",
           1
          ],
          [
           4,
           "middle_mngt",
           1
          ],
          [
           7,
           "middle_mngt",
           1
          ],
          [
           13,
           "middle_mngt",
           1
          ],
          [
           14,
           "middle_mngt",
           1
          ],
          [
           19,
           "middle_mngt",
           1
          ],
          [
           25,
           "middle_mngt",
           1
          ],
          [
           28,
           "middle_mngt",
           1
          ],
          [
           31,
           "middle_mngt",
           1
          ],
          [
           33,
           "middle_mngt",
           1
          ],
          [
           34,
           "middle_mngt",
           1
          ],
          [
           40,
           "middle_mngt",
           1
          ],
          [
           41,
           "middle_mngt",
           1
          ],
          [
           42,
           "middle_mngt",
           1
          ],
          [
           44,
           "middle_mngt",
           1
          ],
          [
           48,
           "middle_mngt",
           1
          ],
          [
           49,
           "middle_mngt",
           1
          ],
          [
           51,
           "middle_mngt",
           1
          ],
          [
           55,
           "middle_mngt",
           1
          ],
          [
           56,
           "middle_mngt",
           1
          ],
          [
           60,
           "middle_mngt",
           1
          ],
          [
           62,
           "middle_mngt",
           1
          ],
          [
           67,
           "middle_mngt",
           1
          ],
          [
           68,
           "middle_mngt",
           1
          ],
          [
           69,
           "middle_mngt",
           1
          ],
          [
           70,
           "middle_mngt",
           1
          ],
          [
           71,
           "middle_mngt",
           1
          ],
          [
           72,
           "middle_mngt",
           1
          ],
          [
           75,
           "middle_mngt",
           1
          ],
          [
           78,
           "middle_mngt",
           1
          ],
          [
           83,
           "middle_mngt",
           1
          ],
          [
           84,
           "middle_mngt",
           1
          ],
          [
           87,
           "middle_mngt",
           1
          ],
          [
           90,
           "middle_mngt",
           1
          ],
          [
           94,
           "middle_mngt",
           1
          ],
          [
           97,
           "middle_mngt",
           1
          ],
          [
           98,
           "middle_mngt",
           1
          ],
          [
           99,
           "middle_mngt",
           1
          ],
          [
           101,
           "middle_mngt",
           1
          ],
          [
           103,
           "middle_mngt",
           1
          ],
          [
           104,
           "middle_mngt",
           1
          ],
          [
           107,
           "middle_mngt",
           1
          ],
          [
           113,
           "middle_mngt",
           1
          ],
          [
           114,
           "middle_mngt",
           1
          ],
          [
           115,
           "middle_mngt",
           1
          ],
          [
           117,
           "middle_mngt",
           1
          ],
          [
           120,
           "middle_mngt",
           1
          ],
          [
           123,
           "middle_mngt",
           1
          ],
          [
           125,
           "middle_mngt",
           1
          ],
          [
           131,
           "middle_mngt",
           1
          ],
          [
           132,
           "middle_mngt",
           1
          ],
          [
           135,
           "middle_mngt",
           1
          ],
          [
           140,
           "middle_mngt",
           1
          ],
          [
           141,
           "middle_mngt",
           1
          ],
          [
           144,
           "middle_mngt",
           1
          ],
          [
           146,
           "middle_mngt",
           1
          ],
          [
           147,
           "middle_mngt",
           1
          ],
          [
           148,
           "middle_mngt",
           1
          ],
          [
           150,
           "middle_mngt",
           1
          ]
         ],
         "hovertemplate": "label=%{customdata[1]}<br>embed1=%{x}<br>embed2=%{y}<br>id=%{customdata[0]}<br>label_id=%{customdata[2]}<extra></extra>",
         "legendgroup": "middle_mngt",
         "marker": {
          "color": "#EF553B",
          "symbol": "circle"
         },
         "mode": "markers",
         "name": "middle_mngt",
         "orientation": "v",
         "showlegend": true,
         "type": "scatter",
         "x": [
          0.8391996337535522,
          -0.47240884559349783,
          0.033476682270539654,
          -0.058808468653260615,
          -1.1082541498063645,
          -0.24491712575759944,
          0.7580395940178088,
          -0.7343696817973435,
          -0.24525351031280557,
          0.9786735044233941,
          0.3375861177911584,
          -0.7929155874621993,
          0.9746975726452449,
          -0.1405724638398806,
          -0.5347530868452547,
          0.17776836487062664,
          0.7476459744228107,
          0.19063782925828585,
          -0.5163289858927177,
          0.7947762651348077,
          1.2630513995175043,
          -0.27562494523858405,
          0.7958457348804392,
          0.9311397804462074,
          1.2239413193548314,
          0.8830435056242547,
          -0.49600291995612883,
          -0.64870158009195,
          -0.3965195293320124,
          -0.6657347601422557,
          -0.3304787630678726,
          0.6710058058398878,
          0.46413946473439444,
          0.5820534041266986,
          -0.7257817214008352,
          0.11833400855895297,
          0.9081069023037193,
          0.05797867622017764,
          0.36278223532157655,
          -0.6696566871434178,
          -0.18290756993967527,
          0.42984629243928835,
          -0.33309929206951344,
          0.31783453020095515,
          0.7770498965425462,
          1.1694610614247607,
          0.13115909837678516,
          0.6984474666949001,
          -0.30019829395953346,
          -0.06348684236122208,
          0.22051227002514623,
          0.01281498123492456,
          -1.0055643985300462,
          -1.0966025722515782,
          1.2352325556504056,
          -0.9569508959698407,
          -0.11181399521224565,
          -1.0514171643975865,
          -0.4079853613595582,
          0.3835969043393541
         ],
         "xaxis": "x",
         "y": [
          -0.9555441390663583,
          1.3987394882757187,
          1.559278972011556,
          0.583856462655388,
          0.004338345898740354,
          0.40186375714890116,
          0.054059555845920725,
          -0.6381779372381853,
          1.2490720543644678,
          0.4023144562626996,
          0.6327692439446573,
          0.26061707212795626,
          0.031198503119679352,
          0.20395427100217603,
          0.6493216837254032,
          0.9864954262867127,
          0.4790707097569226,
          0.24748128296989266,
          -1.4139760463192337,
          -0.5790829803909897,
          0.05191855249642569,
          1.005880256724992,
          0.7340947860353064,
          0.643837359069063,
          0.2639354341232962,
          -0.5453633763177266,
          1.167996655539236,
          0.7671887452101795,
          1.3780908764409934,
          -1.1326286275161541,
          -0.40720056110021474,
          0.5917007386930825,
          -1.0689105612132226,
          0.0488951354152456,
          -0.36087098324907074,
          1.1242737736714632,
          -0.20511110509632022,
          -0.1654743496565465,
          -0.6634924414541578,
          0.4946583526118568,
          -0.05517239198704125,
          0.9012076440041363,
          1.2330266439260666,
          -1.7666064304363773,
          -1.0444893910868691,
          -0.29971957399031746,
          0.5587766220340119,
          1.1558750262385846,
          -0.049985713239397,
          -1.284927538012267,
          1.0957398578759605,
          -1.2981531123337005,
          0.0454080693718198,
          -0.559186733310653,
          -0.11317711428988875,
          -0.17524544593712185,
          0.4228465953438151,
          -0.6891811731974393,
          -0.2774197054476941,
          -1.3135939143900295
         ],
         "yaxis": "y"
        },
        {
         "customdata": [
          [
           3,
           "trader",
           2
          ],
          [
           5,
           "trader",
           2
          ],
          [
           9,
           "trader",
           2
          ],
          [
           20,
           "trader",
           2
          ],
          [
           22,
           "trader",
           2
          ],
          [
           24,
           "trader",
           2
          ],
          [
           27,
           "trader",
           2
          ],
          [
           36,
           "trader",
           2
          ],
          [
           39,
           "trader",
           2
          ],
          [
           53,
           "trader",
           2
          ],
          [
           59,
           "trader",
           2
          ],
          [
           61,
           "trader",
           2
          ],
          [
           63,
           "trader",
           2
          ],
          [
           74,
           "trader",
           2
          ],
          [
           80,
           "trader",
           2
          ],
          [
           85,
           "trader",
           2
          ],
          [
           88,
           "trader",
           2
          ],
          [
           91,
           "trader",
           2
          ],
          [
           92,
           "trader",
           2
          ],
          [
           96,
           "trader",
           2
          ],
          [
           105,
           "trader",
           2
          ],
          [
           116,
           "trader",
           2
          ],
          [
           118,
           "trader",
           2
          ],
          [
           121,
           "trader",
           2
          ],
          [
           124,
           "trader",
           2
          ],
          [
           126,
           "trader",
           2
          ],
          [
           127,
           "trader",
           2
          ],
          [
           128,
           "trader",
           2
          ],
          [
           129,
           "trader",
           2
          ],
          [
           133,
           "trader",
           2
          ],
          [
           136,
           "trader",
           2
          ],
          [
           137,
           "trader",
           2
          ],
          [
           139,
           "trader",
           2
          ],
          [
           142,
           "trader",
           2
          ],
          [
           143,
           "trader",
           2
          ]
         ],
         "hovertemplate": "label=%{customdata[1]}<br>embed1=%{x}<br>embed2=%{y}<br>id=%{customdata[0]}<br>label_id=%{customdata[2]}<extra></extra>",
         "legendgroup": "trader",
         "marker": {
          "color": "#00cc96",
          "symbol": "circle"
         },
         "mode": "markers",
         "name": "trader",
         "orientation": "v",
         "showlegend": true,
         "type": "scatter",
         "x": [
          0.41214910753825057,
          0.7786556243896633,
          1.0952077459254643,
          0.32277707468203665,
          0.17054057747556536,
          0.5975427501817556,
          0.6454854623841049,
          0.889437448206759,
          0.42867352877010406,
          -0.13868439917669637,
          0.2829762722148495,
          0.6165181366334053,
          -0.35362122298188453,
          0.4127750043864825,
          -1.2034753399906883,
          -0.5761144486910327,
          0.6089073323185052,
          -0.05044445133315064,
          0.02722210158526106,
          -0.8245234748949466,
          -0.16131960121727273,
          -0.0248214827775592,
          -1.0886386910502392,
          0.07926932938863726,
          0.6379414109370992,
          -0.7918974942835927,
          0.1719439797945895,
          0.4796600201626393,
          0.29646298177523084,
          -0.8528122946884953,
          -1.2672038155461665,
          -0.5357079844699872,
          -1.010927922953774,
          0.4825746091742333,
          -0.9526865719771479
         ],
         "xaxis": "x",
         "y": [
          -0.03770191566545497,
          -1.1189785860864137,
          -0.17442016908151287,
          -1.5039257155975383,
          -1.5853307346144545,
          -0.9356335060392824,
          -0.34922350646175493,
          -0.32312540177964955,
          0.41314114568388804,
          -1.5508029997182287,
          -1.152025257651768,
          -1.44814094502264,
          -1.312995417328769,
          -1.560394682074299,
          0.1016364927758221,
          -0.3232300540879324,
          -1.2562604532781347,
          -1.0566492640129472,
          -0.885281583356287,
          0.8028287833830389,
          -0.26535638934683076,
          -0.325150671464208,
          0.5263453532586353,
          -0.6772619854926246,
          0.29314921332725496,
          -1.326115970407269,
          -0.5215462807175014,
          -0.18148682397873306,
          -0.271233209366947,
          -0.6955115935420026,
          -0.3743208108093863,
          -0.8883674813292118,
          0.22588055867308257,
          -1.4513931876355792,
          0.4178071992701988
         ],
         "yaxis": "y"
        },
        {
         "customdata": [
          [
           6,
           "employee",
           3
          ],
          [
           8,
           "employee",
           3
          ],
          [
           10,
           "employee",
           3
          ],
          [
           11,
           "employee",
           3
          ],
          [
           12,
           "employee",
           3
          ],
          [
           16,
           "employee",
           3
          ],
          [
           17,
           "employee",
           3
          ],
          [
           18,
           "employee",
           3
          ],
          [
           23,
           "employee",
           3
          ],
          [
           29,
           "employee",
           3
          ],
          [
           30,
           "employee",
           3
          ],
          [
           35,
           "employee",
           3
          ],
          [
           38,
           "employee",
           3
          ],
          [
           43,
           "employee",
           3
          ],
          [
           45,
           "employee",
           3
          ],
          [
           46,
           "employee",
           3
          ],
          [
           47,
           "employee",
           3
          ],
          [
           52,
           "employee",
           3
          ],
          [
           54,
           "employee",
           3
          ],
          [
           58,
           "employee",
           3
          ],
          [
           73,
           "employee",
           3
          ],
          [
           76,
           "employee",
           3
          ],
          [
           77,
           "employee",
           3
          ],
          [
           79,
           "employee",
           3
          ],
          [
           82,
           "employee",
           3
          ],
          [
           86,
           "employee",
           3
          ],
          [
           89,
           "employee",
           3
          ],
          [
           93,
           "employee",
           3
          ],
          [
           100,
           "employee",
           3
          ],
          [
           102,
           "employee",
           3
          ],
          [
           106,
           "employee",
           3
          ],
          [
           108,
           "employee",
           3
          ],
          [
           110,
           "employee",
           3
          ],
          [
           112,
           "employee",
           3
          ],
          [
           130,
           "employee",
           3
          ],
          [
           138,
           "employee",
           3
          ],
          [
           149,
           "employee",
           3
          ]
         ],
         "hovertemplate": "label=%{customdata[1]}<br>embed1=%{x}<br>embed2=%{y}<br>id=%{customdata[0]}<br>label_id=%{customdata[2]}<extra></extra>",
         "legendgroup": "employee",
         "marker": {
          "color": "#ab63fa",
          "symbol": "circle"
         },
         "mode": "markers",
         "name": "employee",
         "orientation": "v",
         "showlegend": true,
         "type": "scatter",
         "x": [
          -0.2846409638976987,
          -0.233882133551224,
          -0.8371944118359201,
          -0.5407323974893411,
          -0.9368025896551817,
          -0.4344168250872209,
          -0.15603603651432826,
          -0.006999842586970695,
          -1.047652198641669,
          -0.4999525334391634,
          0.0896437704535816,
          -0.7061331407827063,
          -0.506177553953183,
          0.4680847174258997,
          -0.7982232467387211,
          -0.21834385071705706,
          1.0188342429987463,
          -0.5484246612962279,
          0.9977040892577591,
          0.7711020578486604,
          -0.6638987808283681,
          -0.12979297554691138,
          0.4694060849508694,
          0.21833034948289562,
          0.5386961844223516,
          0.5805139201351089,
          -0.5081721384086684,
          0.34281694880613633,
          0.6383863125400974,
          -0.6463965143961142,
          0.6665363679153467,
          -0.4853832282566136,
          1.0854799495454246,
          0.14544809733046235,
          -0.16760815187125677,
          1.0764108556470497,
          -0.4088051807784802
         ],
         "xaxis": "x",
         "y": [
          1.4726980036294253,
          -0.9115723603922254,
          0.4504576883805344,
          -0.59040225644541,
          -0.40455957261105535,
          1.2562888550164522,
          -1.7994173123304362,
          -1.7884217313569115,
          0.8882713895879027,
          -0.7581358789156035,
          -1.876656102018195,
          0.5722351845928383,
          1.2337500122060872,
          -0.5532974290822696,
          0.9231980765040148,
          -1.3504338420962536,
          0.2515520038135095,
          0.0686019516967308,
          0.5995653911986631,
          -0.1765593176283023,
          -0.5151795734976905,
          1.2491938245198213,
          0.9461670922847325,
          0.6530695303968085,
          -0.6719965801749632,
          0.6788172973973708,
          -1.2350802454506897,
          1.3238330279354646,
          1.0565709210894139,
          1.3185420557698226,
          -0.7840277313782013,
          1.3493044516609856,
          -1.0183525968128806,
          -1.8961628737309173,
          -0.7325346181168343,
          -0.5756714342461094,
          -1.1483329534387239
         ],
         "yaxis": "y"
        }
       ],
       "layout": {
        "legend": {
         "title": {
          "text": "label"
         },
         "tracegroupgap": 0
        },
        "margin": {
         "t": 60
        },
        "template": {
         "data": {
          "bar": [
           {
            "error_x": {
             "color": "#2a3f5f"
            },
            "error_y": {
             "color": "#2a3f5f"
            },
            "marker": {
             "line": {
              "color": "#E5ECF6",
              "width": 0.5
             },
             "pattern": {
              "fillmode": "overlay",
              "size": 10,
              "solidity": 0.2
             }
            },
            "type": "bar"
           }
          ],
          "barpolar": [
           {
            "marker": {
             "line": {
              "color": "#E5ECF6",
              "width": 0.5
             },
             "pattern": {
              "fillmode": "overlay",
              "size": 10,
              "solidity": 0.2
             }
            },
            "type": "barpolar"
           }
          ],
          "carpet": [
           {
            "aaxis": {
             "endlinecolor": "#2a3f5f",
             "gridcolor": "white",
             "linecolor": "white",
             "minorgridcolor": "white",
             "startlinecolor": "#2a3f5f"
            },
            "baxis": {
             "endlinecolor": "#2a3f5f",
             "gridcolor": "white",
             "linecolor": "white",
             "minorgridcolor": "white",
             "startlinecolor": "#2a3f5f"
            },
            "type": "carpet"
           }
          ],
          "choropleth": [
           {
            "colorbar": {
             "outlinewidth": 0,
             "ticks": ""
            },
            "type": "choropleth"
           }
          ],
          "contour": [
           {
            "colorbar": {
             "outlinewidth": 0,
             "ticks": ""
            },
            "colorscale": [
             [
              0,
              "#0d0887"
             ],
             [
              0.1111111111111111,
              "#46039f"
             ],
             [
              0.2222222222222222,
              "#7201a8"
             ],
             [
              0.3333333333333333,
              "#9c179e"
             ],
             [
              0.4444444444444444,
              "#bd3786"
             ],
             [
              0.5555555555555556,
              "#d8576b"
             ],
             [
              0.6666666666666666,
              "#ed7953"
             ],
             [
              0.7777777777777778,
              "#fb9f3a"
             ],
             [
              0.8888888888888888,
              "#fdca26"
             ],
             [
              1,
              "#f0f921"
             ]
            ],
            "type": "contour"
           }
          ],
          "contourcarpet": [
           {
            "colorbar": {
             "outlinewidth": 0,
             "ticks": ""
            },
            "type": "contourcarpet"
           }
          ],
          "heatmap": [
           {
            "colorbar": {
             "outlinewidth": 0,
             "ticks": ""
            },
            "colorscale": [
             [
              0,
              "#0d0887"
             ],
             [
              0.1111111111111111,
              "#46039f"
             ],
             [
              0.2222222222222222,
              "#7201a8"
             ],
             [
              0.3333333333333333,
              "#9c179e"
             ],
             [
              0.4444444444444444,
              "#bd3786"
             ],
             [
              0.5555555555555556,
              "#d8576b"
             ],
             [
              0.6666666666666666,
              "#ed7953"
             ],
             [
              0.7777777777777778,
              "#fb9f3a"
             ],
             [
              0.8888888888888888,
              "#fdca26"
             ],
             [
              1,
              "#f0f921"
             ]
            ],
            "type": "heatmap"
           }
          ],
          "heatmapgl": [
           {
            "colorbar": {
             "outlinewidth": 0,
             "ticks": ""
            },
            "colorscale": [
             [
              0,
              "#0d0887"
             ],
             [
              0.1111111111111111,
              "#46039f"
             ],
             [
              0.2222222222222222,
              "#7201a8"
             ],
             [
              0.3333333333333333,
              "#9c179e"
             ],
             [
              0.4444444444444444,
              "#bd3786"
             ],
             [
              0.5555555555555556,
              "#d8576b"
             ],
             [
              0.6666666666666666,
              "#ed7953"
             ],
             [
              0.7777777777777778,
              "#fb9f3a"
             ],
             [
              0.8888888888888888,
              "#fdca26"
             ],
             [
              1,
              "#f0f921"
             ]
            ],
            "type": "heatmapgl"
           }
          ],
          "histogram": [
           {
            "marker": {
             "pattern": {
              "fillmode": "overlay",
              "size": 10,
              "solidity": 0.2
             }
            },
            "type": "histogram"
           }
          ],
          "histogram2d": [
           {
            "colorbar": {
             "outlinewidth": 0,
             "ticks": ""
            },
            "colorscale": [
             [
              0,
              "#0d0887"
             ],
             [
              0.1111111111111111,
              "#46039f"
             ],
             [
              0.2222222222222222,
              "#7201a8"
             ],
             [
              0.3333333333333333,
              "#9c179e"
             ],
             [
              0.4444444444444444,
              "#bd3786"
             ],
             [
              0.5555555555555556,
              "#d8576b"
             ],
             [
              0.6666666666666666,
              "#ed7953"
             ],
             [
              0.7777777777777778,
              "#fb9f3a"
             ],
             [
              0.8888888888888888,
              "#fdca26"
             ],
             [
              1,
              "#f0f921"
             ]
            ],
            "type": "histogram2d"
           }
          ],
          "histogram2dcontour": [
           {
            "colorbar": {
             "outlinewidth": 0,
             "ticks": ""
            },
            "colorscale": [
             [
              0,
              "#0d0887"
             ],
             [
              0.1111111111111111,
              "#46039f"
             ],
             [
              0.2222222222222222,
              "#7201a8"
             ],
             [
              0.3333333333333333,
              "#9c179e"
             ],
             [
              0.4444444444444444,
              "#bd3786"
             ],
             [
              0.5555555555555556,
              "#d8576b"
             ],
             [
              0.6666666666666666,
              "#ed7953"
             ],
             [
              0.7777777777777778,
              "#fb9f3a"
             ],
             [
              0.8888888888888888,
              "#fdca26"
             ],
             [
              1,
              "#f0f921"
             ]
            ],
            "type": "histogram2dcontour"
           }
          ],
          "mesh3d": [
           {
            "colorbar": {
             "outlinewidth": 0,
             "ticks": ""
            },
            "type": "mesh3d"
           }
          ],
          "parcoords": [
           {
            "line": {
             "colorbar": {
              "outlinewidth": 0,
              "ticks": ""
             }
            },
            "type": "parcoords"
           }
          ],
          "pie": [
           {
            "automargin": true,
            "type": "pie"
           }
          ],
          "scatter": [
           {
            "fillpattern": {
             "fillmode": "overlay",
             "size": 10,
             "solidity": 0.2
            },
            "type": "scatter"
           }
          ],
          "scatter3d": [
           {
            "line": {
             "colorbar": {
              "outlinewidth": 0,
              "ticks": ""
             }
            },
            "marker": {
             "colorbar": {
              "outlinewidth": 0,
              "ticks": ""
             }
            },
            "type": "scatter3d"
           }
          ],
          "scattercarpet": [
           {
            "marker": {
             "colorbar": {
              "outlinewidth": 0,
              "ticks": ""
             }
            },
            "type": "scattercarpet"
           }
          ],
          "scattergeo": [
           {
            "marker": {
             "colorbar": {
              "outlinewidth": 0,
              "ticks": ""
             }
            },
            "type": "scattergeo"
           }
          ],
          "scattergl": [
           {
            "marker": {
             "colorbar": {
              "outlinewidth": 0,
              "ticks": ""
             }
            },
            "type": "scattergl"
           }
          ],
          "scattermapbox": [
           {
            "marker": {
             "colorbar": {
              "outlinewidth": 0,
              "ticks": ""
             }
            },
            "type": "scattermapbox"
           }
          ],
          "scatterpolar": [
           {
            "marker": {
             "colorbar": {
              "outlinewidth": 0,
              "ticks": ""
             }
            },
            "type": "scatterpolar"
           }
          ],
          "scatterpolargl": [
           {
            "marker": {
             "colorbar": {
              "outlinewidth": 0,
              "ticks": ""
             }
            },
            "type": "scatterpolargl"
           }
          ],
          "scatterternary": [
           {
            "marker": {
             "colorbar": {
              "outlinewidth": 0,
              "ticks": ""
             }
            },
            "type": "scatterternary"
           }
          ],
          "surface": [
           {
            "colorbar": {
             "outlinewidth": 0,
             "ticks": ""
            },
            "colorscale": [
             [
              0,
              "#0d0887"
             ],
             [
              0.1111111111111111,
              "#46039f"
             ],
             [
              0.2222222222222222,
              "#7201a8"
             ],
             [
              0.3333333333333333,
              "#9c179e"
             ],
             [
              0.4444444444444444,
              "#bd3786"
             ],
             [
              0.5555555555555556,
              "#d8576b"
             ],
             [
              0.6666666666666666,
              "#ed7953"
             ],
             [
              0.7777777777777778,
              "#fb9f3a"
             ],
             [
              0.8888888888888888,
              "#fdca26"
             ],
             [
              1,
              "#f0f921"
             ]
            ],
            "type": "surface"
           }
          ],
          "table": [
           {
            "cells": {
             "fill": {
              "color": "#EBF0F8"
             },
             "line": {
              "color": "white"
             }
            },
            "header": {
             "fill": {
              "color": "#C8D4E3"
             },
             "line": {
              "color": "white"
             }
            },
            "type": "table"
           }
          ]
         },
         "layout": {
          "annotationdefaults": {
           "arrowcolor": "#2a3f5f",
           "arrowhead": 0,
           "arrowwidth": 1
          },
          "autotypenumbers": "strict",
          "coloraxis": {
           "colorbar": {
            "outlinewidth": 0,
            "ticks": ""
           }
          },
          "colorscale": {
           "diverging": [
            [
             0,
             "#8e0152"
            ],
            [
             0.1,
             "#c51b7d"
            ],
            [
             0.2,
             "#de77ae"
            ],
            [
             0.3,
             "#f1b6da"
            ],
            [
             0.4,
             "#fde0ef"
            ],
            [
             0.5,
             "#f7f7f7"
            ],
            [
             0.6,
             "#e6f5d0"
            ],
            [
             0.7,
             "#b8e186"
            ],
            [
             0.8,
             "#7fbc41"
            ],
            [
             0.9,
             "#4d9221"
            ],
            [
             1,
             "#276419"
            ]
           ],
           "sequential": [
            [
             0,
             "#0d0887"
            ],
            [
             0.1111111111111111,
             "#46039f"
            ],
            [
             0.2222222222222222,
             "#7201a8"
            ],
            [
             0.3333333333333333,
             "#9c179e"
            ],
            [
             0.4444444444444444,
             "#bd3786"
            ],
            [
             0.5555555555555556,
             "#d8576b"
            ],
            [
             0.6666666666666666,
             "#ed7953"
            ],
            [
             0.7777777777777778,
             "#fb9f3a"
            ],
            [
             0.8888888888888888,
             "#fdca26"
            ],
            [
             1,
             "#f0f921"
            ]
           ],
           "sequentialminus": [
            [
             0,
             "#0d0887"
            ],
            [
             0.1111111111111111,
             "#46039f"
            ],
            [
             0.2222222222222222,
             "#7201a8"
            ],
            [
             0.3333333333333333,
             "#9c179e"
            ],
            [
             0.4444444444444444,
             "#bd3786"
            ],
            [
             0.5555555555555556,
             "#d8576b"
            ],
            [
             0.6666666666666666,
             "#ed7953"
            ],
            [
             0.7777777777777778,
             "#fb9f3a"
            ],
            [
             0.8888888888888888,
             "#fdca26"
            ],
            [
             1,
             "#f0f921"
            ]
           ]
          },
          "colorway": [
           "#636efa",
           "#EF553B",
           "#00cc96",
           "#ab63fa",
           "#FFA15A",
           "#19d3f3",
           "#FF6692",
           "#B6E880",
           "#FF97FF",
           "#FECB52"
          ],
          "font": {
           "color": "#2a3f5f"
          },
          "geo": {
           "bgcolor": "white",
           "lakecolor": "white",
           "landcolor": "#E5ECF6",
           "showlakes": true,
           "showland": true,
           "subunitcolor": "white"
          },
          "hoverlabel": {
           "align": "left"
          },
          "hovermode": "closest",
          "mapbox": {
           "style": "light"
          },
          "paper_bgcolor": "white",
          "plot_bgcolor": "#E5ECF6",
          "polar": {
           "angularaxis": {
            "gridcolor": "white",
            "linecolor": "white",
            "ticks": ""
           },
           "bgcolor": "#E5ECF6",
           "radialaxis": {
            "gridcolor": "white",
            "linecolor": "white",
            "ticks": ""
           }
          },
          "scene": {
           "xaxis": {
            "backgroundcolor": "#E5ECF6",
            "gridcolor": "white",
            "gridwidth": 2,
            "linecolor": "white",
            "showbackground": true,
            "ticks": "",
            "zerolinecolor": "white"
           },
           "yaxis": {
            "backgroundcolor": "#E5ECF6",
            "gridcolor": "white",
            "gridwidth": 2,
            "linecolor": "white",
            "showbackground": true,
            "ticks": "",
            "zerolinecolor": "white"
           },
           "zaxis": {
            "backgroundcolor": "#E5ECF6",
            "gridcolor": "white",
            "gridwidth": 2,
            "linecolor": "white",
            "showbackground": true,
            "ticks": "",
            "zerolinecolor": "white"
           }
          },
          "shapedefaults": {
           "line": {
            "color": "#2a3f5f"
           }
          },
          "ternary": {
           "aaxis": {
            "gridcolor": "white",
            "linecolor": "white",
            "ticks": ""
           },
           "baxis": {
            "gridcolor": "white",
            "linecolor": "white",
            "ticks": ""
           },
           "bgcolor": "#E5ECF6",
           "caxis": {
            "gridcolor": "white",
            "linecolor": "white",
            "ticks": ""
           }
          },
          "title": {
           "x": 0.05
          },
          "xaxis": {
           "automargin": true,
           "gridcolor": "white",
           "linecolor": "white",
           "ticks": "",
           "title": {
            "standoff": 15
           },
           "zerolinecolor": "white",
           "zerolinewidth": 2
          },
          "yaxis": {
           "automargin": true,
           "gridcolor": "white",
           "linecolor": "white",
           "ticks": "",
           "title": {
            "standoff": 15
           },
           "zerolinecolor": "white",
           "zerolinewidth": 2
          }
         }
        },
        "xaxis": {
         "anchor": "y",
         "domain": [
          0,
          1
         ],
         "title": {
          "text": "embed1"
         }
        },
        "yaxis": {
         "anchor": "x",
         "domain": [
          0,
          1
         ],
         "title": {
          "text": "embed2"
         }
        }
       }
      }
     },
     "metadata": {},
     "output_type": "display_data"
    }
   ],
   "source": [
    "algo = GraphCaseWrapper\n",
    "embed_gc2, tbl_gc2 = calculate_graphcase_embedding(\n",
    "    G2, algo.LOCATION, params=algo.COMP_PARAMS, verbose=False, algo=algo\n",
    ")\n",
    "plotly_embedding(tbl_gc2)"
   ]
  },
  {
   "cell_type": "markdown",
   "metadata": {},
   "source": [
    "# performance - sub-graph - smry labels"
   ]
  },
  {
   "cell_type": "code",
   "execution_count": null,
   "metadata": {},
   "outputs": [],
   "source": [
    "%%capture\n",
    "import mlflow\n",
    "from graphcase_experiments.experiments.enron_comp import calc_enron_performance\n",
    "_, smry_df = calc_enron_performance(G=G2, test_size=0.5, runs=5)\n",
    "smry_df"
   ]
  },
  {
   "cell_type": "code",
   "execution_count": 7,
   "metadata": {},
   "outputs": [
    {
     "data": {
      "text/html": [
       "<div>\n",
       "<style scoped>\n",
       "    .dataframe tbody tr th:only-of-type {\n",
       "        vertical-align: middle;\n",
       "    }\n",
       "\n",
       "    .dataframe tbody tr th {\n",
       "        vertical-align: top;\n",
       "    }\n",
       "\n",
       "    .dataframe thead tr th {\n",
       "        text-align: left;\n",
       "    }\n",
       "\n",
       "    .dataframe thead tr:last-of-type th {\n",
       "        text-align: right;\n",
       "    }\n",
       "</style>\n",
       "<table border=\"1\" class=\"dataframe\">\n",
       "  <thead>\n",
       "    <tr>\n",
       "      <th></th>\n",
       "      <th colspan=\"2\" halign=\"left\">ami</th>\n",
       "      <th colspan=\"2\" halign=\"left\">f1_macro</th>\n",
       "      <th colspan=\"2\" halign=\"left\">f1_micro</th>\n",
       "    </tr>\n",
       "    <tr>\n",
       "      <th></th>\n",
       "      <th>mean</th>\n",
       "      <th>std</th>\n",
       "      <th>mean</th>\n",
       "      <th>std</th>\n",
       "      <th>mean</th>\n",
       "      <th>std</th>\n",
       "    </tr>\n",
       "    <tr>\n",
       "      <th>algo</th>\n",
       "      <th></th>\n",
       "      <th></th>\n",
       "      <th></th>\n",
       "      <th></th>\n",
       "      <th></th>\n",
       "      <th></th>\n",
       "    </tr>\n",
       "  </thead>\n",
       "  <tbody>\n",
       "    <tr>\n",
       "      <th>DGI</th>\n",
       "      <td>0.075871</td>\n",
       "      <td>1.455521e-02</td>\n",
       "      <td>0.288071</td>\n",
       "      <td>0.054154</td>\n",
       "      <td>0.360526</td>\n",
       "      <td>0.065526</td>\n",
       "    </tr>\n",
       "    <tr>\n",
       "      <th>Drne</th>\n",
       "      <td>0.106291</td>\n",
       "      <td>2.474560e-03</td>\n",
       "      <td>0.348732</td>\n",
       "      <td>0.029010</td>\n",
       "      <td>0.439474</td>\n",
       "      <td>0.023903</td>\n",
       "    </tr>\n",
       "    <tr>\n",
       "      <th>GraphCASE</th>\n",
       "      <td>0.118823</td>\n",
       "      <td>2.203668e-02</td>\n",
       "      <td>0.443431</td>\n",
       "      <td>0.016346</td>\n",
       "      <td>0.460526</td>\n",
       "      <td>0.016115</td>\n",
       "    </tr>\n",
       "    <tr>\n",
       "      <th>MultiLENS</th>\n",
       "      <td>0.010889</td>\n",
       "      <td>0.000000e+00</td>\n",
       "      <td>0.188461</td>\n",
       "      <td>0.045152</td>\n",
       "      <td>0.386842</td>\n",
       "      <td>0.007207</td>\n",
       "    </tr>\n",
       "    <tr>\n",
       "      <th>baseline</th>\n",
       "      <td>0.073897</td>\n",
       "      <td>3.142117e-03</td>\n",
       "      <td>0.317187</td>\n",
       "      <td>0.059481</td>\n",
       "      <td>0.392105</td>\n",
       "      <td>0.032763</td>\n",
       "    </tr>\n",
       "    <tr>\n",
       "      <th>role2vec</th>\n",
       "      <td>0.048020</td>\n",
       "      <td>2.034863e-02</td>\n",
       "      <td>0.335288</td>\n",
       "      <td>0.037598</td>\n",
       "      <td>0.392000</td>\n",
       "      <td>0.052999</td>\n",
       "    </tr>\n",
       "    <tr>\n",
       "      <th>xnetmf</th>\n",
       "      <td>0.035191</td>\n",
       "      <td>1.003446e-02</td>\n",
       "      <td>0.226922</td>\n",
       "      <td>0.075052</td>\n",
       "      <td>0.360526</td>\n",
       "      <td>0.035551</td>\n",
       "    </tr>\n",
       "    <tr>\n",
       "      <th>xnetmf_with_transformation</th>\n",
       "      <td>0.094247</td>\n",
       "      <td>1.387779e-17</td>\n",
       "      <td>0.295520</td>\n",
       "      <td>0.056601</td>\n",
       "      <td>0.415789</td>\n",
       "      <td>0.035551</td>\n",
       "    </tr>\n",
       "  </tbody>\n",
       "</table>\n",
       "</div>"
      ],
      "text/plain": [
       "                                 ami                f1_macro            \\\n",
       "                                mean           std      mean       std   \n",
       "algo                                                                     \n",
       "DGI                         0.075871  1.455521e-02  0.288071  0.054154   \n",
       "Drne                        0.106291  2.474560e-03  0.348732  0.029010   \n",
       "GraphCASE                   0.118823  2.203668e-02  0.443431  0.016346   \n",
       "MultiLENS                   0.010889  0.000000e+00  0.188461  0.045152   \n",
       "baseline                    0.073897  3.142117e-03  0.317187  0.059481   \n",
       "role2vec                    0.048020  2.034863e-02  0.335288  0.037598   \n",
       "xnetmf                      0.035191  1.003446e-02  0.226922  0.075052   \n",
       "xnetmf_with_transformation  0.094247  1.387779e-17  0.295520  0.056601   \n",
       "\n",
       "                            f1_micro            \n",
       "                                mean       std  \n",
       "algo                                            \n",
       "DGI                         0.360526  0.065526  \n",
       "Drne                        0.439474  0.023903  \n",
       "GraphCASE                   0.460526  0.016115  \n",
       "MultiLENS                   0.386842  0.007207  \n",
       "baseline                    0.392105  0.032763  \n",
       "role2vec                    0.392000  0.052999  \n",
       "xnetmf                      0.360526  0.035551  \n",
       "xnetmf_with_transformation  0.415789  0.035551  "
      ]
     },
     "execution_count": 7,
     "metadata": {},
     "output_type": "execute_result"
    }
   ],
   "source": [
    "smry_df"
   ]
  },
  {
   "cell_type": "markdown",
   "metadata": {},
   "source": [
    "\n",
    "# perf support size 15\n"
   ]
  },
  {
   "cell_type": "code",
   "execution_count": 16,
   "metadata": {},
   "outputs": [
    {
     "name": "stderr",
     "output_type": "stream",
     "text": [
      "WARNING:absl:Found untraced functions such as dense_168_layer_call_fn, dense_168_layer_call_and_return_conditional_losses, dense_169_layer_call_fn, dense_169_layer_call_and_return_conditional_losses while saving (showing 4 of 4). These functions will not be directly callable after loading.\n",
      "WARNING:absl:Found untraced functions such as dense_178_layer_call_fn, dense_178_layer_call_and_return_conditional_losses, dense_179_layer_call_fn, dense_179_layer_call_and_return_conditional_losses while saving (showing 4 of 4). These functions will not be directly callable after loading.\n",
      "WARNING:absl:Found untraced functions such as dense_188_layer_call_fn, dense_188_layer_call_and_return_conditional_losses, dense_189_layer_call_fn, dense_189_layer_call_and_return_conditional_losses while saving (showing 4 of 4). These functions will not be directly callable after loading.\n",
      "WARNING:absl:Found untraced functions such as dense_198_layer_call_fn, dense_198_layer_call_and_return_conditional_losses, dense_199_layer_call_fn, dense_199_layer_call_and_return_conditional_losses while saving (showing 4 of 4). These functions will not be directly callable after loading.\n",
      "WARNING:absl:Found untraced functions such as dense_208_layer_call_fn, dense_208_layer_call_and_return_conditional_losses, dense_209_layer_call_fn, dense_209_layer_call_and_return_conditional_losses while saving (showing 4 of 4). These functions will not be directly callable after loading.\n",
      "/Users/tonpoppe/workspace/graphcase_experiments/graphcase_experiments/graphcase_experiments/experiments/enron_comp.py:58: FutureWarning:\n",
      "\n",
      "Indexing with multiple keys (implicitly converted to a tuple of keys) will be deprecated, use a list instead.\n",
      "\n"
     ]
    }
   ],
   "source": [
    "from graphcase_experiments.algos.GraphCaseWrapper import GraphCaseWrapper\n",
    "import tensorflow as tf\n",
    "\n",
    "class alt_gc(GraphCaseWrapper):\n",
    "    ENRON_PARAMS = {\n",
    "        'batch_size': 30,\n",
    "        'hub0_feature_with_neighb_dim': 128,\n",
    "        'verbose': False,\n",
    "        'seed': 1,\n",
    "        'encoder_labels': ['attr1', 'attr2'],\n",
    "        'learning_rate': 0.0003668872396300966,\n",
    "        'act': tf.nn.sigmoid,\n",
    "        'useBN': True,\n",
    "        'dropout': 0.09859650451427784,\n",
    "        'support_size': [15, 15],\n",
    "        'dims': [3, 128, 128, 128],\n",
    "        'epochs': 500,\n",
    "    }\n",
    "\n",
    "_, smry_df2 = calc_enron_performance(G=G2, algos=[alt_gc], test_size=0.5, runs=5)"
   ]
  },
  {
   "cell_type": "code",
   "execution_count": 17,
   "metadata": {},
   "outputs": [
    {
     "data": {
      "text/html": [
       "<div>\n",
       "<style scoped>\n",
       "    .dataframe tbody tr th:only-of-type {\n",
       "        vertical-align: middle;\n",
       "    }\n",
       "\n",
       "    .dataframe tbody tr th {\n",
       "        vertical-align: top;\n",
       "    }\n",
       "\n",
       "    .dataframe thead tr th {\n",
       "        text-align: left;\n",
       "    }\n",
       "\n",
       "    .dataframe thead tr:last-of-type th {\n",
       "        text-align: right;\n",
       "    }\n",
       "</style>\n",
       "<table border=\"1\" class=\"dataframe\">\n",
       "  <thead>\n",
       "    <tr>\n",
       "      <th></th>\n",
       "      <th colspan=\"2\" halign=\"left\">ami</th>\n",
       "      <th colspan=\"2\" halign=\"left\">f1_macro</th>\n",
       "      <th colspan=\"2\" halign=\"left\">f1_micro</th>\n",
       "    </tr>\n",
       "    <tr>\n",
       "      <th></th>\n",
       "      <th>mean</th>\n",
       "      <th>std</th>\n",
       "      <th>mean</th>\n",
       "      <th>std</th>\n",
       "      <th>mean</th>\n",
       "      <th>std</th>\n",
       "    </tr>\n",
       "    <tr>\n",
       "      <th>algo</th>\n",
       "      <th></th>\n",
       "      <th></th>\n",
       "      <th></th>\n",
       "      <th></th>\n",
       "      <th></th>\n",
       "      <th></th>\n",
       "    </tr>\n",
       "  </thead>\n",
       "  <tbody>\n",
       "    <tr>\n",
       "      <th>GraphCASE</th>\n",
       "      <td>0.153535</td>\n",
       "      <td>0.013607</td>\n",
       "      <td>0.394283</td>\n",
       "      <td>0.043237</td>\n",
       "      <td>0.434211</td>\n",
       "      <td>0.04364</td>\n",
       "    </tr>\n",
       "  </tbody>\n",
       "</table>\n",
       "</div>"
      ],
      "text/plain": [
       "                ami            f1_macro            f1_micro         \n",
       "               mean       std      mean       std      mean      std\n",
       "algo                                                                \n",
       "GraphCASE  0.153535  0.013607  0.394283  0.043237  0.434211  0.04364"
      ]
     },
     "execution_count": 17,
     "metadata": {},
     "output_type": "execute_result"
    }
   ],
   "source": [
    "smry_df2"
   ]
  },
  {
   "cell_type": "markdown",
   "metadata": {},
   "source": [
    "# perf 3 layers"
   ]
  },
  {
   "cell_type": "code",
   "execution_count": 18,
   "metadata": {},
   "outputs": [
    {
     "name": "stderr",
     "output_type": "stream",
     "text": [
      "WARNING:absl:Found untraced functions such as dense_222_layer_call_fn, dense_222_layer_call_and_return_conditional_losses, dense_223_layer_call_fn, dense_223_layer_call_and_return_conditional_losses while saving (showing 4 of 4). These functions will not be directly callable after loading.\n",
      "WARNING:absl:Found untraced functions such as dense_236_layer_call_fn, dense_236_layer_call_and_return_conditional_losses, dense_237_layer_call_fn, dense_237_layer_call_and_return_conditional_losses while saving (showing 4 of 4). These functions will not be directly callable after loading.\n",
      "WARNING:absl:Found untraced functions such as dense_250_layer_call_fn, dense_250_layer_call_and_return_conditional_losses, dense_251_layer_call_fn, dense_251_layer_call_and_return_conditional_losses while saving (showing 4 of 4). These functions will not be directly callable after loading.\n",
      "WARNING:absl:Found untraced functions such as dense_264_layer_call_fn, dense_264_layer_call_and_return_conditional_losses, dense_265_layer_call_fn, dense_265_layer_call_and_return_conditional_losses while saving (showing 4 of 4). These functions will not be directly callable after loading.\n",
      "WARNING:absl:Found untraced functions such as dense_278_layer_call_fn, dense_278_layer_call_and_return_conditional_losses, dense_279_layer_call_fn, dense_279_layer_call_and_return_conditional_losses while saving (showing 4 of 4). These functions will not be directly callable after loading.\n",
      "/Users/tonpoppe/workspace/graphcase_experiments/graphcase_experiments/graphcase_experiments/experiments/enron_comp.py:58: FutureWarning:\n",
      "\n",
      "Indexing with multiple keys (implicitly converted to a tuple of keys) will be deprecated, use a list instead.\n",
      "\n"
     ]
    }
   ],
   "source": [
    "class alt_gc2(GraphCaseWrapper):\n",
    "    ENRON_PARAMS = {\n",
    "        'batch_size': 30,\n",
    "        'hub0_feature_with_neighb_dim': 128,\n",
    "        'verbose': False,\n",
    "        'seed': 1,\n",
    "        'encoder_labels': ['attr1', 'attr2'],\n",
    "        'learning_rate': 0.0003668872396300966,\n",
    "        'act': tf.nn.sigmoid,\n",
    "        'useBN': True,\n",
    "        'dropout': 0.09859650451427784,\n",
    "        'support_size': [7,7,7],\n",
    "        'dims': [3, 128, 128, 128, 128, 128],\n",
    "        'epochs': 500,\n",
    "    }\n",
    "\n",
    "_, smry_df3 = calc_enron_performance(G=G2, algos=[alt_gc2], test_size=0.5, runs=5)"
   ]
  },
  {
   "cell_type": "code",
   "execution_count": 20,
   "metadata": {},
   "outputs": [
    {
     "data": {
      "text/html": [
       "<div>\n",
       "<style scoped>\n",
       "    .dataframe tbody tr th:only-of-type {\n",
       "        vertical-align: middle;\n",
       "    }\n",
       "\n",
       "    .dataframe tbody tr th {\n",
       "        vertical-align: top;\n",
       "    }\n",
       "\n",
       "    .dataframe thead tr th {\n",
       "        text-align: left;\n",
       "    }\n",
       "\n",
       "    .dataframe thead tr:last-of-type th {\n",
       "        text-align: right;\n",
       "    }\n",
       "</style>\n",
       "<table border=\"1\" class=\"dataframe\">\n",
       "  <thead>\n",
       "    <tr>\n",
       "      <th></th>\n",
       "      <th colspan=\"2\" halign=\"left\">ami</th>\n",
       "      <th colspan=\"2\" halign=\"left\">f1_macro</th>\n",
       "      <th colspan=\"2\" halign=\"left\">f1_micro</th>\n",
       "    </tr>\n",
       "    <tr>\n",
       "      <th></th>\n",
       "      <th>mean</th>\n",
       "      <th>std</th>\n",
       "      <th>mean</th>\n",
       "      <th>std</th>\n",
       "      <th>mean</th>\n",
       "      <th>std</th>\n",
       "    </tr>\n",
       "    <tr>\n",
       "      <th>algo</th>\n",
       "      <th></th>\n",
       "      <th></th>\n",
       "      <th></th>\n",
       "      <th></th>\n",
       "      <th></th>\n",
       "      <th></th>\n",
       "    </tr>\n",
       "  </thead>\n",
       "  <tbody>\n",
       "    <tr>\n",
       "      <th>GraphCASE</th>\n",
       "      <td>0.107288</td>\n",
       "      <td>0.01503</td>\n",
       "      <td>0.435792</td>\n",
       "      <td>0.023878</td>\n",
       "      <td>0.460526</td>\n",
       "      <td>0.024616</td>\n",
       "    </tr>\n",
       "  </tbody>\n",
       "</table>\n",
       "</div>"
      ],
      "text/plain": [
       "                ami           f1_macro            f1_micro          \n",
       "               mean      std      mean       std      mean       std\n",
       "algo                                                                \n",
       "GraphCASE  0.107288  0.01503  0.435792  0.023878  0.460526  0.024616"
      ]
     },
     "execution_count": 20,
     "metadata": {},
     "output_type": "execute_result"
    }
   ],
   "source": [
    "smry_df3"
   ]
  },
  {
   "cell_type": "markdown",
   "metadata": {},
   "source": [
    "# learning rate"
   ]
  },
  {
   "cell_type": "code",
   "execution_count": 23,
   "metadata": {},
   "outputs": [
    {
     "name": "stderr",
     "output_type": "stream",
     "text": [
      "WARNING:absl:Found untraced functions such as dense_358_layer_call_fn, dense_358_layer_call_and_return_conditional_losses, dense_359_layer_call_fn, dense_359_layer_call_and_return_conditional_losses while saving (showing 4 of 4). These functions will not be directly callable after loading.\n",
      "WARNING:absl:Found untraced functions such as dense_368_layer_call_fn, dense_368_layer_call_and_return_conditional_losses, dense_369_layer_call_fn, dense_369_layer_call_and_return_conditional_losses while saving (showing 4 of 4). These functions will not be directly callable after loading.\n",
      "WARNING:absl:Found untraced functions such as dense_378_layer_call_fn, dense_378_layer_call_and_return_conditional_losses, dense_379_layer_call_fn, dense_379_layer_call_and_return_conditional_losses while saving (showing 4 of 4). These functions will not be directly callable after loading.\n",
      "WARNING:absl:Found untraced functions such as dense_388_layer_call_fn, dense_388_layer_call_and_return_conditional_losses, dense_389_layer_call_fn, dense_389_layer_call_and_return_conditional_losses while saving (showing 4 of 4). These functions will not be directly callable after loading.\n",
      "WARNING:absl:Found untraced functions such as dense_398_layer_call_fn, dense_398_layer_call_and_return_conditional_losses, dense_399_layer_call_fn, dense_399_layer_call_and_return_conditional_losses while saving (showing 4 of 4). These functions will not be directly callable after loading.\n",
      "/Users/tonpoppe/workspace/graphcase_experiments/graphcase_experiments/graphcase_experiments/experiments/enron_comp.py:58: FutureWarning:\n",
      "\n",
      "Indexing with multiple keys (implicitly converted to a tuple of keys) will be deprecated, use a list instead.\n",
      "\n"
     ]
    }
   ],
   "source": [
    "\n",
    "class alt_gc3(GraphCaseWrapper):\n",
    "    ENRON_PARAMS = {\n",
    "        'batch_size': 30,\n",
    "        'hub0_feature_with_neighb_dim': 128,\n",
    "        'verbose': False,\n",
    "        'seed': 1,\n",
    "        'encoder_labels': ['attr1', 'attr2'],\n",
    "        'learning_rate': 0.0001,\n",
    "        'act': tf.nn.sigmoid,\n",
    "        'useBN': True,\n",
    "        'dropout': 0.09859650451427784,\n",
    "        'support_size': [7, 7],\n",
    "        'dims': [3, 128, 128, 128],\n",
    "        'epochs': 500,\n",
    "    }\n",
    "\n",
    "_, smry_df4 = calc_enron_performance(G=G2, algos=[alt_gc3], test_size=0.5, runs=5)"
   ]
  },
  {
   "cell_type": "code",
   "execution_count": 24,
   "metadata": {},
   "outputs": [
    {
     "data": {
      "text/html": [
       "<div>\n",
       "<style scoped>\n",
       "    .dataframe tbody tr th:only-of-type {\n",
       "        vertical-align: middle;\n",
       "    }\n",
       "\n",
       "    .dataframe tbody tr th {\n",
       "        vertical-align: top;\n",
       "    }\n",
       "\n",
       "    .dataframe thead tr th {\n",
       "        text-align: left;\n",
       "    }\n",
       "\n",
       "    .dataframe thead tr:last-of-type th {\n",
       "        text-align: right;\n",
       "    }\n",
       "</style>\n",
       "<table border=\"1\" class=\"dataframe\">\n",
       "  <thead>\n",
       "    <tr>\n",
       "      <th></th>\n",
       "      <th colspan=\"2\" halign=\"left\">ami</th>\n",
       "      <th colspan=\"2\" halign=\"left\">f1_macro</th>\n",
       "      <th colspan=\"2\" halign=\"left\">f1_micro</th>\n",
       "    </tr>\n",
       "    <tr>\n",
       "      <th></th>\n",
       "      <th>mean</th>\n",
       "      <th>std</th>\n",
       "      <th>mean</th>\n",
       "      <th>std</th>\n",
       "      <th>mean</th>\n",
       "      <th>std</th>\n",
       "    </tr>\n",
       "    <tr>\n",
       "      <th>algo</th>\n",
       "      <th></th>\n",
       "      <th></th>\n",
       "      <th></th>\n",
       "      <th></th>\n",
       "      <th></th>\n",
       "      <th></th>\n",
       "    </tr>\n",
       "  </thead>\n",
       "  <tbody>\n",
       "    <tr>\n",
       "      <th>GraphCASE</th>\n",
       "      <td>0.122114</td>\n",
       "      <td>0.015103</td>\n",
       "      <td>0.42625</td>\n",
       "      <td>0.048947</td>\n",
       "      <td>0.436842</td>\n",
       "      <td>0.049583</td>\n",
       "    </tr>\n",
       "  </tbody>\n",
       "</table>\n",
       "</div>"
      ],
      "text/plain": [
       "                ami           f1_macro            f1_micro          \n",
       "               mean       std     mean       std      mean       std\n",
       "algo                                                                \n",
       "GraphCASE  0.122114  0.015103  0.42625  0.048947  0.436842  0.049583"
      ]
     },
     "execution_count": 24,
     "metadata": {},
     "output_type": "execute_result"
    }
   ],
   "source": [
    "smry_df4"
   ]
  },
  {
   "cell_type": "code",
   "execution_count": 25,
   "metadata": {},
   "outputs": [],
   "source": [
    "class alt_gc3(GraphCaseWrapper):\n",
    "    ENRON_PARAMS = {\n",
    "        'batch_size': 30,\n",
    "        'hub0_feature_with_neighb_dim': 128,\n",
    "        'verbose': False,\n",
    "        'seed': 1,\n",
    "        'encoder_labels': ['attr1', 'attr2'],\n",
    "        'learning_rate': 0.007,\n",
    "        'act': tf.nn.sigmoid,\n",
    "        'useBN': True,\n",
    "        'dropout': 0.09859650451427784,\n",
    "        'support_size': [7, 7],\n",
    "        'dims': [3, 128, 128, 128],\n",
    "        'epochs': 1000,\n",
    "    }\n",
    "\n",
    "_, smry_df5 = calc_enron_performance(G=G2, algos=[alt_gc3], test_size=0.5, runs=5)"
   ]
  },
  {
   "cell_type": "code",
   "execution_count": null,
   "metadata": {},
   "outputs": [],
   "source": [
    "smry_df5"
   ]
  },
  {
   "cell_type": "code",
   "execution_count": null,
   "metadata": {},
   "outputs": [],
   "source": []
  }
 ],
 "metadata": {
  "interpreter": {
   "hash": "c716535ba2b95ead85a0e15eb985372fe78ead652a07dc780f0a477ec156580f"
  },
  "kernelspec": {
   "display_name": "Python 3.8.12 ('graphcase')",
   "language": "python",
   "name": "python3"
  },
  "language_info": {
   "codemirror_mode": {
    "name": "ipython",
    "version": 3
   },
   "file_extension": ".py",
   "mimetype": "text/x-python",
   "name": "python",
   "nbconvert_exporter": "python",
   "pygments_lexer": "ipython3",
   "version": "3.8.12"
  },
  "orig_nbformat": 4
 },
 "nbformat": 4,
 "nbformat_minor": 2
}
