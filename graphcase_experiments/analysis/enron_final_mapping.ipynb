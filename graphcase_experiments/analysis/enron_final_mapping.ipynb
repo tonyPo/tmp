{
 "cells": [
  {
   "cell_type": "markdown",
   "metadata": {},
   "source": [
    "# final setup\n",
    "I’ve tried many alternative, different views but I believe there is just not more information in the limited data set. Please note that we only have a sample of the E_mails, meaning that the input into the algo’s is sub-optimal.\n",
    "\n",
    "Given that different experimental set-up don’t result in a significant different picture, I chose to use the leasts ambiguous setup and to follow the labels from Creamer (1-on-1) using detailed labels avoiding biased in the aggregation of labels."
   ]
  },
  {
   "cell_type": "code",
   "execution_count": 1,
   "metadata": {},
   "outputs": [
    {
     "data": {
      "text/plain": [
       "'/Users/tonpoppe/workspace/graphcase_experiments/graphcase_experiments'"
      ]
     },
     "execution_count": 1,
     "metadata": {},
     "output_type": "execute_result"
    }
   ],
   "source": [
    "# run this only once!!\n",
    "import os\n",
    "os. chdir(\"../..\")\n",
    "os.getcwd()"
   ]
  },
  {
   "cell_type": "code",
   "execution_count": 2,
   "metadata": {},
   "outputs": [
    {
     "name": "stderr",
     "output_type": "stream",
     "text": [
      "/Users/tonpoppe/opt/anaconda3/envs/graphcase/lib/python3.8/site-packages/tqdm/auto.py:22: TqdmWarning: IProgress not found. Please update jupyter and ipywidgets. See https://ipywidgets.readthedocs.io/en/stable/user_install.html\n",
      "  from .autonotebook import tqdm as notebook_tqdm\n",
      "Using Spark's default log4j profile: org/apache/spark/log4j-defaults.properties\n",
      "Setting default log level to \"WARN\".\n",
      "To adjust logging level use sc.setLogLevel(newLevel). For SparkR, use setLogLevel(newLevel).\n",
      "22/08/19 08:38:04 WARN NativeCodeLoader: Unable to load native-hadoop library for your platform... using builtin-java classes where applicable\n"
     ]
    }
   ],
   "source": [
    "import networkx as nx\n",
    "from graphcase_experiments.algos.GraphCaseWrapper import GraphCaseWrapper\n",
    "from graphcase_experiments.tools.embedding_plotter import plot_embedding2, plotly_embedding\n",
    "from graphcase_experiments.tools.calculate_embed import calculate_graphcase_embedding\n",
    "from graphcase_experiments.graphs.enron.mail_reader import spark\n",
    "import matplotlib.pyplot as plt\n",
    "import pydot\n",
    "import pandas as pd\n",
    "import tensorflow as tf\n",
    "import pyspark.sql.functions as F"
   ]
  },
  {
   "cell_type": "code",
   "execution_count": 3,
   "metadata": {},
   "outputs": [],
   "source": [
    "# load graph\n",
    "SOURCE_PATH = 'graphcase_experiments/graphs/enron/data/'\n",
    "G = nx.read_gpickle(SOURCE_PATH + 'enron_sub_graph3.pickle')"
   ]
  },
  {
   "cell_type": "code",
   "execution_count": 37,
   "metadata": {},
   "outputs": [
    {
     "data": {
      "text/plain": [
       "labels\n",
       "attorney-legal asst.    14\n",
       "ceos-president           9\n",
       "director                23\n",
       "employee                15\n",
       "executive vp             3\n",
       "manager                 15\n",
       "managing director        7\n",
       "specialist               8\n",
       "trader                  35\n",
       "vice president          22\n",
       "Name: labels, dtype: int64"
      ]
     },
     "execution_count": 37,
     "metadata": {},
     "output_type": "execute_result"
    }
   ],
   "source": [
    "labels = []\n",
    "for n, d in G.nodes(data=True):\n",
    "    labels.append(d['label'])\n",
    "\n",
    "pdf = pd.DataFrame(labels, columns=['labels'] )\n",
    "pdf.groupby('labels')['labels'].count()"
   ]
  },
  {
   "cell_type": "code",
   "execution_count": 25,
   "metadata": {},
   "outputs": [
    {
     "name": "stdout",
     "output_type": "stream",
     "text": [
      "WARNING: AutoGraph could not transform <bound method InputLayerConstructor.get_input_layer of <GAE.input_layer_constructor.InputLayerConstructor object at 0x7fbeb50f63a0>> and will run it as-is.\n",
      "Cause: mangled names are not yet supported\n",
      "To silence this warning, decorate the function with @tf.autograph.experimental.do_not_convert\n"
     ]
    },
    {
     "name": "stderr",
     "output_type": "stream",
     "text": [
      "2022-08-19 08:53:50.775352: I tensorflow/core/platform/cpu_feature_guard.cc:151] This TensorFlow binary is optimized with oneAPI Deep Neural Network Library (oneDNN) to use the following CPU instructions in performance-critical operations:  AVX2 FMA\n",
      "To enable them in other operations, rebuild TensorFlow with the appropriate compiler flags.\n",
      "2022-08-19 08:55:48.920856: W tensorflow/python/util/util.cc:368] Sets are not currently considered sequences, but this may change in the future, so consider avoiding using them.\n",
      "WARNING:absl:Found untraced functions such as dense_8_layer_call_fn, dense_8_layer_call_and_return_conditional_losses, dense_9_layer_call_fn, dense_9_layer_call_and_return_conditional_losses while saving (showing 4 of 4). These functions will not be directly callable after loading.\n"
     ]
    },
    {
     "data": {
      "image/png": "[encoded data removed]",
      "text/plain": [
       "<Figure size 432x288 with 1 Axes>"
      ]
     },
     "metadata": {
      "needs_background": "light"
     },
     "output_type": "display_data"
    },
    {
     "name": "stderr",
     "output_type": "stream",
     "text": [
      "/Users/tonpoppe/workspace/graphcase_experiments/graphcase_experiments/graphcase_experiments/tools/embedding_plotter.py:88: SettingWithCopyWarning: \n",
      "A value is trying to be set on a copy of a slice from a DataFrame.\n",
      "Try using .loc[row_indexer,col_indexer] = value instead\n",
      "\n",
      "See the caveats in the documentation: https://pandas.pydata.org/pandas-docs/stable/user_guide/indexing.html#returning-a-view-versus-a-copy\n",
      "  embed_df['embed1'] = embed[:,0]\n",
      "/Users/tonpoppe/workspace/graphcase_experiments/graphcase_experiments/graphcase_experiments/tools/embedding_plotter.py:89: SettingWithCopyWarning: \n",
      "A value is trying to be set on a copy of a slice from a DataFrame.\n",
      "Try using .loc[row_indexer,col_indexer] = value instead\n",
      "\n",
      "See the caveats in the documentation: https://pandas.pydata.org/pandas-docs/stable/user_guide/indexing.html#returning-a-view-versus-a-copy\n",
      "  embed_df['embed2'] = embed[:,1]\n"
     ]
    },
    {
     "data": {
      "application/vnd.plotly.v1+json": {
       "config": {
        "plotlyServerURL": "https://plot.ly"
       },
       "data": [
        {
         "customdata": [
          [
           0,
           "managing director",
           0
          ],
          [
           2,
           "managing director",
           0
          ],
          [
           37,
           "managing director",
           0
          ],
          [
           49,
           "managing director",
           0
          ],
          [
           86,
           "managing director",
           0
          ],
          [
           97,
           "managing director",
           0
          ],
          [
           141,
           "managing director",
           0
          ]
         ],
         "hovertemplate": "label=%{customdata[1]}<br>embed1=%{x}<br>embed2=%{y}<br>id=%{customdata[0]}<br>label_id=%{customdata[2]}<extra></extra>",
         "legendgroup": "managing director",
         "marker": {
          "color": "#636efa",
          "symbol": "circle"
         },
         "mode": "markers",
         "name": "managing director",
         "orientation": "v",
         "showlegend": true,
         "type": "scatter",
         "x": [
          0.05003758181654623,
          0.9612375476512303,
          1.1888459847971489,
          0.4552176649021266,
          0.7467153173810179,
          1.1579970159834283,
          0.9177512290896483
         ],
         "xaxis": "x",
         "y": [
          0.41647255907766784,
          1.056869878957204,
          0.2576325485413794,
          1.245594323486178,
          -0.4509734661432643,
          0.649259760111777,
          0.30940602036281206
         ],
         "yaxis": "y"
        },
        {
         "customdata": [
          [
           1,
           "vice president",
           1
          ],
          [
           23,
           "vice president",
           1
          ],
          [
           25,
           "vice president",
           1
          ],
          [
           26,
           "vice president",
           1
          ],
          [
           31,
           "vice president",
           1
          ],
          [
           32,
           "vice president",
           1
          ],
          [
           43,
           "vice president",
           1
          ],
          [
           51,
           "vice president",
           1
          ],
          [
           62,
           "vice president",
           1
          ],
          [
           68,
           "vice president",
           1
          ],
          [
           94,
           "vice president",
           1
          ],
          [
           105,
           "vice president",
           1
          ],
          [
           107,
           "vice president",
           1
          ],
          [
           110,
           "vice president",
           1
          ],
          [
           111,
           "vice president",
           1
          ],
          [
           119,
           "vice president",
           1
          ],
          [
           120,
           "vice president",
           1
          ],
          [
           125,
           "vice president",
           1
          ],
          [
           129,
           "vice president",
           1
          ],
          [
           133,
           "vice president",
           1
          ],
          [
           136,
           "vice president",
           1
          ],
          [
           143,
           "vice president",
           1
          ]
         ],
         "hovertemplate": "label=%{customdata[1]}<br>embed1=%{x}<br>embed2=%{y}<br>id=%{customdata[0]}<br>label_id=%{customdata[2]}<extra></extra>",
         "legendgroup": "vice president",
         "marker": {
          "color": "#EF553B",
          "symbol": "circle"
         },
         "mode": "markers",
         "name": "vice president",
         "orientation": "v",
         "showlegend": true,
         "type": "scatter",
         "x": [
          1.0591533372092974,
          0.23398004991217114,
          -0.7587516044449912,
          -0.6938124801032307,
          -1.1843026383960547,
          0.009051393106418898,
          0.11794965286731242,
          0.8242103941362956,
          1.037674456028209,
          -0.02520283331023186,
          -0.7441010177650902,
          -0.7227203351267427,
          -0.2663453203568687,
          -0.44840673683419324,
          0.810021515335274,
          0.6206323853717327,
          -0.5605581515605133,
          0.6544133711732852,
          -0.9084545605230568,
          -0.28964579648369665,
          0.3393566841867668,
          0.8779771406028111
         ],
         "xaxis": "x",
         "y": [
          0.04981528559393663,
          1.2095581484793447,
          0.9491123273152265,
          0.7913868382024727,
          0.39353926885253154,
          1.426857910627358,
          1.2403483467367298,
          0.48511023842187745,
          0.1633945718161218,
          0.9435301995593569,
          0.0014222131794161294,
          0.2959520289376619,
          0.11545228744312695,
          0.4828389690452579,
          0.5917716011419848,
          0.6775725629536836,
          1.19938140959712,
          0.9221334512217584,
          -0.1806093541225719,
          0.5311852347870168,
          -0.8780218827932589,
          1.018681483435947
         ],
         "yaxis": "y"
        },
        {
         "customdata": [
          [
           3,
           "employee",
           2
          ],
          [
           9,
           "employee",
           2
          ],
          [
           14,
           "employee",
           2
          ],
          [
           21,
           "employee",
           2
          ],
          [
           34,
           "employee",
           2
          ],
          [
           38,
           "employee",
           2
          ],
          [
           41,
           "employee",
           2
          ],
          [
           56,
           "employee",
           2
          ],
          [
           73,
           "employee",
           2
          ],
          [
           77,
           "employee",
           2
          ],
          [
           78,
           "employee",
           2
          ],
          [
           88,
           "employee",
           2
          ],
          [
           102,
           "employee",
           2
          ],
          [
           121,
           "employee",
           2
          ],
          [
           124,
           "employee",
           2
          ]
         ],
         "hovertemplate": "label=%{customdata[1]}<br>embed1=%{x}<br>embed2=%{y}<br>id=%{customdata[0]}<br>label_id=%{customdata[2]}<extra></extra>",
         "legendgroup": "employee",
         "marker": {
          "color": "#00cc96",
          "symbol": "circle"
         },
         "mode": "markers",
         "name": "employee",
         "orientation": "v",
         "showlegend": true,
         "type": "scatter",
         "x": [
          -0.497382679653797,
          -0.7102094613451372,
          0.6347841001696494,
          -0.7860475545795536,
          -1.1032688180975672,
          1.1590099052038771,
          -0.9980273992925709,
          -1.4427691902075355,
          -0.8652558759075362,
          -0.07126889016214433,
          0.3593237976833694,
          -1.2710851277343853,
          0.2971696750769566,
          0.1791392376625495,
          0.07603112816206166
         ],
         "xaxis": "x",
         "y": [
          0.7715969576984384,
          -0.15779672575784384,
          -0.6009793119310605,
          -1.7282685640897137,
          -1.1447656029496949,
          0.4949230802847612,
          -1.7663660783381743,
          -0.8204846742958503,
          0.08005807085182588,
          -0.9383417573897933,
          0.826680938517557,
          -0.07731008536816057,
          0.35662080414796926,
          1.0411428319412617,
          -0.7673770745933979
         ],
         "yaxis": "y"
        },
        {
         "customdata": [
          [
           4,
           "director",
           3
          ],
          [
           8,
           "director",
           3
          ],
          [
           12,
           "director",
           3
          ],
          [
           16,
           "director",
           3
          ],
          [
           30,
           "director",
           3
          ],
          [
           44,
           "director",
           3
          ],
          [
           45,
           "director",
           3
          ],
          [
           52,
           "director",
           3
          ],
          [
           55,
           "director",
           3
          ],
          [
           57,
           "director",
           3
          ],
          [
           59,
           "director",
           3
          ],
          [
           66,
           "director",
           3
          ],
          [
           79,
           "director",
           3
          ],
          [
           99,
           "director",
           3
          ],
          [
           106,
           "director",
           3
          ],
          [
           118,
           "director",
           3
          ],
          [
           130,
           "director",
           3
          ],
          [
           131,
           "director",
           3
          ],
          [
           132,
           "director",
           3
          ],
          [
           135,
           "director",
           3
          ],
          [
           138,
           "director",
           3
          ],
          [
           142,
           "director",
           3
          ],
          [
           147,
           "director",
           3
          ]
         ],
         "hovertemplate": "label=%{customdata[1]}<br>embed1=%{x}<br>embed2=%{y}<br>id=%{customdata[0]}<br>label_id=%{customdata[2]}<extra></extra>",
         "legendgroup": "director",
         "marker": {
          "color": "#ab63fa",
          "symbol": "circle"
         },
         "mode": "markers",
         "name": "director",
         "orientation": "v",
         "showlegend": true,
         "type": "scatter",
         "x": [
          1.2285648427135523,
          0.4149381859587416,
          1.0354151107472702,
          0.7721733903879995,
          -0.7839525618333719,
          -0.5528262249204318,
          0.5546247989272389,
          -0.24461522392329868,
          -0.25447110802992234,
          -0.8124485113930555,
          0.4261110171072629,
          -1.1597479952597138,
          0.14629963616489186,
          0.1896456559026973,
          -0.2786431603155907,
          -1.1186917037537785,
          0.5643783843849299,
          -1.052661905557539,
          0.5091522197958686,
          0.7860485663942937,
          1.141278272072482,
          0.9296379157116373,
          -0.8586304827179446
         ],
         "xaxis": "x",
         "y": [
          -0.46552537060930554,
          0.48511214723730894,
          -0.25882240461160405,
          0.08078643062256419,
          0.50627195964252,
          -1.3120473976265747,
          -1.0140799253423505,
          0.31833123828615445,
          -0.6729234724780357,
          -1.1140621048484156,
          -0.2560724573379174,
          -1.4682478391617524,
          -0.15857959046352377,
          0.09968168983606362,
          -1.1440816962276374,
          0.23582226047127092,
          -0.410977167916861,
          -0.5495012366582137,
          0.43685964557544393,
          0.27332839550022253,
          0.9558017139534855,
          -0.4909812433394339,
          -0.5190906597572124
         ],
         "yaxis": "y"
        },
        {
         "customdata": [
          [
           5,
           "specialist",
           4
          ],
          [
           7,
           "specialist",
           4
          ],
          [
           39,
           "specialist",
           4
          ],
          [
           85,
           "specialist",
           4
          ],
          [
           101,
           "specialist",
           4
          ],
          [
           112,
           "specialist",
           4
          ],
          [
           137,
           "specialist",
           4
          ],
          [
           150,
           "specialist",
           4
          ]
         ],
         "hovertemplate": "label=%{customdata[1]}<br>embed1=%{x}<br>embed2=%{y}<br>id=%{customdata[0]}<br>label_id=%{customdata[2]}<extra></extra>",
         "legendgroup": "specialist",
         "marker": {
          "color": "#FFA15A",
          "symbol": "circle"
         },
         "mode": "markers",
         "name": "specialist",
         "orientation": "v",
         "showlegend": true,
         "type": "scatter",
         "x": [
          0.1199416143372527,
          -1.087360162028485,
          0.15730566712077232,
          1.1301484624315967,
          -1.264106774441349,
          -0.6760176617032918,
          -0.47804938236989936,
          0.09257005803798525
         ],
         "xaxis": "x",
         "y": [
          -0.8983461587017852,
          -1.6831516865621514,
          -0.4643137074148946,
          -0.3844732868187567,
          -0.3951379987184522,
          1.0833408992233104,
          -1.0728384514782237,
          0.12415305985249311
         ],
         "yaxis": "y"
        },
        {
         "customdata": [
          [
           6,
           "attorney-legal asst.",
           5
          ],
          [
           13,
           "attorney-legal asst.",
           5
          ],
          [
           20,
           "attorney-legal asst.",
           5
          ],
          [
           24,
           "attorney-legal asst.",
           5
          ],
          [
           28,
           "attorney-legal asst.",
           5
          ],
          [
           36,
           "attorney-legal asst.",
           5
          ],
          [
           61,
           "attorney-legal asst.",
           5
          ],
          [
           65,
           "attorney-legal asst.",
           5
          ],
          [
           69,
           "attorney-legal asst.",
           5
          ],
          [
           80,
           "attorney-legal asst.",
           5
          ],
          [
           81,
           "attorney-legal asst.",
           5
          ],
          [
           103,
           "attorney-legal asst.",
           5
          ],
          [
           134,
           "attorney-legal asst.",
           5
          ],
          [
           139,
           "attorney-legal asst.",
           5
          ]
         ],
         "hovertemplate": "label=%{customdata[1]}<br>embed1=%{x}<br>embed2=%{y}<br>id=%{customdata[0]}<br>label_id=%{customdata[2]}<extra></extra>",
         "legendgroup": "attorney-legal asst.",
         "marker": {
          "color": "#19d3f3",
          "symbol": "circle"
         },
         "mode": "markers",
         "name": "attorney-legal asst.",
         "orientation": "v",
         "showlegend": true,
         "type": "scatter",
         "x": [
          0.5048476345718298,
          0.6468890138692952,
          0.4198857156018408,
          -0.8767233064978573,
          0.09121177734297783,
          -0.8905469501941089,
          -0.9091221283623016,
          -0.30569788345101107,
          0.3559795374648209,
          -0.26388812147253166,
          -1.0809552895090322,
          0.1835215383220888,
          -0.6856339452067366,
          0.2290635150311317
         ],
         "xaxis": "x",
         "y": [
          1.3312453922342908,
          1.2046253615413225,
          0.15107001299129283,
          0.9021425617318392,
          -0.6190391549519746,
          1.058330013777151,
          0.2973444931189064,
          -0.11965333807956886,
          1.0492104446331783,
          1.4598236031074647,
          -1.73121414183853,
          1.2396235108477103,
          -0.5336866022871696,
          1.5569107282625783
         ],
         "yaxis": "y"
        },
        {
         "customdata": [
          [
           10,
           "trader",
           6
          ],
          [
           11,
           "trader",
           6
          ],
          [
           15,
           "trader",
           6
          ],
          [
           17,
           "trader",
           6
          ],
          [
           18,
           "trader",
           6
          ],
          [
           19,
           "trader",
           6
          ],
          [
           27,
           "trader",
           6
          ],
          [
           29,
           "trader",
           6
          ],
          [
           40,
           "trader",
           6
          ],
          [
           42,
           "trader",
           6
          ],
          [
           46,
           "trader",
           6
          ],
          [
           48,
           "trader",
           6
          ],
          [
           50,
           "trader",
           6
          ],
          [
           53,
           "trader",
           6
          ],
          [
           58,
           "trader",
           6
          ],
          [
           63,
           "trader",
           6
          ],
          [
           64,
           "trader",
           6
          ],
          [
           67,
           "trader",
           6
          ],
          [
           74,
           "trader",
           6
          ],
          [
           76,
           "trader",
           6
          ],
          [
           89,
           "trader",
           6
          ],
          [
           93,
           "trader",
           6
          ],
          [
           95,
           "trader",
           6
          ],
          [
           96,
           "trader",
           6
          ],
          [
           98,
           "trader",
           6
          ],
          [
           100,
           "trader",
           6
          ],
          [
           104,
           "trader",
           6
          ],
          [
           109,
           "trader",
           6
          ],
          [
           114,
           "trader",
           6
          ],
          [
           115,
           "trader",
           6
          ],
          [
           117,
           "trader",
           6
          ],
          [
           126,
           "trader",
           6
          ],
          [
           140,
           "trader",
           6
          ],
          [
           145,
           "trader",
           6
          ],
          [
           146,
           "trader",
           6
          ]
         ],
         "hovertemplate": "label=%{customdata[1]}<br>embed1=%{x}<br>embed2=%{y}<br>id=%{customdata[0]}<br>label_id=%{customdata[2]}<extra></extra>",
         "legendgroup": "trader",
         "marker": {
          "color": "#FF6692",
          "symbol": "circle"
         },
         "mode": "markers",
         "name": "trader",
         "orientation": "v",
         "showlegend": true,
         "type": "scatter",
         "x": [
          -0.6321604369322366,
          -1.0745623778807667,
          -1.3738959473881083,
          -0.3927499269147771,
          -0.5694096686337937,
          0.9632184927338474,
          -1.101830091638941,
          0.3283777204922417,
          0.6620307331286337,
          0.8554514421185244,
          1.3455154993629106,
          0.4875777245830828,
          0.7285881399328115,
          -0.8334295255136434,
          0.9242230229680068,
          1.2736788065836673,
          -0.017878744561645666,
          -0.12725723093795155,
          0.41459315457526036,
          -0.2897553938638698,
          0.9273542436611045,
          -1.1472055782664445,
          1.1070454015089226,
          -0.18089173635650593,
          -0.07628863137359244,
          -0.20287861258523718,
          -0.20913476666626843,
          0.6788329311317912,
          -1.0882436317010677,
          -1.0159334305453576,
          -1.2357120104271864,
          -0.8673667273302469,
          -1.3026413269404487,
          -0.4890273164675365,
          0.7744686890251326
         ],
         "xaxis": "x",
         "y": [
          0.5894521725807625,
          -1.1864355141583456,
          -0.49306308275170213,
          -0.7936357368207181,
          -0.7723583812265208,
          -0.7019240987670556,
          -0.2101177663208725,
          -1.3180560041948008,
          -0.3510102621383058,
          -1.134283279027224,
          0.08581373639901053,
          -0.8827682206723629,
          -0.1506930517006026,
          0.6255886743028293,
          -0.14514585802342897,
          -0.2209784250196245,
          -1.458573641065002,
          -1.5782421616078237,
          -0.11611464833260428,
          0.19916696249228918,
          -0.19494605221055866,
          -1.078254126204836,
          -0.7338888501875137,
          -0.8277439286804038,
          -0.30875157933721303,
          -0.48550194293142745,
          -0.27106202311823346,
          -1.0652435128904054,
          -0.6138155698707352,
          -0.39445328920104744,
          -0.8111659825103813,
          -0.7521594605238683,
          -0.9705952013780607,
          1.0093125845040718,
          -0.8388788360041366
         ],
         "yaxis": "y"
        },
        {
         "customdata": [
          [
           22,
           "ceos-president",
           7
          ],
          [
           47,
           "ceos-president",
           7
          ],
          [
           72,
           "ceos-president",
           7
          ],
          [
           82,
           "ceos-president",
           7
          ],
          [
           84,
           "ceos-president",
           7
          ],
          [
           92,
           "ceos-president",
           7
          ],
          [
           108,
           "ceos-president",
           7
          ],
          [
           122,
           "ceos-president",
           7
          ],
          [
           144,
           "ceos-president",
           7
          ]
         ],
         "hovertemplate": "label=%{customdata[1]}<br>embed1=%{x}<br>embed2=%{y}<br>id=%{customdata[0]}<br>label_id=%{customdata[2]}<extra></extra>",
         "legendgroup": "ceos-president",
         "marker": {
          "color": "#B6E880",
          "symbol": "circle"
         },
         "mode": "markers",
         "name": "ceos-president",
         "orientation": "v",
         "showlegend": true,
         "type": "scatter",
         "x": [
          -0.3217117445449526,
          -0.09257337349804365,
          -0.31928912188240904,
          0.9161961495616129,
          0.10338113910482452,
          -0.1971586712967529,
          0.2787537533495702,
          0.9700016757062001,
          0.21015221705879358
         ],
         "xaxis": "x",
         "y": [
          0.8658933059173198,
          1.306917571763794,
          1.1971591684582958,
          0.3975791794103244,
          0.6996077063245608,
          1.0755431658430152,
          0.7631002850475744,
          0.7717496408851706,
          0.8703609513194805
         ],
         "yaxis": "y"
        },
        {
         "customdata": [
          [
           33,
           "executive vp",
           8
          ],
          [
           90,
           "executive vp",
           8
          ],
          [
           148,
           "executive vp",
           8
          ]
         ],
         "hovertemplate": "label=%{customdata[1]}<br>embed1=%{x}<br>embed2=%{y}<br>id=%{customdata[0]}<br>label_id=%{customdata[2]}<extra></extra>",
         "legendgroup": "executive vp",
         "marker": {
          "color": "#FF97FF",
          "symbol": "circle"
         },
         "mode": "markers",
         "name": "executive vp",
         "orientation": "v",
         "showlegend": true,
         "type": "scatter",
         "x": [
          0.4847689138945422,
          0.809759477722334,
          0.026468800735378033
         ],
         "xaxis": "x",
         "y": [
          0.889192916418411,
          1.1512867806495015,
          0.7770222282693091
         ],
         "yaxis": "y"
        },
        {
         "customdata": [
          [
           35,
           "manager",
           9
          ],
          [
           54,
           "manager",
           9
          ],
          [
           60,
           "manager",
           9
          ],
          [
           70,
           "manager",
           9
          ],
          [
           71,
           "manager",
           9
          ],
          [
           75,
           "manager",
           9
          ],
          [
           83,
           "manager",
           9
          ],
          [
           87,
           "manager",
           9
          ],
          [
           91,
           "manager",
           9
          ],
          [
           113,
           "manager",
           9
          ],
          [
           116,
           "manager",
           9
          ],
          [
           123,
           "manager",
           9
          ],
          [
           127,
           "manager",
           9
          ],
          [
           128,
           "manager",
           9
          ],
          [
           149,
           "manager",
           9
          ]
         ],
         "hovertemplate": "label=%{customdata[1]}<br>embed1=%{x}<br>embed2=%{y}<br>id=%{customdata[0]}<br>label_id=%{customdata[2]}<extra></extra>",
         "legendgroup": "manager",
         "marker": {
          "color": "#FECB52",
          "symbol": "circle"
         },
         "mode": "markers",
         "name": "manager",
         "orientation": "v",
         "showlegend": true,
         "type": "scatter",
         "x": [
          -0.4278990114961743,
          0.288429941457688,
          -0.3369589930782895,
          -0.2831180194437274,
          0.45940665170760686,
          0.6163711606515975,
          0.5880224220368055,
          0.7066124539713632,
          0.22581808888993127,
          1.22066816004984,
          -0.8026687647406943,
          0.042077250028201604,
          -0.1917747318325,
          -0.5501634689644589,
          0.9188186148879096
         ],
         "xaxis": "x",
         "y": [
          0.06222387941808906,
          -0.12396808123671531,
          -1.4458525363842505,
          -0.4538123827360388,
          -0.42550833885911915,
          0.5115829119158988,
          -0.09121505381095506,
          0.3473701205948657,
          0.21300305606390757,
          -0.046178118768392576,
          -0.3090712660623991,
          0.5601841299963036,
          0.6921271708851809,
          -0.5820308805304792,
          0.07928280303399038
         ],
         "yaxis": "y"
        }
       ],
       "layout": {
        "legend": {
         "title": {
          "text": "label"
         },
         "tracegroupgap": 0
        },
        "margin": {
         "t": 60
        },
        "template": {
         "data": {
          "bar": [
           {
            "error_x": {
             "color": "#2a3f5f"
            },
            "error_y": {
             "color": "#2a3f5f"
            },
            "marker": {
             "line": {
              "color": "#E5ECF6",
              "width": 0.5
             },
             "pattern": {
              "fillmode": "overlay",
              "size": 10,
              "solidity": 0.2
             }
            },
            "type": "bar"
           }
          ],
          "barpolar": [
           {
            "marker": {
             "line": {
              "color": "#E5ECF6",
              "width": 0.5
             },
             "pattern": {
              "fillmode": "overlay",
              "size": 10,
              "solidity": 0.2
             }
            },
            "type": "barpolar"
           }
          ],
          "carpet": [
           {
            "aaxis": {
             "endlinecolor": "#2a3f5f",
             "gridcolor": "white",
             "linecolor": "white",
             "minorgridcolor": "white",
             "startlinecolor": "#2a3f5f"
            },
            "baxis": {
             "endlinecolor": "#2a3f5f",
             "gridcolor": "white",
             "linecolor": "white",
             "minorgridcolor": "white",
             "startlinecolor": "#2a3f5f"
            },
            "type": "carpet"
           }
          ],
          "choropleth": [
           {
            "colorbar": {
             "outlinewidth": 0,
             "ticks": ""
            },
            "type": "choropleth"
           }
          ],
          "contour": [
           {
            "colorbar": {
             "outlinewidth": 0,
             "ticks": ""
            },
            "colorscale": [
             [
              0,
              "#0d0887"
             ],
             [
              0.1111111111111111,
              "#46039f"
             ],
             [
              0.2222222222222222,
              "#7201a8"
             ],
             [
              0.3333333333333333,
              "#9c179e"
             ],
             [
              0.4444444444444444,
              "#bd3786"
             ],
             [
              0.5555555555555556,
              "#d8576b"
             ],
             [
              0.6666666666666666,
              "#ed7953"
             ],
             [
              0.7777777777777778,
              "#fb9f3a"
             ],
             [
              0.8888888888888888,
              "#fdca26"
             ],
             [
              1,
              "#f0f921"
             ]
            ],
            "type": "contour"
           }
          ],
          "contourcarpet": [
           {
            "colorbar": {
             "outlinewidth": 0,
             "ticks": ""
            },
            "type": "contourcarpet"
           }
          ],
          "heatmap": [
           {
            "colorbar": {
             "outlinewidth": 0,
             "ticks": ""
            },
            "colorscale": [
             [
              0,
              "#0d0887"
             ],
             [
              0.1111111111111111,
              "#46039f"
             ],
             [
              0.2222222222222222,
              "#7201a8"
             ],
             [
              0.3333333333333333,
              "#9c179e"
             ],
             [
              0.4444444444444444,
              "#bd3786"
             ],
             [
              0.5555555555555556,
              "#d8576b"
             ],
             [
              0.6666666666666666,
              "#ed7953"
             ],
             [
              0.7777777777777778,
              "#fb9f3a"
             ],
             [
              0.8888888888888888,
              "#fdca26"
             ],
             [
              1,
              "#f0f921"
             ]
            ],
            "type": "heatmap"
           }
          ],
          "heatmapgl": [
           {
            "colorbar": {
             "outlinewidth": 0,
             "ticks": ""
            },
            "colorscale": [
             [
              0,
              "#0d0887"
             ],
             [
              0.1111111111111111,
              "#46039f"
             ],
             [
              0.2222222222222222,
              "#7201a8"
             ],
             [
              0.3333333333333333,
              "#9c179e"
             ],
             [
              0.4444444444444444,
              "#bd3786"
             ],
             [
              0.5555555555555556,
              "#d8576b"
             ],
             [
              0.6666666666666666,
              "#ed7953"
             ],
             [
              0.7777777777777778,
              "#fb9f3a"
             ],
             [
              0.8888888888888888,
              "#fdca26"
             ],
             [
              1,
              "#f0f921"
             ]
            ],
            "type": "heatmapgl"
           }
          ],
          "histogram": [
           {
            "marker": {
             "pattern": {
              "fillmode": "overlay",
              "size": 10,
              "solidity": 0.2
             }
            },
            "type": "histogram"
           }
          ],
          "histogram2d": [
           {
            "colorbar": {
             "outlinewidth": 0,
             "ticks": ""
            },
            "colorscale": [
             [
              0,
              "#0d0887"
             ],
             [
              0.1111111111111111,
              "#46039f"
             ],
             [
              0.2222222222222222,
              "#7201a8"
             ],
             [
              0.3333333333333333,
              "#9c179e"
             ],
             [
              0.4444444444444444,
              "#bd3786"
             ],
             [
              0.5555555555555556,
              "#d8576b"
             ],
             [
              0.6666666666666666,
              "#ed7953"
             ],
             [
              0.7777777777777778,
              "#fb9f3a"
             ],
             [
              0.8888888888888888,
              "#fdca26"
             ],
             [
              1,
              "#f0f921"
             ]
            ],
            "type": "histogram2d"
           }
          ],
          "histogram2dcontour": [
           {
            "colorbar": {
             "outlinewidth": 0,
             "ticks": ""
            },
            "colorscale": [
             [
              0,
              "#0d0887"
             ],
             [
              0.1111111111111111,
              "#46039f"
             ],
             [
              0.2222222222222222,
              "#7201a8"
             ],
             [
              0.3333333333333333,
              "#9c179e"
             ],
             [
              0.4444444444444444,
              "#bd3786"
             ],
             [
              0.5555555555555556,
              "#d8576b"
             ],
             [
              0.6666666666666666,
              "#ed7953"
             ],
             [
              0.7777777777777778,
              "#fb9f3a"
             ],
             [
              0.8888888888888888,
              "#fdca26"
             ],
             [
              1,
              "#f0f921"
             ]
            ],
            "type": "histogram2dcontour"
           }
          ],
          "mesh3d": [
           {
            "colorbar": {
             "outlinewidth": 0,
             "ticks": ""
            },
            "type": "mesh3d"
           }
          ],
          "parcoords": [
           {
            "line": {
             "colorbar": {
              "outlinewidth": 0,
              "ticks": ""
             }
            },
            "type": "parcoords"
           }
          ],
          "pie": [
           {
            "automargin": true,
            "type": "pie"
           }
          ],
          "scatter": [
           {
            "fillpattern": {
             "fillmode": "overlay",
             "size": 10,
             "solidity": 0.2
            },
            "type": "scatter"
           }
          ],
          "scatter3d": [
           {
            "line": {
             "colorbar": {
              "outlinewidth": 0,
              "ticks": ""
             }
            },
            "marker": {
             "colorbar": {
              "outlinewidth": 0,
              "ticks": ""
             }
            },
            "type": "scatter3d"
           }
          ],
          "scattercarpet": [
           {
            "marker": {
             "colorbar": {
              "outlinewidth": 0,
              "ticks": ""
             }
            },
            "type": "scattercarpet"
           }
          ],
          "scattergeo": [
           {
            "marker": {
             "colorbar": {
              "outlinewidth": 0,
              "ticks": ""
             }
            },
            "type": "scattergeo"
           }
          ],
          "scattergl": [
           {
            "marker": {
             "colorbar": {
              "outlinewidth": 0,
              "ticks": ""
             }
            },
            "type": "scattergl"
           }
          ],
          "scattermapbox": [
           {
            "marker": {
             "colorbar": {
              "outlinewidth": 0,
              "ticks": ""
             }
            },
            "type": "scattermapbox"
           }
          ],
          "scatterpolar": [
           {
            "marker": {
             "colorbar": {
              "outlinewidth": 0,
              "ticks": ""
             }
            },
            "type": "scatterpolar"
           }
          ],
          "scatterpolargl": [
           {
            "marker": {
             "colorbar": {
              "outlinewidth": 0,
              "ticks": ""
             }
            },
            "type": "scatterpolargl"
           }
          ],
          "scatterternary": [
           {
            "marker": {
             "colorbar": {
              "outlinewidth": 0,
              "ticks": ""
             }
            },
            "type": "scatterternary"
           }
          ],
          "surface": [
           {
            "colorbar": {
             "outlinewidth": 0,
             "ticks": ""
            },
            "colorscale": [
             [
              0,
              "#0d0887"
             ],
             [
              0.1111111111111111,
              "#46039f"
             ],
             [
              0.2222222222222222,
              "#7201a8"
             ],
             [
              0.3333333333333333,
              "#9c179e"
             ],
             [
              0.4444444444444444,
              "#bd3786"
             ],
             [
              0.5555555555555556,
              "#d8576b"
             ],
             [
              0.6666666666666666,
              "#ed7953"
             ],
             [
              0.7777777777777778,
              "#fb9f3a"
             ],
             [
              0.8888888888888888,
              "#fdca26"
             ],
             [
              1,
              "#f0f921"
             ]
            ],
            "type": "surface"
           }
          ],
          "table": [
           {
            "cells": {
             "fill": {
              "color": "#EBF0F8"
             },
             "line": {
              "color": "white"
             }
            },
            "header": {
             "fill": {
              "color": "#C8D4E3"
             },
             "line": {
              "color": "white"
             }
            },
            "type": "table"
           }
          ]
         },
         "layout": {
          "annotationdefaults": {
           "arrowcolor": "#2a3f5f",
           "arrowhead": 0,
           "arrowwidth": 1
          },
          "autotypenumbers": "strict",
          "coloraxis": {
           "colorbar": {
            "outlinewidth": 0,
            "ticks": ""
           }
          },
          "colorscale": {
           "diverging": [
            [
             0,
             "#8e0152"
            ],
            [
             0.1,
             "#c51b7d"
            ],
            [
             0.2,
             "#de77ae"
            ],
            [
             0.3,
             "#f1b6da"
            ],
            [
             0.4,
             "#fde0ef"
            ],
            [
             0.5,
             "#f7f7f7"
            ],
            [
             0.6,
             "#e6f5d0"
            ],
            [
             0.7,
             "#b8e186"
            ],
            [
             0.8,
             "#7fbc41"
            ],
            [
             0.9,
             "#4d9221"
            ],
            [
             1,
             "#276419"
            ]
           ],
           "sequential": [
            [
             0,
             "#0d0887"
            ],
            [
             0.1111111111111111,
             "#46039f"
            ],
            [
             0.2222222222222222,
             "#7201a8"
            ],
            [
             0.3333333333333333,
             "#9c179e"
            ],
            [
             0.4444444444444444,
             "#bd3786"
            ],
            [
             0.5555555555555556,
             "#d8576b"
            ],
            [
             0.6666666666666666,
             "#ed7953"
            ],
            [
             0.7777777777777778,
             "#fb9f3a"
            ],
            [
             0.8888888888888888,
             "#fdca26"
            ],
            [
             1,
             "#f0f921"
            ]
           ],
           "sequentialminus": [
            [
             0,
             "#0d0887"
            ],
            [
             0.1111111111111111,
             "#46039f"
            ],
            [
             0.2222222222222222,
             "#7201a8"
            ],
            [
             0.3333333333333333,
             "#9c179e"
            ],
            [
             0.4444444444444444,
             "#bd3786"
            ],
            [
             0.5555555555555556,
             "#d8576b"
            ],
            [
             0.6666666666666666,
             "#ed7953"
            ],
            [
             0.7777777777777778,
             "#fb9f3a"
            ],
            [
             0.8888888888888888,
             "#fdca26"
            ],
            [
             1,
             "#f0f921"
            ]
           ]
          },
          "colorway": [
           "#636efa",
           "#EF553B",
           "#00cc96",
           "#ab63fa",
           "#FFA15A",
           "#19d3f3",
           "#FF6692",
           "#B6E880",
           "#FF97FF",
           "#FECB52"
          ],
          "font": {
           "color": "#2a3f5f"
          },
          "geo": {
           "bgcolor": "white",
           "lakecolor": "white",
           "landcolor": "#E5ECF6",
           "showlakes": true,
           "showland": true,
           "subunitcolor": "white"
          },
          "hoverlabel": {
           "align": "left"
          },
          "hovermode": "closest",
          "mapbox": {
           "style": "light"
          },
          "paper_bgcolor": "white",
          "plot_bgcolor": "#E5ECF6",
          "polar": {
           "angularaxis": {
            "gridcolor": "white",
            "linecolor": "white",
            "ticks": ""
           },
           "bgcolor": "#E5ECF6",
           "radialaxis": {
            "gridcolor": "white",
            "linecolor": "white",
            "ticks": ""
           }
          },
          "scene": {
           "xaxis": {
            "backgroundcolor": "#E5ECF6",
            "gridcolor": "white",
            "gridwidth": 2,
            "linecolor": "white",
            "showbackground": true,
            "ticks": "",
            "zerolinecolor": "white"
           },
           "yaxis": {
            "backgroundcolor": "#E5ECF6",
            "gridcolor": "white",
            "gridwidth": 2,
            "linecolor": "white",
            "showbackground": true,
            "ticks": "",
            "zerolinecolor": "white"
           },
           "zaxis": {
            "backgroundcolor": "#E5ECF6",
            "gridcolor": "white",
            "gridwidth": 2,
            "linecolor": "white",
            "showbackground": true,
            "ticks": "",
            "zerolinecolor": "white"
           }
          },
          "shapedefaults": {
           "line": {
            "color": "#2a3f5f"
           }
          },
          "ternary": {
           "aaxis": {
            "gridcolor": "white",
            "linecolor": "white",
            "ticks": ""
           },
           "baxis": {
            "gridcolor": "white",
            "linecolor": "white",
            "ticks": ""
           },
           "bgcolor": "#E5ECF6",
           "caxis": {
            "gridcolor": "white",
            "linecolor": "white",
            "ticks": ""
           }
          },
          "title": {
           "x": 0.05
          },
          "xaxis": {
           "automargin": true,
           "gridcolor": "white",
           "linecolor": "white",
           "ticks": "",
           "title": {
            "standoff": 15
           },
           "zerolinecolor": "white",
           "zerolinewidth": 2
          },
          "yaxis": {
           "automargin": true,
           "gridcolor": "white",
           "linecolor": "white",
           "ticks": "",
           "title": {
            "standoff": 15
           },
           "zerolinecolor": "white",
           "zerolinewidth": 2
          }
         }
        },
        "xaxis": {
         "anchor": "y",
         "domain": [
          0,
          1
         ],
         "title": {
          "text": "embed1"
         }
        },
        "yaxis": {
         "anchor": "x",
         "domain": [
          0,
          1
         ],
         "title": {
          "text": "embed2"
         }
        }
       }
      }
     },
     "metadata": {},
     "output_type": "display_data"
    }
   ],
   "source": [
    "# alternative mapping - smry lbls\n",
    "from graphcase_experiments.tools.calculate_embed import calculate_graphcase_embedding\n",
    "from graphcase_experiments.algos.GraphCaseWrapper import GraphCaseWrapper\n",
    "\n",
    "_, tbl = calculate_graphcase_embedding(\n",
    "            G, 'graphcase_experiments/data/enron/', params=GraphCaseWrapper.ENRON_PARAMS, verbose=True, algo=GraphCaseWrapper\n",
    "        )\n",
    "plotly_embedding(tbl)"
   ]
  },
  {
   "cell_type": "code",
   "execution_count": 34,
   "metadata": {},
   "outputs": [
    {
     "name": "stderr",
     "output_type": "stream",
     "text": [
      "/Users/tonpoppe/opt/anaconda3/envs/graphcase/lib/python3.8/site-packages/sklearn/model_selection/_split.py:676: UserWarning:\n",
      "\n",
      "The least populated class in y has only 2 members, which is less than n_splits=3.\n",
      "\n",
      "/Users/tonpoppe/opt/anaconda3/envs/graphcase/lib/python3.8/site-packages/joblib/externals/loky/process_executor.py:702: UserWarning:\n",
      "\n",
      "A worker stopped while some jobs were given to the executor. This can be caused by a too short worker timeout or by a memory leak.\n",
      "\n"
     ]
    },
    {
     "data": {
      "text/plain": [
       "<sklearn.metrics._plot.confusion_matrix.ConfusionMatrixDisplay at 0x7fbe9505e280>"
      ]
     },
     "execution_count": 34,
     "metadata": {},
     "output_type": "execute_result"
    },
    {
     "data": {
      "image/png": "[encoded data removed]",
      "text/plain": [
       "<Figure size 432x288 with 2 Axes>"
      ]
     },
     "metadata": {
      "needs_background": "light"
     },
     "output_type": "display_data"
    }
   ],
   "source": [
    "# get the confussion matrix\n",
    "from sklearn.metrics import ConfusionMatrixDisplay\n",
    "from graphcase_experiments.experiments.ring_exp import classify_svm\n",
    "svm_res = classify_svm(tbl, test_size=0.5)\n",
    "ConfusionMatrixDisplay.from_predictions(tbl['label_id'], svm_res['pred_labels'])"
   ]
  },
  {
   "cell_type": "code",
   "execution_count": 40,
   "metadata": {},
   "outputs": [
    {
     "data": {
      "text/html": [
       "<div>\n",
       "<style scoped>\n",
       "    .dataframe tbody tr th:only-of-type {\n",
       "        vertical-align: middle;\n",
       "    }\n",
       "\n",
       "    .dataframe tbody tr th {\n",
       "        vertical-align: top;\n",
       "    }\n",
       "\n",
       "    .dataframe thead th {\n",
       "        text-align: right;\n",
       "    }\n",
       "</style>\n",
       "<table border=\"1\" class=\"dataframe\">\n",
       "  <thead>\n",
       "    <tr style=\"text-align: right;\">\n",
       "      <th></th>\n",
       "      <th>label</th>\n",
       "      <th>label_id</th>\n",
       "    </tr>\n",
       "  </thead>\n",
       "  <tbody>\n",
       "    <tr>\n",
       "      <th>0</th>\n",
       "      <td>managing director</td>\n",
       "      <td>0</td>\n",
       "    </tr>\n",
       "    <tr>\n",
       "      <th>1</th>\n",
       "      <td>vice president</td>\n",
       "      <td>1</td>\n",
       "    </tr>\n",
       "    <tr>\n",
       "      <th>3</th>\n",
       "      <td>employee</td>\n",
       "      <td>2</td>\n",
       "    </tr>\n",
       "    <tr>\n",
       "      <th>4</th>\n",
       "      <td>director</td>\n",
       "      <td>3</td>\n",
       "    </tr>\n",
       "    <tr>\n",
       "      <th>5</th>\n",
       "      <td>specialist</td>\n",
       "      <td>4</td>\n",
       "    </tr>\n",
       "    <tr>\n",
       "      <th>6</th>\n",
       "      <td>attorney-legal asst.</td>\n",
       "      <td>5</td>\n",
       "    </tr>\n",
       "    <tr>\n",
       "      <th>10</th>\n",
       "      <td>trader</td>\n",
       "      <td>6</td>\n",
       "    </tr>\n",
       "    <tr>\n",
       "      <th>22</th>\n",
       "      <td>ceos-president</td>\n",
       "      <td>7</td>\n",
       "    </tr>\n",
       "    <tr>\n",
       "      <th>33</th>\n",
       "      <td>executive vp</td>\n",
       "      <td>8</td>\n",
       "    </tr>\n",
       "    <tr>\n",
       "      <th>35</th>\n",
       "      <td>manager</td>\n",
       "      <td>9</td>\n",
       "    </tr>\n",
       "  </tbody>\n",
       "</table>\n",
       "</div>"
      ],
      "text/plain": [
       "                   label  label_id\n",
       "0      managing director         0\n",
       "1         vice president         1\n",
       "3               employee         2\n",
       "4               director         3\n",
       "5             specialist         4\n",
       "6   attorney-legal asst.         5\n",
       "10                trader         6\n",
       "22        ceos-president         7\n",
       "33          executive vp         8\n",
       "35               manager         9"
      ]
     },
     "execution_count": 40,
     "metadata": {},
     "output_type": "execute_result"
    }
   ],
   "source": [
    "tbl[['label', 'label_id']].drop_duplicates()"
   ]
  },
  {
   "cell_type": "code",
   "execution_count": 44,
   "metadata": {},
   "outputs": [
    {
     "data": {
      "text/plain": [
       "{'attr_received_size': 0.531791517680996,\n",
       " 'attr_cnt_to': 0.7125429053174699,\n",
       " 'attr_cnt_cc': 0.5935953401320436,\n",
       " 'attr_sent_size': 0.7286380122813382,\n",
       " 'attr_cnt_send': 0.7043850139439287,\n",
       " 'label': 'vice president',\n",
       " 'old_id': 'neal-s'}"
      ]
     },
     "execution_count": 44,
     "metadata": {},
     "output_type": "execute_result"
    }
   ],
   "source": [
    "G.nodes[1]"
   ]
  },
  {
   "cell_type": "markdown",
   "metadata": {},
   "source": [
    "## gridsearch"
   ]
  },
  {
   "cell_type": "code",
   "execution_count": 45,
   "metadata": {},
   "outputs": [
    {
     "name": "stderr",
     "output_type": "stream",
     "text": [
      "WARNING:absl:Found untraced functions such as dense_78_layer_call_fn, dense_78_layer_call_and_return_conditional_losses, dense_79_layer_call_fn, dense_79_layer_call_and_return_conditional_losses while saving (showing 4 of 4). These functions will not be directly callable after loading.\n",
      "WARNING:absl:Found untraced functions such as dense_88_layer_call_fn, dense_88_layer_call_and_return_conditional_losses, dense_89_layer_call_fn, dense_89_layer_call_and_return_conditional_losses while saving (showing 4 of 4). These functions will not be directly callable after loading.\n",
      "WARNING:absl:Found untraced functions such as dense_98_layer_call_fn, dense_98_layer_call_and_return_conditional_losses, dense_99_layer_call_fn, dense_99_layer_call_and_return_conditional_losses while saving (showing 4 of 4). These functions will not be directly callable after loading.\n"
     ]
    },
    {
     "name": "stdout",
     "output_type": "stream",
     "text": [
      "grid search took 80.9 seconds to run, 26.970109701156616 per run\n"
     ]
    },
    {
     "data": {
      "image/png": "[encoded data removed]",
      "text/plain": [
       "<Figure size 432x288 with 1 Axes>"
      ]
     },
     "metadata": {
      "needs_background": "light"
     },
     "output_type": "display_data"
    }
   ],
   "source": [
    "# gridsearch\n",
    "from graphcase_experiments.tools.gridsearch import grid_search_graphcase\n",
    "def search_params(trial):\n",
    "    return {\n",
    "        'learning_rate': trial.suggest_float(\"learning_rate\", 1e-5, 1e-4, log=True),\n",
    "        'act': trial.suggest_categorical(\"act\", ['relu', 'sigmoid', 'identity']),\n",
    "        'useBN': trial.suggest_categorical(\"useBN\", [True]),\n",
    "        'dropout': trial.suggest_float(\"dropout\", 0.1, 0.2),\n",
    "        'support_size': trial.suggest_int(\"support_size\", 7, 10),\n",
    "        'dims': trial.suggest_int(\"dims\", 32, 128)\n",
    "    }\n",
    "FIXED_PARAMS = {\n",
    "        'batch_size': 30,\n",
    "        'hub0_feature_with_neighb_dim': 128,\n",
    "        'verbose': False,\n",
    "        'seed': 1,\n",
    "        'encoder_labels': ['attr_received_size', 'attr_cnt_to', 'attr_cnt_cc', 'attr_sent_size', 'attr_cnt_send'],\n",
    "        'epochs': 10,  #1000,\n",
    "        'trials': 3  #200\n",
    "    }\n",
    "\n",
    "PATH = 'graphcase_experiments/data/enron/'\n",
    "\n",
    "grid_search_res = grid_search_graphcase(G, PATH, [search_params, FIXED_PARAMS])\n"
   ]
  },
  {
   "cell_type": "code",
   "execution_count": 46,
   "metadata": {},
   "outputs": [
    {
     "data": {
      "text/plain": [
       "{'batch_size': 30,\n",
       " 'hub0_feature_with_neighb_dim': 128,\n",
       " 'verbose': False,\n",
       " 'seed': 1,\n",
       " 'encoder_labels': ['attr_received_size',\n",
       "  'attr_cnt_to',\n",
       "  'attr_cnt_cc',\n",
       "  'attr_sent_size',\n",
       "  'attr_cnt_send'],\n",
       " 'learning_rate': 2.2159539296803902e-05,\n",
       " 'act': <function tensorflow.python.ops.math_ops.sigmoid(x, name=None)>,\n",
       " 'useBN': True,\n",
       " 'dropout': 0.16852195003967596,\n",
       " 'support_size': [7, 7],\n",
       " 'dims': [3, 117, 117, 117],\n",
       " 'epochs': 10}"
      ]
     },
     "execution_count": 46,
     "metadata": {},
     "output_type": "execute_result"
    }
   ],
   "source": [
    "grid_search_res[1]"
   ]
  },
  {
   "cell_type": "markdown",
   "metadata": {},
   "source": [
    "## calculate performance"
   ]
  },
  {
   "cell_type": "code",
   "execution_count": 41,
   "metadata": {},
   "outputs": [
    {
     "name": "stderr",
     "output_type": "stream",
     "text": [
      "WARNING:absl:Found untraced functions such as dense_28_layer_call_fn, dense_28_layer_call_and_return_conditional_losses, dense_29_layer_call_fn, dense_29_layer_call_and_return_conditional_losses while saving (showing 4 of 4). These functions will not be directly callable after loading.\n",
      "/Users/tonpoppe/opt/anaconda3/envs/graphcase/lib/python3.8/site-packages/sklearn/model_selection/_split.py:676: UserWarning:\n",
      "\n",
      "The least populated class in y has only 2 members, which is less than n_splits=3.\n",
      "\n",
      "/Users/tonpoppe/opt/anaconda3/envs/graphcase/lib/python3.8/site-packages/sklearn/metrics/_classification.py:1318: UndefinedMetricWarning:\n",
      "\n",
      "Precision is ill-defined and being set to 0.0 in labels with no predicted samples. Use `zero_division` parameter to control this behavior.\n",
      "\n",
      "WARNING:absl:Found untraced functions such as dense_38_layer_call_fn, dense_38_layer_call_and_return_conditional_losses, dense_39_layer_call_fn, dense_39_layer_call_and_return_conditional_losses while saving (showing 4 of 4). These functions will not be directly callable after loading.\n",
      "/Users/tonpoppe/opt/anaconda3/envs/graphcase/lib/python3.8/site-packages/sklearn/model_selection/_split.py:676: UserWarning:\n",
      "\n",
      "The least populated class in y has only 2 members, which is less than n_splits=3.\n",
      "\n",
      "WARNING:absl:Found untraced functions such as dense_48_layer_call_fn, dense_48_layer_call_and_return_conditional_losses, dense_49_layer_call_fn, dense_49_layer_call_and_return_conditional_losses while saving (showing 4 of 4). These functions will not be directly callable after loading.\n",
      "/Users/tonpoppe/opt/anaconda3/envs/graphcase/lib/python3.8/site-packages/sklearn/model_selection/_split.py:676: UserWarning:\n",
      "\n",
      "The least populated class in y has only 2 members, which is less than n_splits=3.\n",
      "\n",
      "WARNING:absl:Found untraced functions such as dense_58_layer_call_fn, dense_58_layer_call_and_return_conditional_losses, dense_59_layer_call_fn, dense_59_layer_call_and_return_conditional_losses while saving (showing 4 of 4). These functions will not be directly callable after loading.\n",
      "/Users/tonpoppe/opt/anaconda3/envs/graphcase/lib/python3.8/site-packages/sklearn/model_selection/_split.py:676: UserWarning:\n",
      "\n",
      "The least populated class in y has only 2 members, which is less than n_splits=3.\n",
      "\n"
     ]
    },
    {
     "ename": "KeyboardInterrupt",
     "evalue": "",
     "output_type": "error",
     "traceback": [
      "\u001b[0;31m---------------------------------------------------------------------------\u001b[0m",
      "\u001b[0;31mKeyboardInterrupt\u001b[0m                         Traceback (most recent call last)",
      "\u001b[1;32m/Users/tonpoppe/workspace/graphcase_experiments/graphcase_experiments/graphcase_experiments/analysis/enron_final_mapping.ipynb Cell 10'\u001b[0m in \u001b[0;36m<module>\u001b[0;34m\u001b[0m\n\u001b[1;32m      <a href='vscode-notebook-cell:/Users/tonpoppe/workspace/graphcase_experiments/graphcase_experiments/graphcase_experiments/analysis/enron_final_mapping.ipynb#ch0000011?line=0'>1</a>\u001b[0m \u001b[39m# alternative mapping - detailed lbls\u001b[39;00m\n\u001b[1;32m      <a href='vscode-notebook-cell:/Users/tonpoppe/workspace/graphcase_experiments/graphcase_experiments/graphcase_experiments/analysis/enron_final_mapping.ipynb#ch0000011?line=1'>2</a>\u001b[0m \u001b[39mfrom\u001b[39;00m \u001b[39mgraphcase_experiments\u001b[39;00m\u001b[39m.\u001b[39;00m\u001b[39mexperiments\u001b[39;00m\u001b[39m.\u001b[39;00m\u001b[39menron_comp\u001b[39;00m \u001b[39mimport\u001b[39;00m calc_enron_performance\n\u001b[0;32m----> <a href='vscode-notebook-cell:/Users/tonpoppe/workspace/graphcase_experiments/graphcase_experiments/graphcase_experiments/analysis/enron_final_mapping.ipynb#ch0000011?line=2'>3</a>\u001b[0m ind, res \u001b[39m=\u001b[39m calc_enron_performance(G\u001b[39m=\u001b[39;49mG, test_size\u001b[39m=\u001b[39;49m\u001b[39m0.5\u001b[39;49m, runs\u001b[39m=\u001b[39;49m\u001b[39m5\u001b[39;49m)\n",
      "File \u001b[0;32m~/workspace/graphcase_experiments/graphcase_experiments/graphcase_experiments/experiments/enron_comp.py:51\u001b[0m, in \u001b[0;36mcalc_enron_performance\u001b[0;34m(algos, G, source_path, test_size, runs)\u001b[0m\n\u001b[1;32m     49\u001b[0m \u001b[39mif\u001b[39;00m \u001b[39m'\u001b[39m\u001b[39mseed\u001b[39m\u001b[39m'\u001b[39m \u001b[39min\u001b[39;00m params:\n\u001b[1;32m     50\u001b[0m     params[\u001b[39m'\u001b[39m\u001b[39mseed\u001b[39m\u001b[39m'\u001b[39m] \u001b[39m=\u001b[39m s\n\u001b[0;32m---> 51\u001b[0m algo_res \u001b[39m=\u001b[39m proces_graph(graph\u001b[39m=\u001b[39;49mG, params\u001b[39m=\u001b[39;49mparams, algo\u001b[39m=\u001b[39;49malgo, seed\u001b[39m=\u001b[39;49ms, test_size \u001b[39m=\u001b[39;49m test_size)\n\u001b[1;32m     52\u001b[0m algo_res[\u001b[39m'\u001b[39m\u001b[39malgo\u001b[39m\u001b[39m'\u001b[39m] \u001b[39m=\u001b[39m algo\u001b[39m.\u001b[39mNAME\n\u001b[1;32m     53\u001b[0m algo_res[\u001b[39m'\u001b[39m\u001b[39mseed\u001b[39m\u001b[39m'\u001b[39m] \u001b[39m=\u001b[39m s\n",
      "File \u001b[0;32m~/workspace/graphcase_experiments/graphcase_experiments/graphcase_experiments/experiments/ring_exp.py:170\u001b[0m, in \u001b[0;36mproces_graph\u001b[0;34m(graph, params, algo, test_size, seed)\u001b[0m\n\u001b[1;32m    168\u001b[0m \u001b[39mdef\u001b[39;00m \u001b[39mproces_graph\u001b[39m(graph, params, algo\u001b[39m=\u001b[39mGraphAutoEncoder, test_size \u001b[39m=\u001b[39m \u001b[39m0.75\u001b[39m, seed\u001b[39m=\u001b[39m\u001b[39m1\u001b[39m):\n\u001b[1;32m    169\u001b[0m     res \u001b[39m=\u001b[39m {}\n\u001b[0;32m--> 170\u001b[0m     _, tbl \u001b[39m=\u001b[39m calculate_graphcase_embedding(\n\u001b[1;32m    171\u001b[0m             graph, PATH, params\u001b[39m=\u001b[39;49mparams, verbose\u001b[39m=\u001b[39;49m\u001b[39mFalse\u001b[39;49;00m, algo\u001b[39m=\u001b[39;49malgo\n\u001b[1;32m    172\u001b[0m         )\n\u001b[1;32m    174\u001b[0m     \u001b[39m# remove no labels\u001b[39;00m\n\u001b[1;32m    175\u001b[0m     tbl \u001b[39m=\u001b[39m tbl\u001b[39m.\u001b[39mdrop(tbl[tbl[\u001b[39m'\u001b[39m\u001b[39mlabel\u001b[39m\u001b[39m'\u001b[39m]\u001b[39m==\u001b[39m\u001b[39m'\u001b[39m\u001b[39mno_label\u001b[39m\u001b[39m'\u001b[39m]\u001b[39m.\u001b[39mindex)\n",
      "File \u001b[0;32m~/workspace/graphcase_experiments/graphcase_experiments/graphcase_experiments/tools/calculate_embed.py:18\u001b[0m, in \u001b[0;36mcalculate_graphcase_embedding\u001b[0;34m(G, path, params, verbose, algo)\u001b[0m\n\u001b[1;32m     16\u001b[0m algo_instance \u001b[39m=\u001b[39m algo(G, \u001b[39m*\u001b[39m\u001b[39m*\u001b[39mparams)\n\u001b[1;32m     17\u001b[0m mlflow\u001b[39m.\u001b[39mautolog(silent\u001b[39m=\u001b[39m\u001b[39mTrue\u001b[39;00m) \n\u001b[0;32m---> 18\u001b[0m hist \u001b[39m=\u001b[39m algo_instance\u001b[39m.\u001b[39;49mfit(epochs\u001b[39m=\u001b[39;49mepochs, layer_wise\u001b[39m=\u001b[39;49m\u001b[39mFalse\u001b[39;49;00m)\n\u001b[1;32m     19\u001b[0m embed \u001b[39m=\u001b[39m algo_instance\u001b[39m.\u001b[39mcalculate_embeddings(G)\n\u001b[1;32m     21\u001b[0m \u001b[39m#save model\u001b[39;00m\n",
      "File \u001b[0;32m~/opt/anaconda3/envs/graphcase/lib/python3.8/site-packages/GAE/graph_case_controller.py:267\u001b[0m, in \u001b[0;36mGraphAutoEncoder.fit\u001b[0;34m(self, graph, verbose, layer_wise, epochs)\u001b[0m\n\u001b[1;32m    263\u001b[0m     \u001b[39massert\u001b[39;00m validation_steps\u001b[39m>\u001b[39m\u001b[39m0\u001b[39m, \u001b[39m\"\u001b[39m\u001b[39mbatch_size greater then 1 validation epoch\u001b[39m\u001b[39m\"\u001b[39m\n\u001b[1;32m    264\u001b[0m     \u001b[39m# early_stop = tf.keras.callbacks.EarlyStopping(\u001b[39;00m\n\u001b[1;32m    265\u001b[0m     \u001b[39m#     monitor='val_loss', min_delta=0, patience=3, verbose=0\u001b[39;00m\n\u001b[1;32m    266\u001b[0m     \u001b[39m# )\u001b[39;00m\n\u001b[0;32m--> 267\u001b[0m     history \u001b[39m=\u001b[39m \u001b[39mself\u001b[39;49m\u001b[39m.\u001b[39;49mmodel\u001b[39m.\u001b[39;49mfit(\n\u001b[1;32m    268\u001b[0m         train_data,\n\u001b[1;32m    269\u001b[0m         validation_data\u001b[39m=\u001b[39;49mvalidation_data,\n\u001b[1;32m    270\u001b[0m         epochs\u001b[39m=\u001b[39;49mepochs,\n\u001b[1;32m    271\u001b[0m         verbose\u001b[39m=\u001b[39;49mmodel_verbose,\n\u001b[1;32m    272\u001b[0m         steps_per_epoch\u001b[39m=\u001b[39;49msteps_per_epoch,\n\u001b[1;32m    273\u001b[0m         validation_steps\u001b[39m=\u001b[39;49mvalidation_steps,\n\u001b[1;32m    274\u001b[0m         \u001b[39m# callbacks=[early_stop]\u001b[39;49;00m\n\u001b[1;32m    275\u001b[0m     )\n\u001b[1;32m    276\u001b[0m     hist[l] \u001b[39m=\u001b[39m history\n\u001b[1;32m    277\u001b[0m \u001b[39mreturn\u001b[39;00m hist\n",
      "File \u001b[0;32m~/opt/anaconda3/envs/graphcase/lib/python3.8/site-packages/mlflow/utils/autologging_utils/safety.py:546\u001b[0m, in \u001b[0;36msafe_patch.<locals>.safe_patch_function\u001b[0;34m(*args, **kwargs)\u001b[0m\n\u001b[1;32m    536\u001b[0m try_log_autologging_event(\n\u001b[1;32m    537\u001b[0m     AutologgingEventLogger\u001b[39m.\u001b[39mget_logger()\u001b[39m.\u001b[39mlog_patch_function_start,\n\u001b[1;32m    538\u001b[0m     session,\n\u001b[0;32m   (...)\u001b[0m\n\u001b[1;32m    542\u001b[0m     kwargs,\n\u001b[1;32m    543\u001b[0m )\n\u001b[1;32m    545\u001b[0m \u001b[39mif\u001b[39;00m patch_is_class:\n\u001b[0;32m--> 546\u001b[0m     patch_function\u001b[39m.\u001b[39;49mcall(call_original, \u001b[39m*\u001b[39;49margs, \u001b[39m*\u001b[39;49m\u001b[39m*\u001b[39;49mkwargs)\n\u001b[1;32m    547\u001b[0m \u001b[39melse\u001b[39;00m:\n\u001b[1;32m    548\u001b[0m     patch_function(call_original, \u001b[39m*\u001b[39margs, \u001b[39m*\u001b[39m\u001b[39m*\u001b[39mkwargs)\n",
      "File \u001b[0;32m~/opt/anaconda3/envs/graphcase/lib/python3.8/site-packages/mlflow/utils/autologging_utils/safety.py:168\u001b[0m, in \u001b[0;36mPatchFunction.call\u001b[0;34m(cls, original, *args, **kwargs)\u001b[0m\n\u001b[1;32m    166\u001b[0m \u001b[39m@classmethod\u001b[39m\n\u001b[1;32m    167\u001b[0m \u001b[39mdef\u001b[39;00m \u001b[39mcall\u001b[39m(\u001b[39mcls\u001b[39m, original, \u001b[39m*\u001b[39margs, \u001b[39m*\u001b[39m\u001b[39m*\u001b[39mkwargs):\n\u001b[0;32m--> 168\u001b[0m     \u001b[39mreturn\u001b[39;00m \u001b[39mcls\u001b[39;49m()\u001b[39m.\u001b[39;49m\u001b[39m__call__\u001b[39;49m(original, \u001b[39m*\u001b[39;49margs, \u001b[39m*\u001b[39;49m\u001b[39m*\u001b[39;49mkwargs)\n",
      "File \u001b[0;32m~/opt/anaconda3/envs/graphcase/lib/python3.8/site-packages/mlflow/utils/autologging_utils/safety.py:179\u001b[0m, in \u001b[0;36mPatchFunction.__call__\u001b[0;34m(self, original, *args, **kwargs)\u001b[0m\n\u001b[1;32m    175\u001b[0m     \u001b[39mself\u001b[39m\u001b[39m.\u001b[39m_on_exception(e)\n\u001b[1;32m    176\u001b[0m \u001b[39mfinally\u001b[39;00m:\n\u001b[1;32m    177\u001b[0m     \u001b[39m# Regardless of what happens during the `_on_exception` callback, reraise\u001b[39;00m\n\u001b[1;32m    178\u001b[0m     \u001b[39m# the original implementation exception once the callback completes\u001b[39;00m\n\u001b[0;32m--> 179\u001b[0m     \u001b[39mraise\u001b[39;00m e\n",
      "File \u001b[0;32m~/opt/anaconda3/envs/graphcase/lib/python3.8/site-packages/mlflow/utils/autologging_utils/safety.py:172\u001b[0m, in \u001b[0;36mPatchFunction.__call__\u001b[0;34m(self, original, *args, **kwargs)\u001b[0m\n\u001b[1;32m    170\u001b[0m \u001b[39mdef\u001b[39;00m \u001b[39m__call__\u001b[39m(\u001b[39mself\u001b[39m, original, \u001b[39m*\u001b[39margs, \u001b[39m*\u001b[39m\u001b[39m*\u001b[39mkwargs):\n\u001b[1;32m    171\u001b[0m     \u001b[39mtry\u001b[39;00m:\n\u001b[0;32m--> 172\u001b[0m         \u001b[39mreturn\u001b[39;00m \u001b[39mself\u001b[39;49m\u001b[39m.\u001b[39;49m_patch_implementation(original, \u001b[39m*\u001b[39;49margs, \u001b[39m*\u001b[39;49m\u001b[39m*\u001b[39;49mkwargs)\n\u001b[1;32m    173\u001b[0m     \u001b[39mexcept\u001b[39;00m (\u001b[39mException\u001b[39;00m, \u001b[39mKeyboardInterrupt\u001b[39;00m) \u001b[39mas\u001b[39;00m e:\n\u001b[1;32m    174\u001b[0m         \u001b[39mtry\u001b[39;00m:\n",
      "File \u001b[0;32m~/opt/anaconda3/envs/graphcase/lib/python3.8/site-packages/mlflow/utils/autologging_utils/safety.py:230\u001b[0m, in \u001b[0;36mwith_managed_run.<locals>.PatchWithManagedRun._patch_implementation\u001b[0;34m(self, original, *args, **kwargs)\u001b[0m\n\u001b[1;32m    227\u001b[0m \u001b[39mif\u001b[39;00m \u001b[39mnot\u001b[39;00m mlflow\u001b[39m.\u001b[39mactive_run():\n\u001b[1;32m    228\u001b[0m     \u001b[39mself\u001b[39m\u001b[39m.\u001b[39mmanaged_run \u001b[39m=\u001b[39m create_managed_run()\n\u001b[0;32m--> 230\u001b[0m result \u001b[39m=\u001b[39m \u001b[39msuper\u001b[39;49m(PatchWithManagedRun, \u001b[39mself\u001b[39;49m)\u001b[39m.\u001b[39;49m_patch_implementation(\n\u001b[1;32m    231\u001b[0m     original, \u001b[39m*\u001b[39;49margs, \u001b[39m*\u001b[39;49m\u001b[39m*\u001b[39;49mkwargs\n\u001b[1;32m    232\u001b[0m )\n\u001b[1;32m    234\u001b[0m \u001b[39mif\u001b[39;00m \u001b[39mself\u001b[39m\u001b[39m.\u001b[39mmanaged_run:\n\u001b[1;32m    235\u001b[0m     mlflow\u001b[39m.\u001b[39mend_run(RunStatus\u001b[39m.\u001b[39mto_string(RunStatus\u001b[39m.\u001b[39mFINISHED))\n",
      "File \u001b[0;32m~/opt/anaconda3/envs/graphcase/lib/python3.8/site-packages/mlflow/tensorflow/__init__.py:937\u001b[0m, in \u001b[0;36mautolog.<locals>.FitPatch._patch_implementation\u001b[0;34m(self, original, inst, *args, **kwargs)\u001b[0m\n\u001b[1;32m    934\u001b[0m early_stop_callback \u001b[39m=\u001b[39m _get_early_stop_callback(callbacks)\n\u001b[1;32m    935\u001b[0m _log_early_stop_callback_params(early_stop_callback)\n\u001b[0;32m--> 937\u001b[0m history \u001b[39m=\u001b[39m original(inst, \u001b[39m*\u001b[39;49margs, \u001b[39m*\u001b[39;49m\u001b[39m*\u001b[39;49mkwargs)\n\u001b[1;32m    939\u001b[0m \u001b[39mif\u001b[39;00m log_models:\n\u001b[1;32m    941\u001b[0m     \u001b[39mdef\u001b[39;00m \u001b[39m_get_input_data_slice\u001b[39m():\n",
      "File \u001b[0;32m~/opt/anaconda3/envs/graphcase/lib/python3.8/site-packages/mlflow/utils/autologging_utils/safety.py:529\u001b[0m, in \u001b[0;36msafe_patch.<locals>.safe_patch_function.<locals>.call_original\u001b[0;34m(*og_args, **og_kwargs)\u001b[0m\n\u001b[1;32m    526\u001b[0m         original_result \u001b[39m=\u001b[39m original(\u001b[39m*\u001b[39m_og_args, \u001b[39m*\u001b[39m\u001b[39m*\u001b[39m_og_kwargs)\n\u001b[1;32m    527\u001b[0m         \u001b[39mreturn\u001b[39;00m original_result\n\u001b[0;32m--> 529\u001b[0m \u001b[39mreturn\u001b[39;00m call_original_fn_with_event_logging(_original_fn, og_args, og_kwargs)\n",
      "File \u001b[0;32m~/opt/anaconda3/envs/graphcase/lib/python3.8/site-packages/mlflow/utils/autologging_utils/safety.py:471\u001b[0m, in \u001b[0;36msafe_patch.<locals>.safe_patch_function.<locals>.call_original_fn_with_event_logging\u001b[0;34m(original_fn, og_args, og_kwargs)\u001b[0m\n\u001b[1;32m    462\u001b[0m \u001b[39mtry\u001b[39;00m:\n\u001b[1;32m    463\u001b[0m     try_log_autologging_event(\n\u001b[1;32m    464\u001b[0m         AutologgingEventLogger\u001b[39m.\u001b[39mget_logger()\u001b[39m.\u001b[39mlog_original_function_start,\n\u001b[1;32m    465\u001b[0m         session,\n\u001b[0;32m   (...)\u001b[0m\n\u001b[1;32m    469\u001b[0m         og_kwargs,\n\u001b[1;32m    470\u001b[0m     )\n\u001b[0;32m--> 471\u001b[0m     original_fn_result \u001b[39m=\u001b[39m original_fn(\u001b[39m*\u001b[39;49mog_args, \u001b[39m*\u001b[39;49m\u001b[39m*\u001b[39;49mog_kwargs)\n\u001b[1;32m    473\u001b[0m     try_log_autologging_event(\n\u001b[1;32m    474\u001b[0m         AutologgingEventLogger\u001b[39m.\u001b[39mget_logger()\u001b[39m.\u001b[39mlog_original_function_success,\n\u001b[1;32m    475\u001b[0m         session,\n\u001b[0;32m   (...)\u001b[0m\n\u001b[1;32m    479\u001b[0m         og_kwargs,\n\u001b[1;32m    480\u001b[0m     )\n\u001b[1;32m    481\u001b[0m     \u001b[39mreturn\u001b[39;00m original_fn_result\n",
      "File \u001b[0;32m~/opt/anaconda3/envs/graphcase/lib/python3.8/site-packages/mlflow/utils/autologging_utils/safety.py:526\u001b[0m, in \u001b[0;36msafe_patch.<locals>.safe_patch_function.<locals>.call_original.<locals>._original_fn\u001b[0;34m(*_og_args, **_og_kwargs)\u001b[0m\n\u001b[1;32m    518\u001b[0m \u001b[39m# Show all non-MLflow warnings as normal (i.e. not as event logs)\u001b[39;00m\n\u001b[1;32m    519\u001b[0m \u001b[39m# during original function execution, even if silent mode is enabled\u001b[39;00m\n\u001b[1;32m    520\u001b[0m \u001b[39m# (`silent=True`), since these warnings originate from the ML framework\u001b[39;00m\n\u001b[1;32m    521\u001b[0m \u001b[39m# or one of its dependencies and are likely relevant to the caller\u001b[39;00m\n\u001b[1;32m    522\u001b[0m \u001b[39mwith\u001b[39;00m set_non_mlflow_warnings_behavior_for_current_thread(\n\u001b[1;32m    523\u001b[0m     disable_warnings\u001b[39m=\u001b[39m\u001b[39mFalse\u001b[39;00m,\n\u001b[1;32m    524\u001b[0m     reroute_warnings\u001b[39m=\u001b[39m\u001b[39mFalse\u001b[39;00m,\n\u001b[1;32m    525\u001b[0m ):\n\u001b[0;32m--> 526\u001b[0m     original_result \u001b[39m=\u001b[39m original(\u001b[39m*\u001b[39;49m_og_args, \u001b[39m*\u001b[39;49m\u001b[39m*\u001b[39;49m_og_kwargs)\n\u001b[1;32m    527\u001b[0m     \u001b[39mreturn\u001b[39;00m original_result\n",
      "File \u001b[0;32m~/opt/anaconda3/envs/graphcase/lib/python3.8/site-packages/keras/utils/traceback_utils.py:64\u001b[0m, in \u001b[0;36mfilter_traceback.<locals>.error_handler\u001b[0;34m(*args, **kwargs)\u001b[0m\n\u001b[1;32m     62\u001b[0m filtered_tb \u001b[39m=\u001b[39m \u001b[39mNone\u001b[39;00m\n\u001b[1;32m     63\u001b[0m \u001b[39mtry\u001b[39;00m:\n\u001b[0;32m---> 64\u001b[0m   \u001b[39mreturn\u001b[39;00m fn(\u001b[39m*\u001b[39;49margs, \u001b[39m*\u001b[39;49m\u001b[39m*\u001b[39;49mkwargs)\n\u001b[1;32m     65\u001b[0m \u001b[39mexcept\u001b[39;00m \u001b[39mException\u001b[39;00m \u001b[39mas\u001b[39;00m e:  \u001b[39m# pylint: disable=broad-except\u001b[39;00m\n\u001b[1;32m     66\u001b[0m   filtered_tb \u001b[39m=\u001b[39m _process_traceback_frames(e\u001b[39m.\u001b[39m__traceback__)\n",
      "File \u001b[0;32m~/opt/anaconda3/envs/graphcase/lib/python3.8/site-packages/keras/engine/training.py:1420\u001b[0m, in \u001b[0;36mModel.fit\u001b[0;34m(self, x, y, batch_size, epochs, verbose, callbacks, validation_split, validation_data, shuffle, class_weight, sample_weight, initial_epoch, steps_per_epoch, validation_steps, validation_batch_size, validation_freq, max_queue_size, workers, use_multiprocessing)\u001b[0m\n\u001b[1;32m   1406\u001b[0m \u001b[39mif\u001b[39;00m \u001b[39mgetattr\u001b[39m(\u001b[39mself\u001b[39m, \u001b[39m'\u001b[39m\u001b[39m_eval_data_handler\u001b[39m\u001b[39m'\u001b[39m, \u001b[39mNone\u001b[39;00m) \u001b[39mis\u001b[39;00m \u001b[39mNone\u001b[39;00m:\n\u001b[1;32m   1407\u001b[0m   \u001b[39mself\u001b[39m\u001b[39m.\u001b[39m_eval_data_handler \u001b[39m=\u001b[39m data_adapter\u001b[39m.\u001b[39mget_data_handler(\n\u001b[1;32m   1408\u001b[0m       x\u001b[39m=\u001b[39mval_x,\n\u001b[1;32m   1409\u001b[0m       y\u001b[39m=\u001b[39mval_y,\n\u001b[0;32m   (...)\u001b[0m\n\u001b[1;32m   1418\u001b[0m       model\u001b[39m=\u001b[39m\u001b[39mself\u001b[39m,\n\u001b[1;32m   1419\u001b[0m       steps_per_execution\u001b[39m=\u001b[39m\u001b[39mself\u001b[39m\u001b[39m.\u001b[39m_steps_per_execution)\n\u001b[0;32m-> 1420\u001b[0m val_logs \u001b[39m=\u001b[39m \u001b[39mself\u001b[39;49m\u001b[39m.\u001b[39;49mevaluate(\n\u001b[1;32m   1421\u001b[0m     x\u001b[39m=\u001b[39;49mval_x,\n\u001b[1;32m   1422\u001b[0m     y\u001b[39m=\u001b[39;49mval_y,\n\u001b[1;32m   1423\u001b[0m     sample_weight\u001b[39m=\u001b[39;49mval_sample_weight,\n\u001b[1;32m   1424\u001b[0m     batch_size\u001b[39m=\u001b[39;49mvalidation_batch_size \u001b[39mor\u001b[39;49;00m batch_size,\n\u001b[1;32m   1425\u001b[0m     steps\u001b[39m=\u001b[39;49mvalidation_steps,\n\u001b[1;32m   1426\u001b[0m     callbacks\u001b[39m=\u001b[39;49mcallbacks,\n\u001b[1;32m   1427\u001b[0m     max_queue_size\u001b[39m=\u001b[39;49mmax_queue_size,\n\u001b[1;32m   1428\u001b[0m     workers\u001b[39m=\u001b[39;49mworkers,\n\u001b[1;32m   1429\u001b[0m     use_multiprocessing\u001b[39m=\u001b[39;49muse_multiprocessing,\n\u001b[1;32m   1430\u001b[0m     return_dict\u001b[39m=\u001b[39;49m\u001b[39mTrue\u001b[39;49;00m,\n\u001b[1;32m   1431\u001b[0m     _use_cached_eval_dataset\u001b[39m=\u001b[39;49m\u001b[39mTrue\u001b[39;49;00m)\n\u001b[1;32m   1432\u001b[0m val_logs \u001b[39m=\u001b[39m {\u001b[39m'\u001b[39m\u001b[39mval_\u001b[39m\u001b[39m'\u001b[39m \u001b[39m+\u001b[39m name: val \u001b[39mfor\u001b[39;00m name, val \u001b[39min\u001b[39;00m val_logs\u001b[39m.\u001b[39mitems()}\n\u001b[1;32m   1433\u001b[0m epoch_logs\u001b[39m.\u001b[39mupdate(val_logs)\n",
      "File \u001b[0;32m~/opt/anaconda3/envs/graphcase/lib/python3.8/site-packages/keras/utils/traceback_utils.py:64\u001b[0m, in \u001b[0;36mfilter_traceback.<locals>.error_handler\u001b[0;34m(*args, **kwargs)\u001b[0m\n\u001b[1;32m     62\u001b[0m filtered_tb \u001b[39m=\u001b[39m \u001b[39mNone\u001b[39;00m\n\u001b[1;32m     63\u001b[0m \u001b[39mtry\u001b[39;00m:\n\u001b[0;32m---> 64\u001b[0m   \u001b[39mreturn\u001b[39;00m fn(\u001b[39m*\u001b[39;49margs, \u001b[39m*\u001b[39;49m\u001b[39m*\u001b[39;49mkwargs)\n\u001b[1;32m     65\u001b[0m \u001b[39mexcept\u001b[39;00m \u001b[39mException\u001b[39;00m \u001b[39mas\u001b[39;00m e:  \u001b[39m# pylint: disable=broad-except\u001b[39;00m\n\u001b[1;32m     66\u001b[0m   filtered_tb \u001b[39m=\u001b[39m _process_traceback_frames(e\u001b[39m.\u001b[39m__traceback__)\n",
      "File \u001b[0;32m~/opt/anaconda3/envs/graphcase/lib/python3.8/site-packages/keras/engine/training.py:1710\u001b[0m, in \u001b[0;36mModel.evaluate\u001b[0;34m(self, x, y, batch_size, verbose, sample_weight, steps, callbacks, max_queue_size, workers, use_multiprocessing, return_dict, **kwargs)\u001b[0m\n\u001b[1;32m   1708\u001b[0m \u001b[39mself\u001b[39m\u001b[39m.\u001b[39m_test_counter\u001b[39m.\u001b[39massign(\u001b[39m0\u001b[39m)\n\u001b[1;32m   1709\u001b[0m callbacks\u001b[39m.\u001b[39mon_test_begin()\n\u001b[0;32m-> 1710\u001b[0m \u001b[39mfor\u001b[39;00m _, iterator \u001b[39min\u001b[39;00m data_handler\u001b[39m.\u001b[39menumerate_epochs():  \u001b[39m# Single epoch.\u001b[39;00m\n\u001b[1;32m   1711\u001b[0m   \u001b[39mself\u001b[39m\u001b[39m.\u001b[39mreset_metrics()\n\u001b[1;32m   1712\u001b[0m   \u001b[39mwith\u001b[39;00m data_handler\u001b[39m.\u001b[39mcatch_stop_iteration():\n",
      "File \u001b[0;32m~/opt/anaconda3/envs/graphcase/lib/python3.8/site-packages/keras/engine/data_adapter.py:1191\u001b[0m, in \u001b[0;36mDataHandler.enumerate_epochs\u001b[0;34m(self)\u001b[0m\n\u001b[1;32m   1189\u001b[0m \u001b[39m\"\"\"Yields `(epoch, tf.data.Iterator)`.\"\"\"\u001b[39;00m\n\u001b[1;32m   1190\u001b[0m \u001b[39mwith\u001b[39;00m \u001b[39mself\u001b[39m\u001b[39m.\u001b[39m_truncate_execution_to_epoch():\n\u001b[0;32m-> 1191\u001b[0m   data_iterator \u001b[39m=\u001b[39m \u001b[39miter\u001b[39;49m(\u001b[39mself\u001b[39;49m\u001b[39m.\u001b[39;49m_dataset)\n\u001b[1;32m   1192\u001b[0m   \u001b[39mfor\u001b[39;00m epoch \u001b[39min\u001b[39;00m \u001b[39mrange\u001b[39m(\u001b[39mself\u001b[39m\u001b[39m.\u001b[39m_initial_epoch, \u001b[39mself\u001b[39m\u001b[39m.\u001b[39m_epochs):\n\u001b[1;32m   1193\u001b[0m     \u001b[39mif\u001b[39;00m \u001b[39mself\u001b[39m\u001b[39m.\u001b[39m_insufficient_data:  \u001b[39m# Set by `catch_stop_iteration`.\u001b[39;00m\n",
      "File \u001b[0;32m~/opt/anaconda3/envs/graphcase/lib/python3.8/site-packages/tensorflow/python/data/ops/dataset_ops.py:486\u001b[0m, in \u001b[0;36mDatasetV2.__iter__\u001b[0;34m(self)\u001b[0m\n\u001b[1;32m    484\u001b[0m \u001b[39mif\u001b[39;00m context\u001b[39m.\u001b[39mexecuting_eagerly() \u001b[39mor\u001b[39;00m ops\u001b[39m.\u001b[39minside_function():\n\u001b[1;32m    485\u001b[0m   \u001b[39mwith\u001b[39;00m ops\u001b[39m.\u001b[39mcolocate_with(\u001b[39mself\u001b[39m\u001b[39m.\u001b[39m_variant_tensor):\n\u001b[0;32m--> 486\u001b[0m     \u001b[39mreturn\u001b[39;00m iterator_ops\u001b[39m.\u001b[39;49mOwnedIterator(\u001b[39mself\u001b[39;49m)\n\u001b[1;32m    487\u001b[0m \u001b[39melse\u001b[39;00m:\n\u001b[1;32m    488\u001b[0m   \u001b[39mraise\u001b[39;00m \u001b[39mRuntimeError\u001b[39;00m(\u001b[39m\"\u001b[39m\u001b[39m`tf.data.Dataset` only supports Python-style \u001b[39m\u001b[39m\"\u001b[39m\n\u001b[1;32m    489\u001b[0m                      \u001b[39m\"\u001b[39m\u001b[39miteration in eager mode or within tf.function.\u001b[39m\u001b[39m\"\u001b[39m)\n",
      "File \u001b[0;32m~/opt/anaconda3/envs/graphcase/lib/python3.8/site-packages/tensorflow/python/data/ops/iterator_ops.py:755\u001b[0m, in \u001b[0;36mOwnedIterator.__init__\u001b[0;34m(self, dataset, components, element_spec)\u001b[0m\n\u001b[1;32m    751\u001b[0m   \u001b[39mif\u001b[39;00m (components \u001b[39mis\u001b[39;00m \u001b[39mnot\u001b[39;00m \u001b[39mNone\u001b[39;00m \u001b[39mor\u001b[39;00m element_spec \u001b[39mis\u001b[39;00m \u001b[39mnot\u001b[39;00m \u001b[39mNone\u001b[39;00m):\n\u001b[1;32m    752\u001b[0m     \u001b[39mraise\u001b[39;00m \u001b[39mValueError\u001b[39;00m(\n\u001b[1;32m    753\u001b[0m         \u001b[39m\"\u001b[39m\u001b[39mWhen `dataset` is provided, `element_spec` and `components` must \u001b[39m\u001b[39m\"\u001b[39m\n\u001b[1;32m    754\u001b[0m         \u001b[39m\"\u001b[39m\u001b[39mnot be specified.\u001b[39m\u001b[39m\"\u001b[39m)\n\u001b[0;32m--> 755\u001b[0m   \u001b[39mself\u001b[39;49m\u001b[39m.\u001b[39;49m_create_iterator(dataset)\n\u001b[1;32m    757\u001b[0m \u001b[39mself\u001b[39m\u001b[39m.\u001b[39m_get_next_call_count \u001b[39m=\u001b[39m \u001b[39m0\u001b[39m\n",
      "File \u001b[0;32m~/opt/anaconda3/envs/graphcase/lib/python3.8/site-packages/tensorflow/python/data/ops/iterator_ops.py:787\u001b[0m, in \u001b[0;36mOwnedIterator._create_iterator\u001b[0;34m(self, dataset)\u001b[0m\n\u001b[1;32m    782\u001b[0m \u001b[39melse\u001b[39;00m:\n\u001b[1;32m    783\u001b[0m   \u001b[39mself\u001b[39m\u001b[39m.\u001b[39m_iterator_resource, \u001b[39mself\u001b[39m\u001b[39m.\u001b[39m_deleter \u001b[39m=\u001b[39m (\n\u001b[1;32m    784\u001b[0m       gen_dataset_ops\u001b[39m.\u001b[39manonymous_iterator_v2(\n\u001b[1;32m    785\u001b[0m           output_types\u001b[39m=\u001b[39m\u001b[39mself\u001b[39m\u001b[39m.\u001b[39m_flat_output_types,\n\u001b[1;32m    786\u001b[0m           output_shapes\u001b[39m=\u001b[39m\u001b[39mself\u001b[39m\u001b[39m.\u001b[39m_flat_output_shapes))\n\u001b[0;32m--> 787\u001b[0m   gen_dataset_ops\u001b[39m.\u001b[39;49mmake_iterator(ds_variant, \u001b[39mself\u001b[39;49m\u001b[39m.\u001b[39;49m_iterator_resource)\n\u001b[1;32m    788\u001b[0m   \u001b[39m# Delete the resource when this object is deleted\u001b[39;00m\n\u001b[1;32m    789\u001b[0m   \u001b[39mself\u001b[39m\u001b[39m.\u001b[39m_resource_deleter \u001b[39m=\u001b[39m IteratorResourceDeleter(\n\u001b[1;32m    790\u001b[0m       handle\u001b[39m=\u001b[39m\u001b[39mself\u001b[39m\u001b[39m.\u001b[39m_iterator_resource,\n\u001b[1;32m    791\u001b[0m       deleter\u001b[39m=\u001b[39m\u001b[39mself\u001b[39m\u001b[39m.\u001b[39m_deleter)\n",
      "File \u001b[0;32m~/opt/anaconda3/envs/graphcase/lib/python3.8/site-packages/tensorflow/python/ops/gen_dataset_ops.py:3315\u001b[0m, in \u001b[0;36mmake_iterator\u001b[0;34m(dataset, iterator, name)\u001b[0m\n\u001b[1;32m   3313\u001b[0m \u001b[39mif\u001b[39;00m tld\u001b[39m.\u001b[39mis_eager:\n\u001b[1;32m   3314\u001b[0m   \u001b[39mtry\u001b[39;00m:\n\u001b[0;32m-> 3315\u001b[0m     _result \u001b[39m=\u001b[39m pywrap_tfe\u001b[39m.\u001b[39;49mTFE_Py_FastPathExecute(\n\u001b[1;32m   3316\u001b[0m       _ctx, \u001b[39m\"\u001b[39;49m\u001b[39mMakeIterator\u001b[39;49m\u001b[39m\"\u001b[39;49m, name, dataset, iterator)\n\u001b[1;32m   3317\u001b[0m     \u001b[39mreturn\u001b[39;00m _result\n\u001b[1;32m   3318\u001b[0m   \u001b[39mexcept\u001b[39;00m _core\u001b[39m.\u001b[39m_NotOkStatusException \u001b[39mas\u001b[39;00m e:\n",
      "\u001b[0;31mKeyboardInterrupt\u001b[0m: "
     ]
    }
   ],
   "source": [
    "# alternative mapping - detailed lbls\n",
    "from graphcase_experiments.experiments.enron_comp import calc_enron_performance\n",
    "ind, res = calc_enron_performance(G=G, test_size=0.5, runs=5)"
   ]
  },
  {
   "cell_type": "markdown",
   "metadata": {},
   "source": []
  },
  {
   "cell_type": "code",
   "execution_count": null,
   "metadata": {},
   "outputs": [],
   "source": []
  }
 ],
 "metadata": {
  "kernelspec": {
   "display_name": "Python 3.8.12 ('graphcase')",
   "language": "python",
   "name": "python3"
  },
  "language_info": {
   "codemirror_mode": {
    "name": "ipython",
    "version": 3
   },
   "file_extension": ".py",
   "mimetype": "text/x-python",
   "name": "python",
   "nbconvert_exporter": "python",
   "pygments_lexer": "ipython3",
   "version": "3.8.12"
  },
  "orig_nbformat": 4,
  "vscode": {
   "interpreter": {
    "hash": "c716535ba2b95ead85a0e15eb985372fe78ead652a07dc780f0a477ec156580f"
   }
  }
 },
 "nbformat": 4,
 "nbformat_minor": 2
}
