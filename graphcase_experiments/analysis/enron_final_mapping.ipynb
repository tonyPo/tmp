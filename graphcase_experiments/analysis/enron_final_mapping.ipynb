{
 "cells": [
  {
   "cell_type": "markdown",
   "metadata": {},
   "source": [
    "# final setup\n",
    "I’ve tried many alternative, different views but I believe there is just not more information in the limited data set. Please note that we only have a sample of the E_mails, meaning that the input into the algo’s is sub-optimal.\n",
    "\n",
    "Given that different experimental set-up don’t result in a significant different picture, I chose to use the leasts ambiguous setup and to follow the labels from Creamer (1-on-1) using detailed labels avoiding biased in the aggregation of labels."
   ]
  },
  {
   "cell_type": "code",
   "execution_count": null,
   "metadata": {},
   "outputs": [],
   "source": [
    "# run this only once!!\n",
    "import os\n",
    "os. chdir(\"../..\")\n",
    "os.getcwd()"
   ]
  },
  {
   "cell_type": "code",
   "execution_count": null,
   "metadata": {},
   "outputs": [],
   "source": [
    "import networkx as nx\n",
    "from graphcase_experiments.algos.GraphCaseWrapper import GraphCaseWrapper\n",
    "from graphcase_experiments.tools.embedding_plotter import plot_embedding2, plotly_embedding\n",
    "from graphcase_experiments.tools.calculate_embed import calculate_graphcase_embedding\n",
    "from graphcase_experiments.graphs.enron.mail_reader import spark\n",
    "import matplotlib.pyplot as plt\n",
    "import pydot\n",
    "import pandas as pd\n",
    "import tensorflow as tf\n",
    "import pyspark.sql.functions as F"
   ]
  },
  {
   "cell_type": "code",
   "execution_count": null,
   "metadata": {},
   "outputs": [],
   "source": [
    "# load graph\n",
    "SOURCE_PATH = 'graphcase_experiments/graphs/enron/data/'\n",
    "G = nx.read_gpickle(SOURCE_PATH + 'enron_sub_graph4.pickle')"
   ]
  },
  {
   "cell_type": "code",
   "execution_count": null,
   "metadata": {},
   "outputs": [],
   "source": [
    "G.number_of_edges()"
   ]
  },
  {
   "cell_type": "code",
   "execution_count": null,
   "metadata": {},
   "outputs": [],
   "source": [
    "labels = []\n",
    "for n, d in G.nodes(data=True):\n",
    "    labels.append(d['label'])\n",
    "\n",
    "pdf = pd.DataFrame(labels, columns=['labels'] )\n",
    "pdf.groupby('labels')['labels'].count()"
   ]
  },
  {
   "cell_type": "code",
   "execution_count": null,
   "metadata": {},
   "outputs": [],
   "source": [
    "# alternative mapping - smry lbls\n",
    "from graphcase_experiments.tools.calculate_embed import calculate_graphcase_embedding\n",
    "from graphcase_experiments.algos.GraphCaseWrapper import GraphCaseWrapper\n",
    "\n",
    "_, tbl = calculate_graphcase_embedding(\n",
    "            G, 'graphcase_experiments/data/enron/', params=GraphCaseWrapper.ENRON_PARAMS, verbose=True, algo=GraphCaseWrapper\n",
    "        )\n",
    "plotly_embedding(tbl)"
   ]
  },
  {
   "cell_type": "code",
   "execution_count": null,
   "metadata": {},
   "outputs": [],
   "source": [
    "# get the confussion matrix\n",
    "from sklearn.metrics import ConfusionMatrixDisplay\n",
    "from graphcase_experiments.experiments.ring_exp import classify_svm\n",
    "svm_res = classify_svm(tbl, test_size=0.5)\n",
    "ConfusionMatrixDisplay.from_predictions(tbl['label_id'], svm_res['pred_labels'])"
   ]
  },
  {
   "cell_type": "code",
   "execution_count": null,
   "metadata": {},
   "outputs": [],
   "source": [
    "tbl[['label', 'label_id']].drop_duplicates()"
   ]
  },
  {
   "cell_type": "markdown",
   "metadata": {},
   "source": [
    "## gridsearch"
   ]
  },
  {
   "cell_type": "code",
   "execution_count": null,
   "metadata": {},
   "outputs": [],
   "source": [
    "# gridsearch\n",
    "from graphcase_experiments.tools.gridsearch import grid_search_graphcase\n",
    "def search_params(trial):\n",
    "    return {\n",
    "        'learning_rate': trial.suggest_float(\"learning_rate\", 1e-5, 1e-4, log=True),\n",
    "        'act': trial.suggest_categorical(\"act\", ['relu', 'sigmoid', 'identity']),\n",
    "        'useBN': trial.suggest_categorical(\"useBN\", [True]),\n",
    "        'dropout': trial.suggest_float(\"dropout\", 0.1, 0.2),\n",
    "        'support_size': trial.suggest_int(\"support_size\", 7, 10),\n",
    "        'dims': trial.suggest_int(\"dims\", 32, 128)\n",
    "    }\n",
    "FIXED_PARAMS = {\n",
    "        'batch_size': 30,\n",
    "        'hub0_feature_with_neighb_dim': 128,\n",
    "        'verbose': False,\n",
    "        'seed': 1,\n",
    "        'encoder_labels': ['attr_received_size', 'attr_cnt_to', 'attr_cnt_cc', 'attr_sent_size', 'attr_cnt_send'],\n",
    "        'epochs': 10,  #1000,\n",
    "        'trials': 3  #200\n",
    "    }\n",
    "\n",
    "PATH = 'graphcase_experiments/data/enron/'\n",
    "\n",
    "grid_search_res = grid_search_graphcase(G, PATH, [search_params, FIXED_PARAMS])\n"
   ]
  },
  {
   "cell_type": "code",
   "execution_count": null,
   "metadata": {},
   "outputs": [],
   "source": [
    "grid_search_res[1]"
   ]
  },
  {
   "cell_type": "markdown",
   "metadata": {},
   "source": [
    "## calculate performance"
   ]
  },
  {
   "cell_type": "code",
   "execution_count": null,
   "metadata": {},
   "outputs": [],
   "source": [
    "# alternative mapping - detailed lbls\n",
    "from graphcase_experiments.algos.GraphCaseWrapper import GraphCaseWrapper\n",
    "from graphcase_experiments.experiments.enron_comp import calc_enron_performance\n",
    "\n",
    "ind, res = calc_enron_performance(G=G, test_size=0.5, runs=10)"
   ]
  },
  {
   "cell_type": "code",
   "execution_count": null,
   "metadata": {},
   "outputs": [],
   "source": [
    "res"
   ]
  },
  {
   "cell_type": "code",
   "execution_count": null,
   "metadata": {},
   "outputs": [],
   "source": [
    "# import pickle\n",
    "# filename = 'graphcase_experiments/data/results/reallife/enron_results.pickle'\n",
    "# with open(filename, 'wb') as handle:\n",
    "#     pickle.dump(res, handle, protocol=pickle.HIGHEST_PROTOCOL)"
   ]
  },
  {
   "cell_type": "code",
   "execution_count": null,
   "metadata": {},
   "outputs": [],
   "source": [
    "res  # met 0.1 default weight on dummy"
   ]
  },
  {
   "cell_type": "code",
   "execution_count": null,
   "metadata": {},
   "outputs": [],
   "source": [
    "res"
   ]
  },
  {
   "cell_type": "code",
   "execution_count": null,
   "metadata": {},
   "outputs": [],
   "source": [
    "#na adding class weight in the svm\n",
    "res"
   ]
  },
  {
   "cell_type": "code",
   "execution_count": null,
   "metadata": {},
   "outputs": [],
   "source": [
    "res"
   ]
  },
  {
   "cell_type": "markdown",
   "metadata": {},
   "source": [
    "# summary labels\n"
   ]
  },
  {
   "cell_type": "code",
   "execution_count": null,
   "metadata": {},
   "outputs": [],
   "source": [
    "main_label = {\n",
    "    'ceos-president': 'senior_mngt',\n",
    "    'managing director': 'senior_mngt',\n",
    "    'executive vp': 'senior_mngt',\n",
    "    'vice president': 'senior_mngt',\n",
    "    'director': 'middle_mngt',\n",
    "    'manager': 'middle_mngt',\n",
    "    'trader': 'trader',\n",
    "    'specialist': 'employee',\n",
    "    'employee': 'employee',\n",
    "    'attorney-legal asst.': 'employee',\n",
    "}\n",
    "G2 = G.copy()\n",
    "relabel =  {n: main_label[a.lower()] for n,a in G.nodes(data='label')}\n",
    "nx.set_node_attributes(G2, relabel, 'label')"
   ]
  },
  {
   "cell_type": "code",
   "execution_count": null,
   "metadata": {},
   "outputs": [],
   "source": [
    "# alternative mapping - detailed lbls\n",
    "from graphcase_experiments.experiments.enron_comp import calc_enron_performance\n",
    "ind2, res2 = calc_enron_performance(G=G2, test_size=0.5, runs=5, algos=[GraphCaseWrapper])"
   ]
  },
  {
   "cell_type": "code",
   "execution_count": null,
   "metadata": {},
   "outputs": [],
   "source": [
    "res2"
   ]
  },
  {
   "cell_type": "code",
   "execution_count": null,
   "metadata": {},
   "outputs": [],
   "source": [
    "# using class weight in SVM\n",
    "res2"
   ]
  },
  {
   "cell_type": "code",
   "execution_count": null,
   "metadata": {},
   "outputs": [],
   "source": [
    "res2"
   ]
  },
  {
   "cell_type": "code",
   "execution_count": null,
   "metadata": {},
   "outputs": [],
   "source": []
  }
 ],
 "metadata": {
  "kernelspec": {
   "display_name": "Python 3.8.12 ('graphcase')",
   "language": "python",
   "name": "python3"
  },
  "language_info": {
   "codemirror_mode": {
    "name": "ipython",
    "version": 3
   },
   "file_extension": ".py",
   "mimetype": "text/x-python",
   "name": "python",
   "nbconvert_exporter": "python",
   "pygments_lexer": "ipython3",
   "version": "3.8.12"
  },
  "orig_nbformat": 4,
  "vscode": {
   "interpreter": {
    "hash": "c716535ba2b95ead85a0e15eb985372fe78ead652a07dc780f0a477ec156580f"
   }
  }
 },
 "nbformat": 4,
 "nbformat_minor": 2
}
