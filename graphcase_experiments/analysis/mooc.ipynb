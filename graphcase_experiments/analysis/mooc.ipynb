{
 "cells": [
  {
   "cell_type": "code",
   "execution_count": 1,
   "metadata": {},
   "outputs": [
    {
     "data": {
      "text/plain": [
       "'/Users/tonpoppe/workspace/graphcase_experiments/graphcase_experiments'"
      ]
     },
     "execution_count": 1,
     "metadata": {},
     "output_type": "execute_result"
    }
   ],
   "source": [
    "import os\n",
    "os. chdir(\"../..\")\n",
    "os.getcwd()"
   ]
  },
  {
   "cell_type": "code",
   "execution_count": 2,
   "metadata": {},
   "outputs": [
    {
     "name": "stderr",
     "output_type": "stream",
     "text": [
      "/Users/tonpoppe/opt/anaconda3/envs/graphcase/lib/python3.8/site-packages/tqdm/auto.py:22: TqdmWarning: IProgress not found. Please update jupyter and ipywidgets. See https://ipywidgets.readthedocs.io/en/stable/user_install.html\n",
      "  from .autonotebook import tqdm as notebook_tqdm\n"
     ]
    }
   ],
   "source": [
    "import networkx as nx\n",
    "from graphcase_experiments.algos.GraphCaseWrapper import GraphCaseWrapper\n",
    "from graphcase_experiments.algos.baselineWrapper import BaselineWrapper\n",
    "from graphcase_experiments.tools.embedding_plotter import plot_embedding2, plotly_embedding\n",
    "from graphcase_experiments.tools.calculate_embed import calculate_graphcase_embedding\n",
    "import matplotlib.pyplot as plt\n",
    "import pydot\n",
    "import pandas as pd\n",
    "import tensorflow as tf\n",
    "import pyspark.sql.functions as F"
   ]
  },
  {
   "cell_type": "code",
   "execution_count": 3,
   "metadata": {},
   "outputs": [
    {
     "name": "stderr",
     "output_type": "stream",
     "text": [
      "2022-09-12 18:58:03.697121: I tensorflow/core/platform/cpu_feature_guard.cc:151] This TensorFlow binary is optimized with oneAPI Deep Neural Network Library (oneDNN) to use the following CPU instructions in performance-critical operations:  AVX2 FMA\n",
      "To enable them in other operations, rebuild TensorFlow with the appropriate compiler flags.\n"
     ]
    },
    {
     "name": "stdout",
     "output_type": "stream",
     "text": [
      "edges: 411749 mooc_action 411749\n",
      "total count is 411749, test_cnt is 82349 and train_cnt is 329400: check_sum: 0\n",
      "there are 145486 edges after selecting only the last one\n",
      "input_df 145486, after adding labels 139240\n",
      "edge colunms Index(['src', 'dst', 'weight', 'FEATURE0', 'FEATURE1', 'FEATURE2', 'FEATURE3',\n",
      "       'FEATURE_COUNT', 'LABEL'],\n",
      "      dtype='object')\n",
      "edge check: df:139240, graph edges: 139240\n",
      "node check: users+ courses:6795, nodes: 6795\n"
     ]
    }
   ],
   "source": [
    "from graphcase_experiments.experiments.mooc_exp_copy import get_edge_data, mooc_train_test_split, prep_edges, get_mooc_graph\n",
    "edges = get_edge_data()\n",
    "train, test = mooc_train_test_split(20, edges)\n",
    "train_edges = prep_edges(train)\n",
    "\n",
    "G = get_mooc_graph(train_edges)"
   ]
  },
  {
   "cell_type": "code",
   "execution_count": 4,
   "metadata": {},
   "outputs": [
    {
     "data": {
      "text/plain": [
       "140266"
      ]
     },
     "execution_count": 4,
     "metadata": {},
     "output_type": "execute_result"
    }
   ],
   "source": [
    "G.number_of_edges()"
   ]
  },
  {
   "cell_type": "code",
   "execution_count": 4,
   "metadata": {},
   "outputs": [
    {
     "name": "stdout",
     "output_type": "stream",
     "text": [
      "WARNING: AutoGraph could not transform <bound method InputLayerConstructor.get_input_layer of <GAE.input_layer_constructor.InputLayerConstructor object at 0x7ff4a3782df0>> and will run it as-is.\n",
      "Cause: mangled names are not yet supported\n",
      "To silence this warning, decorate the function with @tf.autograph.experimental.do_not_convert\n"
     ]
    },
    {
     "name": "stderr",
     "output_type": "stream",
     "text": [
      "2022-09-12 19:01:50.137554: W tensorflow/python/util/util.cc:368] Sets are not currently considered sequences, but this may change in the future, so consider avoiding using them.\n",
      "WARNING:absl:Found untraced functions such as dense_8_layer_call_fn, dense_8_layer_call_and_return_conditional_losses, dense_9_layer_call_fn, dense_9_layer_call_and_return_conditional_losses while saving (showing 4 of 4). These functions will not be directly callable after loading.\n"
     ]
    },
    {
     "data": {
      "image/png": "[encoded data removed]",
      "text/plain": [
       "<Figure size 432x288 with 1 Axes>"
      ]
     },
     "metadata": {
      "needs_background": "light"
     },
     "output_type": "display_data"
    }
   ],
   "source": [
    "MOOC_PARAMS = {\n",
    "        'batch_size': 1024,\n",
    "        'hub0_feature_with_neighb_dim': 16,\n",
    "        'verbose': False,\n",
    "        'seed': 1,\n",
    "        'encoder_labels': ['attr1', 'attr2'],\n",
    "        'learning_rate': 0.001,\n",
    "        'act': tf.nn.sigmoid,\n",
    "        'useBN': True,\n",
    "        'dropout': 0.1,\n",
    "        'support_size': [5, 5],\n",
    "        'dims': [4, 8,16,16],\n",
    "        'epochs': 300,\n",
    "    }\n",
    "_, embed = calculate_graphcase_embedding(\n",
    "            G, 'graphcase_experiments/data/mooc/', params=MOOC_PARAMS, verbose=True, algo=GraphCaseWrapper\n",
    "        )\n",
    "\n"
   ]
  },
  {
   "cell_type": "code",
   "execution_count": 8,
   "metadata": {},
   "outputs": [],
   "source": [
    "_, embed_baseline = calculate_graphcase_embedding(\n",
    "            G, 'graphcase_experiments/data/mooc/', params=BaselineWrapper.MOOC_PARAMS, verbose=True, algo=BaselineWrapper\n",
    "        )"
   ]
  },
  {
   "cell_type": "code",
   "execution_count": 5,
   "metadata": {},
   "outputs": [
    {
     "name": "stderr",
     "output_type": "stream",
     "text": [
      "/Users/tonpoppe/workspace/graphcase_experiments/graphcase_experiments/graphcase_experiments/tools/embedding_plotter.py:88: SettingWithCopyWarning: \n",
      "A value is trying to be set on a copy of a slice from a DataFrame.\n",
      "Try using .loc[row_indexer,col_indexer] = value instead\n",
      "\n",
      "See the caveats in the documentation: https://pandas.pydata.org/pandas-docs/stable/user_guide/indexing.html#returning-a-view-versus-a-copy\n",
      "  embed_df['embed1'] = embed[:,0]\n",
      "/Users/tonpoppe/workspace/graphcase_experiments/graphcase_experiments/graphcase_experiments/tools/embedding_plotter.py:89: SettingWithCopyWarning: \n",
      "A value is trying to be set on a copy of a slice from a DataFrame.\n",
      "Try using .loc[row_indexer,col_indexer] = value instead\n",
      "\n",
      "See the caveats in the documentation: https://pandas.pydata.org/pandas-docs/stable/user_guide/indexing.html#returning-a-view-versus-a-copy\n",
      "  embed_df['embed2'] = embed[:,1]\n"
     ]
    },
    {
     "data": {
      "application/vnd.plotly.v1+json": {
       "config": {
        "plotlyServerURL": "https://plot.ly"
       },
       "data": [
        {
         "customdata": [
          [
           0,
           "U2532",
           0
          ]
         ],
         "hovertemplate": "label=%{customdata[1]}<br>embed1=%{x}<br>embed2=%{y}<br>id=%{customdata[0]}<br>label_id=%{customdata[2]}<extra></extra>",
         "legendgroup": "U2532",
         "marker": {
          "color": "#636efa",
          "symbol": "circle"
         },
         "mode": "markers",
         "name": "U2532",
         "orientation": "v",
         "showlegend": true,
         "type": "scatter",
         "x": [
          -0.8729547084816686
         ],
         "xaxis": "x",
         "y": [
          -0.6584358256279268
         ],
         "yaxis": "y"
        },
        {
         "customdata": [
          [
           1,
           "T25",
           1
          ]
         ],
         "hovertemplate": "label=%{customdata[1]}<br>embed1=%{x}<br>embed2=%{y}<br>id=%{customdata[0]}<br>label_id=%{customdata[2]}<extra></extra>",
         "legendgroup": "T25",
         "marker": {
          "color": "#EF553B",
          "symbol": "circle"
         },
         "mode": "markers",
         "name": "T25",
         "orientation": "v",
         "showlegend": true,
         "type": "scatter",
         "x": [
          2.303616785887363
         ],
         "xaxis": "x",
         "y": [
          1.7324017087128096
         ],
         "yaxis": "y"
        },
        {
         "customdata": [
          [
           2,
           "U1021",
           2
          ]
         ],
         "hovertemplate": "label=%{customdata[1]}<br>embed1=%{x}<br>embed2=%{y}<br>id=%{customdata[0]}<br>label_id=%{customdata[2]}<extra></extra>",
         "legendgroup": "U1021",
         "marker": {
          "color": "#00cc96",
          "symbol": "circle"
         },
         "mode": "markers",
         "name": "U1021",
         "orientation": "v",
         "showlegend": true,
         "type": "scatter",
         "x": [
          -0.8728832402236617
         ],
         "xaxis": "x",
         "y": [
          -0.6583828693574926
         ],
         "yaxis": "y"
        },
        {
         "customdata": [
          [
           3,
           "T12",
           3
          ]
         ],
         "hovertemplate": "label=%{customdata[1]}<br>embed1=%{x}<br>embed2=%{y}<br>id=%{customdata[0]}<br>label_id=%{customdata[2]}<extra></extra>",
         "legendgroup": "T12",
         "marker": {
          "color": "#ab63fa",
          "symbol": "circle"
         },
         "mode": "markers",
         "name": "T12",
         "orientation": "v",
         "showlegend": true,
         "type": "scatter",
         "x": [
          2.299387022694868
         ],
         "xaxis": "x",
         "y": [
          1.7380118354876555
         ],
         "yaxis": "y"
        },
        {
         "customdata": [
          [
           4,
           "U5534",
           4
          ]
         ],
         "hovertemplate": "label=%{customdata[1]}<br>embed1=%{x}<br>embed2=%{y}<br>id=%{customdata[0]}<br>label_id=%{customdata[2]}<extra></extra>",
         "legendgroup": "U5534",
         "marker": {
          "color": "#FFA15A",
          "symbol": "circle"
         },
         "mode": "markers",
         "name": "U5534",
         "orientation": "v",
         "showlegend": true,
         "type": "scatter",
         "x": [
          -0.8729164028031591
         ],
         "xaxis": "x",
         "y": [
          -0.6583978848027695
         ],
         "yaxis": "y"
        },
        {
         "customdata": [
          [
           5,
           "T34",
           5
          ]
         ],
         "hovertemplate": "label=%{customdata[1]}<br>embed1=%{x}<br>embed2=%{y}<br>id=%{customdata[0]}<br>label_id=%{customdata[2]}<extra></extra>",
         "legendgroup": "T34",
         "marker": {
          "color": "#19d3f3",
          "symbol": "circle"
         },
         "mode": "markers",
         "name": "T34",
         "orientation": "v",
         "showlegend": true,
         "type": "scatter",
         "x": [
          2.300116425538887
         ],
         "xaxis": "x",
         "y": [
          1.7370464245095127
         ],
         "yaxis": "y"
        },
        {
         "customdata": [
          [
           6,
           "U2563",
           6
          ]
         ],
         "hovertemplate": "label=%{customdata[1]}<br>embed1=%{x}<br>embed2=%{y}<br>id=%{customdata[0]}<br>label_id=%{customdata[2]}<extra></extra>",
         "legendgroup": "U2563",
         "marker": {
          "color": "#FF6692",
          "symbol": "circle"
         },
         "mode": "markers",
         "name": "U2563",
         "orientation": "v",
         "showlegend": true,
         "type": "scatter",
         "x": [
          -0.8711328150756933
         ],
         "xaxis": "x",
         "y": [
          -0.658067337161576
         ],
         "yaxis": "y"
        },
        {
         "customdata": [
          [
           7,
           "T51",
           7
          ]
         ],
         "hovertemplate": "label=%{customdata[1]}<br>embed1=%{x}<br>embed2=%{y}<br>id=%{customdata[0]}<br>label_id=%{customdata[2]}<extra></extra>",
         "legendgroup": "T51",
         "marker": {
          "color": "#B6E880",
          "symbol": "circle"
         },
         "mode": "markers",
         "name": "T51",
         "orientation": "v",
         "showlegend": true,
         "type": "scatter",
         "x": [
          2.300612900252977
         ],
         "xaxis": "x",
         "y": [
          1.736388766415698
         ],
         "yaxis": "y"
        },
        {
         "customdata": [
          [
           8,
           "U4511",
           8
          ]
         ],
         "hovertemplate": "label=%{customdata[1]}<br>embed1=%{x}<br>embed2=%{y}<br>id=%{customdata[0]}<br>label_id=%{customdata[2]}<extra></extra>",
         "legendgroup": "U4511",
         "marker": {
          "color": "#FF97FF",
          "symbol": "circle"
         },
         "mode": "markers",
         "name": "U4511",
         "orientation": "v",
         "showlegend": true,
         "type": "scatter",
         "x": [
          -0.8729174591612922
         ],
         "xaxis": "x",
         "y": [
          -0.6584082372579068
         ],
         "yaxis": "y"
        },
        {
         "customdata": [
          [
           9,
           "T42",
           9
          ]
         ],
         "hovertemplate": "label=%{customdata[1]}<br>embed1=%{x}<br>embed2=%{y}<br>id=%{customdata[0]}<br>label_id=%{customdata[2]}<extra></extra>",
         "legendgroup": "T42",
         "marker": {
          "color": "#FECB52",
          "symbol": "circle"
         },
         "mode": "markers",
         "name": "T42",
         "orientation": "v",
         "showlegend": true,
         "type": "scatter",
         "x": [
          2.3011350606194756
         ],
         "xaxis": "x",
         "y": [
          1.7356967182221885
         ],
         "yaxis": "y"
        },
        {
         "customdata": [
          [
           10,
           "U1171",
           10
          ]
         ],
         "hovertemplate": "label=%{customdata[1]}<br>embed1=%{x}<br>embed2=%{y}<br>id=%{customdata[0]}<br>label_id=%{customdata[2]}<extra></extra>",
         "legendgroup": "U1171",
         "marker": {
          "color": "#636efa",
          "symbol": "circle"
         },
         "mode": "markers",
         "name": "U1171",
         "orientation": "v",
         "showlegend": true,
         "type": "scatter",
         "x": [
          -0.8729383214587406
         ],
         "xaxis": "x",
         "y": [
          -0.6584253151858295
         ],
         "yaxis": "y"
        },
        {
         "customdata": [
          [
           11,
           "T31",
           11
          ]
         ],
         "hovertemplate": "label=%{customdata[1]}<br>embed1=%{x}<br>embed2=%{y}<br>id=%{customdata[0]}<br>label_id=%{customdata[2]}<extra></extra>",
         "legendgroup": "T31",
         "marker": {
          "color": "#EF553B",
          "symbol": "circle"
         },
         "mode": "markers",
         "name": "T31",
         "orientation": "v",
         "showlegend": true,
         "type": "scatter",
         "x": [
          2.2998346041750115
         ],
         "xaxis": "x",
         "y": [
          1.7374196170276441
         ],
         "yaxis": "y"
        },
        {
         "customdata": [
          [
           12,
           "T43",
           12
          ]
         ],
         "hovertemplate": "label=%{customdata[1]}<br>embed1=%{x}<br>embed2=%{y}<br>id=%{customdata[0]}<br>label_id=%{customdata[2]}<extra></extra>",
         "legendgroup": "T43",
         "marker": {
          "color": "#00cc96",
          "symbol": "circle"
         },
         "mode": "markers",
         "name": "T43",
         "orientation": "v",
         "showlegend": true,
         "type": "scatter",
         "x": [
          2.3014301573675344
         ],
         "xaxis": "x",
         "y": [
          1.7353053377239482
         ],
         "yaxis": "y"
        },
        {
         "customdata": [
          [
           13,
           "U2614",
           13
          ]
         ],
         "hovertemplate": "label=%{customdata[1]}<br>embed1=%{x}<br>embed2=%{y}<br>id=%{customdata[0]}<br>label_id=%{customdata[2]}<extra></extra>",
         "legendgroup": "U2614",
         "marker": {
          "color": "#ab63fa",
          "symbol": "circle"
         },
         "mode": "markers",
         "name": "U2614",
         "orientation": "v",
         "showlegend": true,
         "type": "scatter",
         "x": [
          -0.8711682669335131
         ],
         "xaxis": "x",
         "y": [
          -0.657681919526408
         ],
         "yaxis": "y"
        },
        {
         "customdata": [
          [
           14,
           "T53",
           14
          ]
         ],
         "hovertemplate": "label=%{customdata[1]}<br>embed1=%{x}<br>embed2=%{y}<br>id=%{customdata[0]}<br>label_id=%{customdata[2]}<extra></extra>",
         "legendgroup": "T53",
         "marker": {
          "color": "#FFA15A",
          "symbol": "circle"
         },
         "mode": "markers",
         "name": "T53",
         "orientation": "v",
         "showlegend": true,
         "type": "scatter",
         "x": [
          2.2997904679863166
         ],
         "xaxis": "x",
         "y": [
          1.7374777968122044
         ],
         "yaxis": "y"
        },
        {
         "customdata": [
          [
           15,
           "U6055",
           15
          ]
         ],
         "hovertemplate": "label=%{customdata[1]}<br>embed1=%{x}<br>embed2=%{y}<br>id=%{customdata[0]}<br>label_id=%{customdata[2]}<extra></extra>",
         "legendgroup": "U6055",
         "marker": {
          "color": "#19d3f3",
          "symbol": "circle"
         },
         "mode": "markers",
         "name": "U6055",
         "orientation": "v",
         "showlegend": true,
         "type": "scatter",
         "x": [
          -0.872944622872187
         ],
         "xaxis": "x",
         "y": [
          -0.658430810831871
         ],
         "yaxis": "y"
        },
        {
         "customdata": [
          [
           16,
           "U6036",
           16
          ]
         ],
         "hovertemplate": "label=%{customdata[1]}<br>embed1=%{x}<br>embed2=%{y}<br>id=%{customdata[0]}<br>label_id=%{customdata[2]}<extra></extra>",
         "legendgroup": "U6036",
         "marker": {
          "color": "#FF6692",
          "symbol": "circle"
         },
         "mode": "markers",
         "name": "U6036",
         "orientation": "v",
         "showlegend": true,
         "type": "scatter",
         "x": [
          -0.8729021832229974
         ],
         "xaxis": "x",
         "y": [
          -0.6584005679241139
         ],
         "yaxis": "y"
        },
        {
         "customdata": [
          [
           17,
           "T19",
           17
          ]
         ],
         "hovertemplate": "label=%{customdata[1]}<br>embed1=%{x}<br>embed2=%{y}<br>id=%{customdata[0]}<br>label_id=%{customdata[2]}<extra></extra>",
         "legendgroup": "T19",
         "marker": {
          "color": "#B6E880",
          "symbol": "circle"
         },
         "mode": "markers",
         "name": "T19",
         "orientation": "v",
         "showlegend": true,
         "type": "scatter",
         "x": [
          2.3002632048386937
         ],
         "xaxis": "x",
         "y": [
          1.7368516548956359
         ],
         "yaxis": "y"
        },
        {
         "customdata": [
          [
           18,
           "T7",
           18
          ]
         ],
         "hovertemplate": "label=%{customdata[1]}<br>embed1=%{x}<br>embed2=%{y}<br>id=%{customdata[0]}<br>label_id=%{customdata[2]}<extra></extra>",
         "legendgroup": "T7",
         "marker": {
          "color": "#FF97FF",
          "symbol": "circle"
         },
         "mode": "markers",
         "name": "T7",
         "orientation": "v",
         "showlegend": true,
         "type": "scatter",
         "x": [
          2.3070184896719
         ],
         "xaxis": "x",
         "y": [
          1.7278691201249348
         ],
         "yaxis": "y"
        },
        {
         "customdata": [
          [
           19,
           "U5987",
           19
          ]
         ],
         "hovertemplate": "label=%{customdata[1]}<br>embed1=%{x}<br>embed2=%{y}<br>id=%{customdata[0]}<br>label_id=%{customdata[2]}<extra></extra>",
         "legendgroup": "U5987",
         "marker": {
          "color": "#FECB52",
          "symbol": "circle"
         },
         "mode": "markers",
         "name": "U5987",
         "orientation": "v",
         "showlegend": true,
         "type": "scatter",
         "x": [
          -0.872947266592922
         ],
         "xaxis": "x",
         "y": [
          -0.6584326610781936
         ],
         "yaxis": "y"
        },
        {
         "customdata": [
          [
           20,
           "T9",
           20
          ]
         ],
         "hovertemplate": "label=%{customdata[1]}<br>embed1=%{x}<br>embed2=%{y}<br>id=%{customdata[0]}<br>label_id=%{customdata[2]}<extra></extra>",
         "legendgroup": "T9",
         "marker": {
          "color": "#636efa",
          "symbol": "circle"
         },
         "mode": "markers",
         "name": "T9",
         "orientation": "v",
         "showlegend": true,
         "type": "scatter",
         "x": [
          2.3006784443164583
         ],
         "xaxis": "x",
         "y": [
          1.736302019997492
         ],
         "yaxis": "y"
        },
        {
         "customdata": [
          [
           21,
           "U935",
           21
          ]
         ],
         "hovertemplate": "label=%{customdata[1]}<br>embed1=%{x}<br>embed2=%{y}<br>id=%{customdata[0]}<br>label_id=%{customdata[2]}<extra></extra>",
         "legendgroup": "U935",
         "marker": {
          "color": "#EF553B",
          "symbol": "circle"
         },
         "mode": "markers",
         "name": "U935",
         "orientation": "v",
         "showlegend": true,
         "type": "scatter",
         "x": [
          -0.8728342059159244
         ],
         "xaxis": "x",
         "y": [
          -0.6583586455441461
         ],
         "yaxis": "y"
        },
        {
         "customdata": [
          [
           22,
           "T32",
           22
          ]
         ],
         "hovertemplate": "label=%{customdata[1]}<br>embed1=%{x}<br>embed2=%{y}<br>id=%{customdata[0]}<br>label_id=%{customdata[2]}<extra></extra>",
         "legendgroup": "T32",
         "marker": {
          "color": "#00cc96",
          "symbol": "circle"
         },
         "mode": "markers",
         "name": "T32",
         "orientation": "v",
         "showlegend": true,
         "type": "scatter",
         "x": [
          2.3004288326517512
         ],
         "xaxis": "x",
         "y": [
          1.736632059237907
         ],
         "yaxis": "y"
        },
        {
         "customdata": [
          [
           23,
           "U67",
           23
          ]
         ],
         "hovertemplate": "label=%{customdata[1]}<br>embed1=%{x}<br>embed2=%{y}<br>id=%{customdata[0]}<br>label_id=%{customdata[2]}<extra></extra>",
         "legendgroup": "U67",
         "marker": {
          "color": "#ab63fa",
          "symbol": "circle"
         },
         "mode": "markers",
         "name": "U67",
         "orientation": "v",
         "showlegend": true,
         "type": "scatter",
         "x": [
          -0.8729484226229172
         ],
         "xaxis": "x",
         "y": [
          -0.6584334711995372
         ],
         "yaxis": "y"
        },
        {
         "customdata": [
          [
           24,
           "T4",
           24
          ]
         ],
         "hovertemplate": "label=%{customdata[1]}<br>embed1=%{x}<br>embed2=%{y}<br>id=%{customdata[0]}<br>label_id=%{customdata[2]}<extra></extra>",
         "legendgroup": "T4",
         "marker": {
          "color": "#FFA15A",
          "symbol": "circle"
         },
         "mode": "markers",
         "name": "T4",
         "orientation": "v",
         "showlegend": true,
         "type": "scatter",
         "x": [
          2.3004287453318724
         ],
         "xaxis": "x",
         "y": [
          1.736632872067456
         ],
         "yaxis": "y"
        },
        {
         "customdata": [
          [
           25,
           "U2609",
           25
          ]
         ],
         "hovertemplate": "label=%{customdata[1]}<br>embed1=%{x}<br>embed2=%{y}<br>id=%{customdata[0]}<br>label_id=%{customdata[2]}<extra></extra>",
         "legendgroup": "U2609",
         "marker": {
          "color": "#19d3f3",
          "symbol": "circle"
         },
         "mode": "markers",
         "name": "U2609",
         "orientation": "v",
         "showlegend": true,
         "type": "scatter",
         "x": [
          -0.8729271953735428
         ],
         "xaxis": "x",
         "y": [
          -0.6584125430650781
         ],
         "yaxis": "y"
        },
        {
         "customdata": [
          [
           26,
           "T41",
           26
          ]
         ],
         "hovertemplate": "label=%{customdata[1]}<br>embed1=%{x}<br>embed2=%{y}<br>id=%{customdata[0]}<br>label_id=%{customdata[2]}<extra></extra>",
         "legendgroup": "T41",
         "marker": {
          "color": "#FF6692",
          "symbol": "circle"
         },
         "mode": "markers",
         "name": "T41",
         "orientation": "v",
         "showlegend": true,
         "type": "scatter",
         "x": [
          2.2980086449125023
         ],
         "xaxis": "x",
         "y": [
          1.739833970305232
         ],
         "yaxis": "y"
        },
        {
         "customdata": [
          [
           27,
           "U5708",
           27
          ]
         ],
         "hovertemplate": "label=%{customdata[1]}<br>embed1=%{x}<br>embed2=%{y}<br>id=%{customdata[0]}<br>label_id=%{customdata[2]}<extra></extra>",
         "legendgroup": "U5708",
         "marker": {
          "color": "#B6E880",
          "symbol": "circle"
         },
         "mode": "markers",
         "name": "U5708",
         "orientation": "v",
         "showlegend": true,
         "type": "scatter",
         "x": [
          -0.8728839047661889
         ],
         "xaxis": "x",
         "y": [
          -0.6583814476801697
         ],
         "yaxis": "y"
        },
        {
         "customdata": [
          [
           28,
           "T48",
           28
          ]
         ],
         "hovertemplate": "label=%{customdata[1]}<br>embed1=%{x}<br>embed2=%{y}<br>id=%{customdata[0]}<br>label_id=%{customdata[2]}<extra></extra>",
         "legendgroup": "T48",
         "marker": {
          "color": "#FF97FF",
          "symbol": "circle"
         },
         "mode": "markers",
         "name": "T48",
         "orientation": "v",
         "showlegend": true,
         "type": "scatter",
         "x": [
          2.3011973324964807
         ],
         "xaxis": "x",
         "y": [
          1.7356142644446586
         ],
         "yaxis": "y"
        },
        {
         "customdata": [
          [
           29,
           "T21",
           29
          ]
         ],
         "hovertemplate": "label=%{customdata[1]}<br>embed1=%{x}<br>embed2=%{y}<br>id=%{customdata[0]}<br>label_id=%{customdata[2]}<extra></extra>",
         "legendgroup": "T21",
         "marker": {
          "color": "#FECB52",
          "symbol": "circle"
         },
         "mode": "markers",
         "name": "T21",
         "orientation": "v",
         "showlegend": true,
         "type": "scatter",
         "x": [
          2.3007708431542904
         ],
         "xaxis": "x",
         "y": [
          1.736179535298933
         ],
         "yaxis": "y"
        },
        {
         "customdata": [
          [
           30,
           "U4202",
           30
          ]
         ],
         "hovertemplate": "label=%{customdata[1]}<br>embed1=%{x}<br>embed2=%{y}<br>id=%{customdata[0]}<br>label_id=%{customdata[2]}<extra></extra>",
         "legendgroup": "U4202",
         "marker": {
          "color": "#636efa",
          "symbol": "circle"
         },
         "mode": "markers",
         "name": "U4202",
         "orientation": "v",
         "showlegend": true,
         "type": "scatter",
         "x": [
          -0.8729472291921643
         ],
         "xaxis": "x",
         "y": [
          -0.6584334712855506
         ],
         "yaxis": "y"
        },
        {
         "customdata": [
          [
           31,
           "T30",
           31
          ]
         ],
         "hovertemplate": "label=%{customdata[1]}<br>embed1=%{x}<br>embed2=%{y}<br>id=%{customdata[0]}<br>label_id=%{customdata[2]}<extra></extra>",
         "legendgroup": "T30",
         "marker": {
          "color": "#EF553B",
          "symbol": "circle"
         },
         "mode": "markers",
         "name": "T30",
         "orientation": "v",
         "showlegend": true,
         "type": "scatter",
         "x": [
          2.3001278360788304
         ],
         "xaxis": "x",
         "y": [
          1.7370313149567504
         ],
         "yaxis": "y"
        },
        {
         "customdata": [
          [
           32,
           "U1937",
           32
          ]
         ],
         "hovertemplate": "label=%{customdata[1]}<br>embed1=%{x}<br>embed2=%{y}<br>id=%{customdata[0]}<br>label_id=%{customdata[2]}<extra></extra>",
         "legendgroup": "U1937",
         "marker": {
          "color": "#00cc96",
          "symbol": "circle"
         },
         "mode": "markers",
         "name": "U1937",
         "orientation": "v",
         "showlegend": true,
         "type": "scatter",
         "x": [
          -0.8728934350110734
         ],
         "xaxis": "x",
         "y": [
          -0.658390925338182
         ],
         "yaxis": "y"
        },
        {
         "customdata": [
          [
           33,
           "T35",
           33
          ]
         ],
         "hovertemplate": "label=%{customdata[1]}<br>embed1=%{x}<br>embed2=%{y}<br>id=%{customdata[0]}<br>label_id=%{customdata[2]}<extra></extra>",
         "legendgroup": "T35",
         "marker": {
          "color": "#ab63fa",
          "symbol": "circle"
         },
         "mode": "markers",
         "name": "T35",
         "orientation": "v",
         "showlegend": true,
         "type": "scatter",
         "x": [
          2.3010653847709355
         ],
         "xaxis": "x",
         "y": [
          1.7357892590724635
         ],
         "yaxis": "y"
        },
        {
         "customdata": [
          [
           34,
           "U3964",
           34
          ]
         ],
         "hovertemplate": "label=%{customdata[1]}<br>embed1=%{x}<br>embed2=%{y}<br>id=%{customdata[0]}<br>label_id=%{customdata[2]}<extra></extra>",
         "legendgroup": "U3964",
         "marker": {
          "color": "#FFA15A",
          "symbol": "circle"
         },
         "mode": "markers",
         "name": "U3964",
         "orientation": "v",
         "showlegend": true,
         "type": "scatter",
         "x": [
          -0.8729485505502342
         ],
         "xaxis": "x",
         "y": [
          -0.6584344150226049
         ],
         "yaxis": "y"
        },
        {
         "customdata": [
          [
           35,
           "T17",
           35
          ]
         ],
         "hovertemplate": "label=%{customdata[1]}<br>embed1=%{x}<br>embed2=%{y}<br>id=%{customdata[0]}<br>label_id=%{customdata[2]}<extra></extra>",
         "legendgroup": "T17",
         "marker": {
          "color": "#19d3f3",
          "symbol": "circle"
         },
         "mode": "markers",
         "name": "T17",
         "orientation": "v",
         "showlegend": true,
         "type": "scatter",
         "x": [
          2.300823729908944
         ],
         "xaxis": "x",
         "y": [
          1.736109259853943
         ],
         "yaxis": "y"
        },
        {
         "customdata": [
          [
           36,
           "U4674",
           36
          ]
         ],
         "hovertemplate": "label=%{customdata[1]}<br>embed1=%{x}<br>embed2=%{y}<br>id=%{customdata[0]}<br>label_id=%{customdata[2]}<extra></extra>",
         "legendgroup": "U4674",
         "marker": {
          "color": "#FF6692",
          "symbol": "circle"
         },
         "mode": "markers",
         "name": "U4674",
         "orientation": "v",
         "showlegend": true,
         "type": "scatter",
         "x": [
          -0.8729302426148658
         ],
         "xaxis": "x",
         "y": [
          -0.6584193102207035
         ],
         "yaxis": "y"
        },
        {
         "customdata": [
          [
           37,
           "T47",
           37
          ]
         ],
         "hovertemplate": "label=%{customdata[1]}<br>embed1=%{x}<br>embed2=%{y}<br>id=%{customdata[0]}<br>label_id=%{customdata[2]}<extra></extra>",
         "legendgroup": "T47",
         "marker": {
          "color": "#B6E880",
          "symbol": "circle"
         },
         "mode": "markers",
         "name": "T47",
         "orientation": "v",
         "showlegend": true,
         "type": "scatter",
         "x": [
          2.2995886866176742
         ],
         "xaxis": "x",
         "y": [
          1.7377451366451104
         ],
         "yaxis": "y"
        },
        {
         "customdata": [
          [
           38,
           "T23",
           38
          ]
         ],
         "hovertemplate": "label=%{customdata[1]}<br>embed1=%{x}<br>embed2=%{y}<br>id=%{customdata[0]}<br>label_id=%{customdata[2]}<extra></extra>",
         "legendgroup": "T23",
         "marker": {
          "color": "#FF97FF",
          "symbol": "circle"
         },
         "mode": "markers",
         "name": "T23",
         "orientation": "v",
         "showlegend": true,
         "type": "scatter",
         "x": [
          2.3022292090297602
         ],
         "xaxis": "x",
         "y": [
          1.7342451142425288
         ],
         "yaxis": "y"
        },
        {
         "customdata": [
          [
           39,
           "U6057",
           39
          ]
         ],
         "hovertemplate": "label=%{customdata[1]}<br>embed1=%{x}<br>embed2=%{y}<br>id=%{customdata[0]}<br>label_id=%{customdata[2]}<extra></extra>",
         "legendgroup": "U6057",
         "marker": {
          "color": "#FECB52",
          "symbol": "circle"
         },
         "mode": "markers",
         "name": "U6057",
         "orientation": "v",
         "showlegend": true,
         "type": "scatter",
         "x": [
          -0.8729143823849473
         ],
         "xaxis": "x",
         "y": [
          -0.6583945733372406
         ],
         "yaxis": "y"
        },
        {
         "customdata": [
          [
           40,
           "T10",
           40
          ]
         ],
         "hovertemplate": "label=%{customdata[1]}<br>embed1=%{x}<br>embed2=%{y}<br>id=%{customdata[0]}<br>label_id=%{customdata[2]}<extra></extra>",
         "legendgroup": "T10",
         "marker": {
          "color": "#636efa",
          "symbol": "circle"
         },
         "mode": "markers",
         "name": "T10",
         "orientation": "v",
         "showlegend": true,
         "type": "scatter",
         "x": [
          2.2993173805332145
         ],
         "xaxis": "x",
         "y": [
          1.7381041383191436
         ],
         "yaxis": "y"
        },
        {
         "customdata": [
          [
           41,
           "U115",
           41
          ]
         ],
         "hovertemplate": "label=%{customdata[1]}<br>embed1=%{x}<br>embed2=%{y}<br>id=%{customdata[0]}<br>label_id=%{customdata[2]}<extra></extra>",
         "legendgroup": "U115",
         "marker": {
          "color": "#EF553B",
          "symbol": "circle"
         },
         "mode": "markers",
         "name": "U115",
         "orientation": "v",
         "showlegend": true,
         "type": "scatter",
         "x": [
          -0.8728917582344038
         ],
         "xaxis": "x",
         "y": [
          -0.6583961989696095
         ],
         "yaxis": "y"
        },
        {
         "customdata": [
          [
           42,
           "T36",
           42
          ]
         ],
         "hovertemplate": "label=%{customdata[1]}<br>embed1=%{x}<br>embed2=%{y}<br>id=%{customdata[0]}<br>label_id=%{customdata[2]}<extra></extra>",
         "legendgroup": "T36",
         "marker": {
          "color": "#00cc96",
          "symbol": "circle"
         },
         "mode": "markers",
         "name": "T36",
         "orientation": "v",
         "showlegend": true,
         "type": "scatter",
         "x": [
          2.298963988871553
         ],
         "xaxis": "x",
         "y": [
          1.738571456519381
         ],
         "yaxis": "y"
        },
        {
         "customdata": [
          [
           43,
           "U1032",
           43
          ]
         ],
         "hovertemplate": "label=%{customdata[1]}<br>embed1=%{x}<br>embed2=%{y}<br>id=%{customdata[0]}<br>label_id=%{customdata[2]}<extra></extra>",
         "legendgroup": "U1032",
         "marker": {
          "color": "#ab63fa",
          "symbol": "circle"
         },
         "mode": "markers",
         "name": "U1032",
         "orientation": "v",
         "showlegend": true,
         "type": "scatter",
         "x": [
          -0.8729493346287024
         ],
         "xaxis": "x",
         "y": [
          -0.6584327423333559
         ],
         "yaxis": "y"
        },
        {
         "customdata": [
          [
           44,
           "T24",
           44
          ]
         ],
         "hovertemplate": "label=%{customdata[1]}<br>embed1=%{x}<br>embed2=%{y}<br>id=%{customdata[0]}<br>label_id=%{customdata[2]}<extra></extra>",
         "legendgroup": "T24",
         "marker": {
          "color": "#FFA15A",
          "symbol": "circle"
         },
         "mode": "markers",
         "name": "T24",
         "orientation": "v",
         "showlegend": true,
         "type": "scatter",
         "x": [
          2.3006724643227323
         ],
         "xaxis": "x",
         "y": [
          1.7363091454764688
         ],
         "yaxis": "y"
        },
        {
         "customdata": [
          [
           45,
           "U5937",
           45
          ]
         ],
         "hovertemplate": "label=%{customdata[1]}<br>embed1=%{x}<br>embed2=%{y}<br>id=%{customdata[0]}<br>label_id=%{customdata[2]}<extra></extra>",
         "legendgroup": "U5937",
         "marker": {
          "color": "#19d3f3",
          "symbol": "circle"
         },
         "mode": "markers",
         "name": "U5937",
         "orientation": "v",
         "showlegend": true,
         "type": "scatter",
         "x": [
          -0.8729321186378391
         ],
         "xaxis": "x",
         "y": [
          -0.6584193768167808
         ],
         "yaxis": "y"
        },
        {
         "customdata": [
          [
           46,
           "U885",
           46
          ]
         ],
         "hovertemplate": "label=%{customdata[1]}<br>embed1=%{x}<br>embed2=%{y}<br>id=%{customdata[0]}<br>label_id=%{customdata[2]}<extra></extra>",
         "legendgroup": "U885",
         "marker": {
          "color": "#FF6692",
          "symbol": "circle"
         },
         "mode": "markers",
         "name": "U885",
         "orientation": "v",
         "showlegend": true,
         "type": "scatter",
         "x": [
          -0.8729204688210035
         ],
         "xaxis": "x",
         "y": [
          -0.6584121015155491
         ],
         "yaxis": "y"
        },
        {
         "customdata": [
          [
           47,
           "U6042",
           47
          ]
         ],
         "hovertemplate": "label=%{customdata[1]}<br>embed1=%{x}<br>embed2=%{y}<br>id=%{customdata[0]}<br>label_id=%{customdata[2]}<extra></extra>",
         "legendgroup": "U6042",
         "marker": {
          "color": "#B6E880",
          "symbol": "circle"
         },
         "mode": "markers",
         "name": "U6042",
         "orientation": "v",
         "showlegend": true,
         "type": "scatter",
         "x": [
          -0.8729295981040036
         ],
         "xaxis": "x",
         "y": [
          -0.6584190683504672
         ],
         "yaxis": "y"
        },
        {
         "customdata": [
          [
           48,
           "T18",
           48
          ]
         ],
         "hovertemplate": "label=%{customdata[1]}<br>embed1=%{x}<br>embed2=%{y}<br>id=%{customdata[0]}<br>label_id=%{customdata[2]}<extra></extra>",
         "legendgroup": "T18",
         "marker": {
          "color": "#FF97FF",
          "symbol": "circle"
         },
         "mode": "markers",
         "name": "T18",
         "orientation": "v",
         "showlegend": true,
         "type": "scatter",
         "x": [
          2.3067247851853634
         ],
         "xaxis": "x",
         "y": [
          1.7282611724056278
         ],
         "yaxis": "y"
        },
        {
         "customdata": [
          [
           49,
           "U6032",
           49
          ]
         ],
         "hovertemplate": "label=%{customdata[1]}<br>embed1=%{x}<br>embed2=%{y}<br>id=%{customdata[0]}<br>label_id=%{customdata[2]}<extra></extra>",
         "legendgroup": "U6032",
         "marker": {
          "color": "#FECB52",
          "symbol": "circle"
         },
         "mode": "markers",
         "name": "U6032",
         "orientation": "v",
         "showlegend": true,
         "type": "scatter",
         "x": [
          -0.8729305093732548
         ],
         "xaxis": "x",
         "y": [
          -0.6584183708574157
         ],
         "yaxis": "y"
        },
        {
         "customdata": [
          [
           50,
           "U4866",
           50
          ]
         ],
         "hovertemplate": "label=%{customdata[1]}<br>embed1=%{x}<br>embed2=%{y}<br>id=%{customdata[0]}<br>label_id=%{customdata[2]}<extra></extra>",
         "legendgroup": "U4866",
         "marker": {
          "color": "#636efa",
          "symbol": "circle"
         },
         "mode": "markers",
         "name": "U4866",
         "orientation": "v",
         "showlegend": true,
         "type": "scatter",
         "x": [
          -0.8729307843627979
         ],
         "xaxis": "x",
         "y": [
          -0.6584188916698619
         ],
         "yaxis": "y"
        },
        {
         "customdata": [
          [
           51,
           "U3635",
           51
          ]
         ],
         "hovertemplate": "label=%{customdata[1]}<br>embed1=%{x}<br>embed2=%{y}<br>id=%{customdata[0]}<br>label_id=%{customdata[2]}<extra></extra>",
         "legendgroup": "U3635",
         "marker": {
          "color": "#EF553B",
          "symbol": "circle"
         },
         "mode": "markers",
         "name": "U3635",
         "orientation": "v",
         "showlegend": true,
         "type": "scatter",
         "x": [
          -0.8727552616285488
         ],
         "xaxis": "x",
         "y": [
          -0.6582635579078315
         ],
         "yaxis": "y"
        },
        {
         "customdata": [
          [
           52,
           "T22",
           52
          ]
         ],
         "hovertemplate": "label=%{customdata[1]}<br>embed1=%{x}<br>embed2=%{y}<br>id=%{customdata[0]}<br>label_id=%{customdata[2]}<extra></extra>",
         "legendgroup": "T22",
         "marker": {
          "color": "#00cc96",
          "symbol": "circle"
         },
         "mode": "markers",
         "name": "T22",
         "orientation": "v",
         "showlegend": true,
         "type": "scatter",
         "x": [
          2.305170977104995
         ],
         "xaxis": "x",
         "y": [
          1.7303331486163418
         ],
         "yaxis": "y"
        },
        {
         "customdata": [
          [
           53,
           "U2401",
           53
          ]
         ],
         "hovertemplate": "label=%{customdata[1]}<br>embed1=%{x}<br>embed2=%{y}<br>id=%{customdata[0]}<br>label_id=%{customdata[2]}<extra></extra>",
         "legendgroup": "U2401",
         "marker": {
          "color": "#ab63fa",
          "symbol": "circle"
         },
         "mode": "markers",
         "name": "U2401",
         "orientation": "v",
         "showlegend": true,
         "type": "scatter",
         "x": [
          -0.8729329633356397
         ],
         "xaxis": "x",
         "y": [
          -0.6584186838079877
         ],
         "yaxis": "y"
        },
        {
         "customdata": [
          [
           54,
           "T8",
           54
          ]
         ],
         "hovertemplate": "label=%{customdata[1]}<br>embed1=%{x}<br>embed2=%{y}<br>id=%{customdata[0]}<br>label_id=%{customdata[2]}<extra></extra>",
         "legendgroup": "T8",
         "marker": {
          "color": "#FFA15A",
          "symbol": "circle"
         },
         "mode": "markers",
         "name": "T8",
         "orientation": "v",
         "showlegend": true,
         "type": "scatter",
         "x": [
          2.3003603070544894
         ],
         "xaxis": "x",
         "y": [
          1.736723557365911
         ],
         "yaxis": "y"
        },
        {
         "customdata": [
          [
           55,
           "U2963",
           55
          ]
         ],
         "hovertemplate": "label=%{customdata[1]}<br>embed1=%{x}<br>embed2=%{y}<br>id=%{customdata[0]}<br>label_id=%{customdata[2]}<extra></extra>",
         "legendgroup": "U2963",
         "marker": {
          "color": "#19d3f3",
          "symbol": "circle"
         },
         "mode": "markers",
         "name": "U2963",
         "orientation": "v",
         "showlegend": true,
         "type": "scatter",
         "x": [
          -0.8729180888852983
         ],
         "xaxis": "x",
         "y": [
          -0.658406086241117
         ],
         "yaxis": "y"
        },
        {
         "customdata": [
          [
           56,
           "T33",
           56
          ]
         ],
         "hovertemplate": "label=%{customdata[1]}<br>embed1=%{x}<br>embed2=%{y}<br>id=%{customdata[0]}<br>label_id=%{customdata[2]}<extra></extra>",
         "legendgroup": "T33",
         "marker": {
          "color": "#FF6692",
          "symbol": "circle"
         },
         "mode": "markers",
         "name": "T33",
         "orientation": "v",
         "showlegend": true,
         "type": "scatter",
         "x": [
          2.298476741165897
         ],
         "xaxis": "x",
         "y": [
          1.7392152220572217
         ],
         "yaxis": "y"
        },
        {
         "customdata": [
          [
           57,
           "U3772",
           57
          ]
         ],
         "hovertemplate": "label=%{customdata[1]}<br>embed1=%{x}<br>embed2=%{y}<br>id=%{customdata[0]}<br>label_id=%{customdata[2]}<extra></extra>",
         "legendgroup": "U3772",
         "marker": {
          "color": "#B6E880",
          "symbol": "circle"
         },
         "mode": "markers",
         "name": "U3772",
         "orientation": "v",
         "showlegend": true,
         "type": "scatter",
         "x": [
          -0.8728993080896075
         ],
         "xaxis": "x",
         "y": [
          -0.6583924837618936
         ],
         "yaxis": "y"
        },
        {
         "customdata": [
          [
           58,
           "U1203",
           58
          ]
         ],
         "hovertemplate": "label=%{customdata[1]}<br>embed1=%{x}<br>embed2=%{y}<br>id=%{customdata[0]}<br>label_id=%{customdata[2]}<extra></extra>",
         "legendgroup": "U1203",
         "marker": {
          "color": "#FF97FF",
          "symbol": "circle"
         },
         "mode": "markers",
         "name": "U1203",
         "orientation": "v",
         "showlegend": true,
         "type": "scatter",
         "x": [
          -0.8729339370261933
         ],
         "xaxis": "x",
         "y": [
          -0.6584203485018213
         ],
         "yaxis": "y"
        },
        {
         "customdata": [
          [
           59,
           "T20",
           59
          ]
         ],
         "hovertemplate": "label=%{customdata[1]}<br>embed1=%{x}<br>embed2=%{y}<br>id=%{customdata[0]}<br>label_id=%{customdata[2]}<extra></extra>",
         "legendgroup": "T20",
         "marker": {
          "color": "#FECB52",
          "symbol": "circle"
         },
         "mode": "markers",
         "name": "T20",
         "orientation": "v",
         "showlegend": true,
         "type": "scatter",
         "x": [
          2.300279427283743
         ],
         "xaxis": "x",
         "y": [
          1.736830599961942
         ],
         "yaxis": "y"
        },
        {
         "customdata": [
          [
           60,
           "U5485",
           60
          ]
         ],
         "hovertemplate": "label=%{customdata[1]}<br>embed1=%{x}<br>embed2=%{y}<br>id=%{customdata[0]}<br>label_id=%{customdata[2]}<extra></extra>",
         "legendgroup": "U5485",
         "marker": {
          "color": "#636efa",
          "symbol": "circle"
         },
         "mode": "markers",
         "name": "U5485",
         "orientation": "v",
         "showlegend": true,
         "type": "scatter",
         "x": [
          -0.8729382712500942
         ],
         "xaxis": "x",
         "y": [
          -0.6584249230950908
         ],
         "yaxis": "y"
        },
        {
         "customdata": [
          [
           61,
           "T49",
           61
          ]
         ],
         "hovertemplate": "label=%{customdata[1]}<br>embed1=%{x}<br>embed2=%{y}<br>id=%{customdata[0]}<br>label_id=%{customdata[2]}<extra></extra>",
         "legendgroup": "T49",
         "marker": {
          "color": "#EF553B",
          "symbol": "circle"
         },
         "mode": "markers",
         "name": "T49",
         "orientation": "v",
         "showlegend": true,
         "type": "scatter",
         "x": [
          2.3024250479201136
         ],
         "xaxis": "x",
         "y": [
          1.7339852758870051
         ],
         "yaxis": "y"
        },
        {
         "customdata": [
          [
           62,
           "U2096",
           62
          ]
         ],
         "hovertemplate": "label=%{customdata[1]}<br>embed1=%{x}<br>embed2=%{y}<br>id=%{customdata[0]}<br>label_id=%{customdata[2]}<extra></extra>",
         "legendgroup": "U2096",
         "marker": {
          "color": "#00cc96",
          "symbol": "circle"
         },
         "mode": "markers",
         "name": "U2096",
         "orientation": "v",
         "showlegend": true,
         "type": "scatter",
         "x": [
          -0.8727469571180698
         ],
         "xaxis": "x",
         "y": [
          -0.6581345142190117
         ],
         "yaxis": "y"
        },
        {
         "customdata": [
          [
           63,
           "U5589",
           63
          ]
         ],
         "hovertemplate": "label=%{customdata[1]}<br>embed1=%{x}<br>embed2=%{y}<br>id=%{customdata[0]}<br>label_id=%{customdata[2]}<extra></extra>",
         "legendgroup": "U5589",
         "marker": {
          "color": "#ab63fa",
          "symbol": "circle"
         },
         "mode": "markers",
         "name": "U5589",
         "orientation": "v",
         "showlegend": true,
         "type": "scatter",
         "x": [
          -0.8729450815190534
         ],
         "xaxis": "x",
         "y": [
          -0.6584297509727262
         ],
         "yaxis": "y"
        },
        {
         "customdata": [
          [
           64,
           "U2431",
           64
          ]
         ],
         "hovertemplate": "label=%{customdata[1]}<br>embed1=%{x}<br>embed2=%{y}<br>id=%{customdata[0]}<br>label_id=%{customdata[2]}<extra></extra>",
         "legendgroup": "U2431",
         "marker": {
          "color": "#FFA15A",
          "symbol": "circle"
         },
         "mode": "markers",
         "name": "U2431",
         "orientation": "v",
         "showlegend": true,
         "type": "scatter",
         "x": [
          -0.8729487732498447
         ],
         "xaxis": "x",
         "y": [
          -0.6584329353990801
         ],
         "yaxis": "y"
        },
        {
         "customdata": [
          [
           65,
           "U6058",
           65
          ]
         ],
         "hovertemplate": "label=%{customdata[1]}<br>embed1=%{x}<br>embed2=%{y}<br>id=%{customdata[0]}<br>label_id=%{customdata[2]}<extra></extra>",
         "legendgroup": "U6058",
         "marker": {
          "color": "#19d3f3",
          "symbol": "circle"
         },
         "mode": "markers",
         "name": "U6058",
         "orientation": "v",
         "showlegend": true,
         "type": "scatter",
         "x": [
          -0.872928741998612
         ],
         "xaxis": "x",
         "y": [
          -0.6584259593367665
         ],
         "yaxis": "y"
        },
        {
         "customdata": [
          [
           66,
           "T54",
           66
          ]
         ],
         "hovertemplate": "label=%{customdata[1]}<br>embed1=%{x}<br>embed2=%{y}<br>id=%{customdata[0]}<br>label_id=%{customdata[2]}<extra></extra>",
         "legendgroup": "T54",
         "marker": {
          "color": "#FF6692",
          "symbol": "circle"
         },
         "mode": "markers",
         "name": "T54",
         "orientation": "v",
         "showlegend": true,
         "type": "scatter",
         "x": [
          2.300421680316511
         ],
         "xaxis": "x",
         "y": [
          1.7366419940564821
         ],
         "yaxis": "y"
        },
        {
         "customdata": [
          [
           67,
           "U5988",
           67
          ]
         ],
         "hovertemplate": "label=%{customdata[1]}<br>embed1=%{x}<br>embed2=%{y}<br>id=%{customdata[0]}<br>label_id=%{customdata[2]}<extra></extra>",
         "legendgroup": "U5988",
         "marker": {
          "color": "#B6E880",
          "symbol": "circle"
         },
         "mode": "markers",
         "name": "U5988",
         "orientation": "v",
         "showlegend": true,
         "type": "scatter",
         "x": [
          -0.8729542715519257
         ],
         "xaxis": "x",
         "y": [
          -0.6584347276308607
         ],
         "yaxis": "y"
        },
        {
         "customdata": [
          [
           68,
           "U4403",
           68
          ]
         ],
         "hovertemplate": "label=%{customdata[1]}<br>embed1=%{x}<br>embed2=%{y}<br>id=%{customdata[0]}<br>label_id=%{customdata[2]}<extra></extra>",
         "legendgroup": "U4403",
         "marker": {
          "color": "#FF97FF",
          "symbol": "circle"
         },
         "mode": "markers",
         "name": "U4403",
         "orientation": "v",
         "showlegend": true,
         "type": "scatter",
         "x": [
          -0.8729361433312672
         ],
         "xaxis": "x",
         "y": [
          -0.658422596584188
         ],
         "yaxis": "y"
        },
        {
         "customdata": [
          [
           69,
           "U2671",
           69
          ]
         ],
         "hovertemplate": "label=%{customdata[1]}<br>embed1=%{x}<br>embed2=%{y}<br>id=%{customdata[0]}<br>label_id=%{customdata[2]}<extra></extra>",
         "legendgroup": "U2671",
         "marker": {
          "color": "#FECB52",
          "symbol": "circle"
         },
         "mode": "markers",
         "name": "U2671",
         "orientation": "v",
         "showlegend": true,
         "type": "scatter",
         "x": [
          -0.8729449359693758
         ],
         "xaxis": "x",
         "y": [
          -0.6584307335735068
         ],
         "yaxis": "y"
        },
        {
         "customdata": [
          [
           70,
           "T40",
           70
          ]
         ],
         "hovertemplate": "label=%{customdata[1]}<br>embed1=%{x}<br>embed2=%{y}<br>id=%{customdata[0]}<br>label_id=%{customdata[2]}<extra></extra>",
         "legendgroup": "T40",
         "marker": {
          "color": "#636efa",
          "symbol": "circle"
         },
         "mode": "markers",
         "name": "T40",
         "orientation": "v",
         "showlegend": true,
         "type": "scatter",
         "x": [
          2.3007257993004337
         ],
         "xaxis": "x",
         "y": [
          1.7362392614460185
         ],
         "yaxis": "y"
        },
        {
         "customdata": [
          [
           71,
           "U338",
           71
          ]
         ],
         "hovertemplate": "label=%{customdata[1]}<br>embed1=%{x}<br>embed2=%{y}<br>id=%{customdata[0]}<br>label_id=%{customdata[2]}<extra></extra>",
         "legendgroup": "U338",
         "marker": {
          "color": "#EF553B",
          "symbol": "circle"
         },
         "mode": "markers",
         "name": "U338",
         "orientation": "v",
         "showlegend": true,
         "type": "scatter",
         "x": [
          -0.8728987470359482
         ],
         "xaxis": "x",
         "y": [
          -0.6583984270659733
         ],
         "yaxis": "y"
        },
        {
         "customdata": [
          [
           72,
           "U5843",
           72
          ]
         ],
         "hovertemplate": "label=%{customdata[1]}<br>embed1=%{x}<br>embed2=%{y}<br>id=%{customdata[0]}<br>label_id=%{customdata[2]}<extra></extra>",
         "legendgroup": "U5843",
         "marker": {
          "color": "#00cc96",
          "symbol": "circle"
         },
         "mode": "markers",
         "name": "U5843",
         "orientation": "v",
         "showlegend": true,
         "type": "scatter",
         "x": [
          -0.872869138104177
         ],
         "xaxis": "x",
         "y": [
          -0.6583830838082091
         ],
         "yaxis": "y"
        },
        {
         "customdata": [
          [
           73,
           "U4855",
           73
          ]
         ],
         "hovertemplate": "label=%{customdata[1]}<br>embed1=%{x}<br>embed2=%{y}<br>id=%{customdata[0]}<br>label_id=%{customdata[2]}<extra></extra>",
         "legendgroup": "U4855",
         "marker": {
          "color": "#ab63fa",
          "symbol": "circle"
         },
         "mode": "markers",
         "name": "U4855",
         "orientation": "v",
         "showlegend": true,
         "type": "scatter",
         "x": [
          -0.8706926891972313
         ],
         "xaxis": "x",
         "y": [
          -0.6578013012106071
         ],
         "yaxis": "y"
        },
        {
         "customdata": [
          [
           74,
           "U1555",
           74
          ]
         ],
         "hovertemplate": "label=%{customdata[1]}<br>embed1=%{x}<br>embed2=%{y}<br>id=%{customdata[0]}<br>label_id=%{customdata[2]}<extra></extra>",
         "legendgroup": "U1555",
         "marker": {
          "color": "#FFA15A",
          "symbol": "circle"
         },
         "mode": "markers",
         "name": "U1555",
         "orientation": "v",
         "showlegend": true,
         "type": "scatter",
         "x": [
          -0.872806317724706
         ],
         "xaxis": "x",
         "y": [
          -0.6583520722415657
         ],
         "yaxis": "y"
        },
        {
         "customdata": [
          [
           75,
           "U6048",
           75
          ]
         ],
         "hovertemplate": "label=%{customdata[1]}<br>embed1=%{x}<br>embed2=%{y}<br>id=%{customdata[0]}<br>label_id=%{customdata[2]}<extra></extra>",
         "legendgroup": "U6048",
         "marker": {
          "color": "#19d3f3",
          "symbol": "circle"
         },
         "mode": "markers",
         "name": "U6048",
         "orientation": "v",
         "showlegend": true,
         "type": "scatter",
         "x": [
          -0.8729545372987755
         ],
         "xaxis": "x",
         "y": [
          -0.6584352996388477
         ],
         "yaxis": "y"
        },
        {
         "customdata": [
          [
           76,
           "T26",
           76
          ]
         ],
         "hovertemplate": "label=%{customdata[1]}<br>embed1=%{x}<br>embed2=%{y}<br>id=%{customdata[0]}<br>label_id=%{customdata[2]}<extra></extra>",
         "legendgroup": "T26",
         "marker": {
          "color": "#FF6692",
          "symbol": "circle"
         },
         "mode": "markers",
         "name": "T26",
         "orientation": "v",
         "showlegend": true,
         "type": "scatter",
         "x": [
          2.30077226898204
         ],
         "xaxis": "x",
         "y": [
          1.7361777086017598
         ],
         "yaxis": "y"
        },
        {
         "customdata": [
          [
           77,
           "U4971",
           77
          ]
         ],
         "hovertemplate": "label=%{customdata[1]}<br>embed1=%{x}<br>embed2=%{y}<br>id=%{customdata[0]}<br>label_id=%{customdata[2]}<extra></extra>",
         "legendgroup": "U4971",
         "marker": {
          "color": "#B6E880",
          "symbol": "circle"
         },
         "mode": "markers",
         "name": "U4971",
         "orientation": "v",
         "showlegend": true,
         "type": "scatter",
         "x": [
          -0.8729377399077602
         ],
         "xaxis": "x",
         "y": [
          -0.6584261505293806
         ],
         "yaxis": "y"
        },
        {
         "customdata": [
          [
           78,
           "U3284",
           78
          ]
         ],
         "hovertemplate": "label=%{customdata[1]}<br>embed1=%{x}<br>embed2=%{y}<br>id=%{customdata[0]}<br>label_id=%{customdata[2]}<extra></extra>",
         "legendgroup": "U3284",
         "marker": {
          "color": "#FF97FF",
          "symbol": "circle"
         },
         "mode": "markers",
         "name": "U3284",
         "orientation": "v",
         "showlegend": true,
         "type": "scatter",
         "x": [
          -0.8729453367312718
         ],
         "xaxis": "x",
         "y": [
          -0.6584303627001424
         ],
         "yaxis": "y"
        },
        {
         "customdata": [
          [
           79,
           "U661",
           79
          ]
         ],
         "hovertemplate": "label=%{customdata[1]}<br>embed1=%{x}<br>embed2=%{y}<br>id=%{customdata[0]}<br>label_id=%{customdata[2]}<extra></extra>",
         "legendgroup": "U661",
         "marker": {
          "color": "#FECB52",
          "symbol": "circle"
         },
         "mode": "markers",
         "name": "U661",
         "orientation": "v",
         "showlegend": true,
         "type": "scatter",
         "x": [
          -0.8729228576636886
         ],
         "xaxis": "x",
         "y": [
          -0.6584071781264045
         ],
         "yaxis": "y"
        },
        {
         "customdata": [
          [
           80,
           "U6061",
           80
          ]
         ],
         "hovertemplate": "label=%{customdata[1]}<br>embed1=%{x}<br>embed2=%{y}<br>id=%{customdata[0]}<br>label_id=%{customdata[2]}<extra></extra>",
         "legendgroup": "U6061",
         "marker": {
          "color": "#636efa",
          "symbol": "circle"
         },
         "mode": "markers",
         "name": "U6061",
         "orientation": "v",
         "showlegend": true,
         "type": "scatter",
         "x": [
          -0.8729460710050613
         ],
         "xaxis": "x",
         "y": [
          -0.6584327496224522
         ],
         "yaxis": "y"
        },
        {
         "customdata": [
          [
           81,
           "T1",
           81
          ]
         ],
         "hovertemplate": "label=%{customdata[1]}<br>embed1=%{x}<br>embed2=%{y}<br>id=%{customdata[0]}<br>label_id=%{customdata[2]}<extra></extra>",
         "legendgroup": "T1",
         "marker": {
          "color": "#EF553B",
          "symbol": "circle"
         },
         "mode": "markers",
         "name": "T1",
         "orientation": "v",
         "showlegend": true,
         "type": "scatter",
         "x": [
          2.2990111876284587
         ],
         "xaxis": "x",
         "y": [
          1.738508988939555
         ],
         "yaxis": "y"
        },
        {
         "customdata": [
          [
           82,
           "U6046",
           82
          ]
         ],
         "hovertemplate": "label=%{customdata[1]}<br>embed1=%{x}<br>embed2=%{y}<br>id=%{customdata[0]}<br>label_id=%{customdata[2]}<extra></extra>",
         "legendgroup": "U6046",
         "marker": {
          "color": "#00cc96",
          "symbol": "circle"
         },
         "mode": "markers",
         "name": "U6046",
         "orientation": "v",
         "showlegend": true,
         "type": "scatter",
         "x": [
          -0.8729417654433869
         ],
         "xaxis": "x",
         "y": [
          -0.6584258419324318
         ],
         "yaxis": "y"
        },
        {
         "customdata": [
          [
           83,
           "T6",
           83
          ]
         ],
         "hovertemplate": "label=%{customdata[1]}<br>embed1=%{x}<br>embed2=%{y}<br>id=%{customdata[0]}<br>label_id=%{customdata[2]}<extra></extra>",
         "legendgroup": "T6",
         "marker": {
          "color": "#ab63fa",
          "symbol": "circle"
         },
         "mode": "markers",
         "name": "T6",
         "orientation": "v",
         "showlegend": true,
         "type": "scatter",
         "x": [
          2.302476676092445
         ],
         "xaxis": "x",
         "y": [
          1.7339167386916734
         ],
         "yaxis": "y"
        },
        {
         "customdata": [
          [
           84,
           "U2093",
           84
          ]
         ],
         "hovertemplate": "label=%{customdata[1]}<br>embed1=%{x}<br>embed2=%{y}<br>id=%{customdata[0]}<br>label_id=%{customdata[2]}<extra></extra>",
         "legendgroup": "U2093",
         "marker": {
          "color": "#FFA15A",
          "symbol": "circle"
         },
         "mode": "markers",
         "name": "U2093",
         "orientation": "v",
         "showlegend": true,
         "type": "scatter",
         "x": [
          -0.8729491517692725
         ],
         "xaxis": "x",
         "y": [
          -0.658435109057548
         ],
         "yaxis": "y"
        },
        {
         "customdata": [
          [
           85,
           "T38",
           85
          ]
         ],
         "hovertemplate": "label=%{customdata[1]}<br>embed1=%{x}<br>embed2=%{y}<br>id=%{customdata[0]}<br>label_id=%{customdata[2]}<extra></extra>",
         "legendgroup": "T38",
         "marker": {
          "color": "#19d3f3",
          "symbol": "circle"
         },
         "mode": "markers",
         "name": "T38",
         "orientation": "v",
         "showlegend": true,
         "type": "scatter",
         "x": [
          2.2994766637120927
         ],
         "xaxis": "x",
         "y": [
          1.7378932699427214
         ],
         "yaxis": "y"
        },
        {
         "customdata": [
          [
           86,
           "U6014",
           86
          ]
         ],
         "hovertemplate": "label=%{customdata[1]}<br>embed1=%{x}<br>embed2=%{y}<br>id=%{customdata[0]}<br>label_id=%{customdata[2]}<extra></extra>",
         "legendgroup": "U6014",
         "marker": {
          "color": "#FF6692",
          "symbol": "circle"
         },
         "mode": "markers",
         "name": "U6014",
         "orientation": "v",
         "showlegend": true,
         "type": "scatter",
         "x": [
          -0.8728304316341245
         ],
         "xaxis": "x",
         "y": [
          -0.658269160149496
         ],
         "yaxis": "y"
        },
        {
         "customdata": [
          [
           87,
           "T14",
           87
          ]
         ],
         "hovertemplate": "label=%{customdata[1]}<br>embed1=%{x}<br>embed2=%{y}<br>id=%{customdata[0]}<br>label_id=%{customdata[2]}<extra></extra>",
         "legendgroup": "T14",
         "marker": {
          "color": "#B6E880",
          "symbol": "circle"
         },
         "mode": "markers",
         "name": "T14",
         "orientation": "v",
         "showlegend": true,
         "type": "scatter",
         "x": [
          2.2995670247720645
         ],
         "xaxis": "x",
         "y": [
          1.7377737479541235
         ],
         "yaxis": "y"
        },
        {
         "customdata": [
          [
           88,
           "U3838",
           88
          ]
         ],
         "hovertemplate": "label=%{customdata[1]}<br>embed1=%{x}<br>embed2=%{y}<br>id=%{customdata[0]}<br>label_id=%{customdata[2]}<extra></extra>",
         "legendgroup": "U3838",
         "marker": {
          "color": "#FF97FF",
          "symbol": "circle"
         },
         "mode": "markers",
         "name": "U3838",
         "orientation": "v",
         "showlegend": true,
         "type": "scatter",
         "x": [
          -0.8728921628323819
         ],
         "xaxis": "x",
         "y": [
          -0.6583935983250058
         ],
         "yaxis": "y"
        },
        {
         "customdata": [
          [
           89,
           "U976",
           89
          ]
         ],
         "hovertemplate": "label=%{customdata[1]}<br>embed1=%{x}<br>embed2=%{y}<br>id=%{customdata[0]}<br>label_id=%{customdata[2]}<extra></extra>",
         "legendgroup": "U976",
         "marker": {
          "color": "#FECB52",
          "symbol": "circle"
         },
         "mode": "markers",
         "name": "U976",
         "orientation": "v",
         "showlegend": true,
         "type": "scatter",
         "x": [
          -0.8729048279962639
         ],
         "xaxis": "x",
         "y": [
          -0.6583919386268601
         ],
         "yaxis": "y"
        },
        {
         "customdata": [
          [
           90,
           "T45",
           90
          ]
         ],
         "hovertemplate": "label=%{customdata[1]}<br>embed1=%{x}<br>embed2=%{y}<br>id=%{customdata[0]}<br>label_id=%{customdata[2]}<extra></extra>",
         "legendgroup": "T45",
         "marker": {
          "color": "#636efa",
          "symbol": "circle"
         },
         "mode": "markers",
         "name": "T45",
         "orientation": "v",
         "showlegend": true,
         "type": "scatter",
         "x": [
          2.300189797796813
         ],
         "xaxis": "x",
         "y": [
          1.736949425370442
         ],
         "yaxis": "y"
        },
        {
         "customdata": [
          [
           91,
           "T0",
           91
          ]
         ],
         "hovertemplate": "label=%{customdata[1]}<br>embed1=%{x}<br>embed2=%{y}<br>id=%{customdata[0]}<br>label_id=%{customdata[2]}<extra></extra>",
         "legendgroup": "T0",
         "marker": {
          "color": "#EF553B",
          "symbol": "circle"
         },
         "mode": "markers",
         "name": "T0",
         "orientation": "v",
         "showlegend": true,
         "type": "scatter",
         "x": [
          2.2962604388206165
         ],
         "xaxis": "x",
         "y": [
          1.7421405939550394
         ],
         "yaxis": "y"
        },
        {
         "customdata": [
          [
           92,
           "T28",
           92
          ]
         ],
         "hovertemplate": "label=%{customdata[1]}<br>embed1=%{x}<br>embed2=%{y}<br>id=%{customdata[0]}<br>label_id=%{customdata[2]}<extra></extra>",
         "legendgroup": "T28",
         "marker": {
          "color": "#00cc96",
          "symbol": "circle"
         },
         "mode": "markers",
         "name": "T28",
         "orientation": "v",
         "showlegend": true,
         "type": "scatter",
         "x": [
          2.30092136419393
         ],
         "xaxis": "x",
         "y": [
          1.7359800301868624
         ],
         "yaxis": "y"
        },
        {
         "customdata": [
          [
           93,
           "U1748",
           93
          ]
         ],
         "hovertemplate": "label=%{customdata[1]}<br>embed1=%{x}<br>embed2=%{y}<br>id=%{customdata[0]}<br>label_id=%{customdata[2]}<extra></extra>",
         "legendgroup": "U1748",
         "marker": {
          "color": "#ab63fa",
          "symbol": "circle"
         },
         "mode": "markers",
         "name": "U1748",
         "orientation": "v",
         "showlegend": true,
         "type": "scatter",
         "x": [
          -0.8724912174790026
         ],
         "xaxis": "x",
         "y": [
          -0.6577651486460109
         ],
         "yaxis": "y"
        },
        {
         "customdata": [
          [
           94,
           "U5040",
           94
          ]
         ],
         "hovertemplate": "label=%{customdata[1]}<br>embed1=%{x}<br>embed2=%{y}<br>id=%{customdata[0]}<br>label_id=%{customdata[2]}<extra></extra>",
         "legendgroup": "U5040",
         "marker": {
          "color": "#FFA15A",
          "symbol": "circle"
         },
         "mode": "markers",
         "name": "U5040",
         "orientation": "v",
         "showlegend": true,
         "type": "scatter",
         "x": [
          -0.8729462547794316
         ],
         "xaxis": "x",
         "y": [
          -0.6584305416246198
         ],
         "yaxis": "y"
        },
        {
         "customdata": [
          [
           95,
           "U6064",
           95
          ]
         ],
         "hovertemplate": "label=%{customdata[1]}<br>embed1=%{x}<br>embed2=%{y}<br>id=%{customdata[0]}<br>label_id=%{customdata[2]}<extra></extra>",
         "legendgroup": "U6064",
         "marker": {
          "color": "#19d3f3",
          "symbol": "circle"
         },
         "mode": "markers",
         "name": "U6064",
         "orientation": "v",
         "showlegend": true,
         "type": "scatter",
         "x": [
          -0.8729431482400702
         ],
         "xaxis": "x",
         "y": [
          -0.6584276481070258
         ],
         "yaxis": "y"
        },
        {
         "customdata": [
          [
           96,
           "U1184",
           96
          ]
         ],
         "hovertemplate": "label=%{customdata[1]}<br>embed1=%{x}<br>embed2=%{y}<br>id=%{customdata[0]}<br>label_id=%{customdata[2]}<extra></extra>",
         "legendgroup": "U1184",
         "marker": {
          "color": "#FF6692",
          "symbol": "circle"
         },
         "mode": "markers",
         "name": "U1184",
         "orientation": "v",
         "showlegend": true,
         "type": "scatter",
         "x": [
          -0.8729328024988303
         ],
         "xaxis": "x",
         "y": [
          -0.658421249905867
         ],
         "yaxis": "y"
        },
        {
         "customdata": [
          [
           97,
           "U2001",
           97
          ]
         ],
         "hovertemplate": "label=%{customdata[1]}<br>embed1=%{x}<br>embed2=%{y}<br>id=%{customdata[0]}<br>label_id=%{customdata[2]}<extra></extra>",
         "legendgroup": "U2001",
         "marker": {
          "color": "#B6E880",
          "symbol": "circle"
         },
         "mode": "markers",
         "name": "U2001",
         "orientation": "v",
         "showlegend": true,
         "type": "scatter",
         "x": [
          -0.8728905051135902
         ],
         "xaxis": "x",
         "y": [
          -0.6583758776324311
         ],
         "yaxis": "y"
        },
        {
         "customdata": [
          [
           98,
           "U3550",
           98
          ]
         ],
         "hovertemplate": "label=%{customdata[1]}<br>embed1=%{x}<br>embed2=%{y}<br>id=%{customdata[0]}<br>label_id=%{customdata[2]}<extra></extra>",
         "legendgroup": "U3550",
         "marker": {
          "color": "#FF97FF",
          "symbol": "circle"
         },
         "mode": "markers",
         "name": "U3550",
         "orientation": "v",
         "showlegend": true,
         "type": "scatter",
         "x": [
          -0.8729461988687578
         ],
         "xaxis": "x",
         "y": [
          -0.6584312179301361
         ],
         "yaxis": "y"
        },
        {
         "customdata": [
          [
           99,
           "U5270",
           99
          ]
         ],
         "hovertemplate": "label=%{customdata[1]}<br>embed1=%{x}<br>embed2=%{y}<br>id=%{customdata[0]}<br>label_id=%{customdata[2]}<extra></extra>",
         "legendgroup": "U5270",
         "marker": {
          "color": "#FECB52",
          "symbol": "circle"
         },
         "mode": "markers",
         "name": "U5270",
         "orientation": "v",
         "showlegend": true,
         "type": "scatter",
         "x": [
          -0.8729439516384692
         ],
         "xaxis": "x",
         "y": [
          -0.6584302276747275
         ],
         "yaxis": "y"
        },
        {
         "customdata": [
          [
           100,
           "T27",
           100
          ]
         ],
         "hovertemplate": "label=%{customdata[1]}<br>embed1=%{x}<br>embed2=%{y}<br>id=%{customdata[0]}<br>label_id=%{customdata[2]}<extra></extra>",
         "legendgroup": "T27",
         "marker": {
          "color": "#636efa",
          "symbol": "circle"
         },
         "mode": "markers",
         "name": "T27",
         "orientation": "v",
         "showlegend": true,
         "type": "scatter",
         "x": [
          2.3000961387647814
         ],
         "xaxis": "x",
         "y": [
          1.7370734213685932
         ],
         "yaxis": "y"
        },
        {
         "customdata": [
          [
           101,
           "U6063",
           101
          ]
         ],
         "hovertemplate": "label=%{customdata[1]}<br>embed1=%{x}<br>embed2=%{y}<br>id=%{customdata[0]}<br>label_id=%{customdata[2]}<extra></extra>",
         "legendgroup": "U6063",
         "marker": {
          "color": "#EF553B",
          "symbol": "circle"
         },
         "mode": "markers",
         "name": "U6063",
         "orientation": "v",
         "showlegend": true,
         "type": "scatter",
         "x": [
          -0.872947510237113
         ],
         "xaxis": "x",
         "y": [
          -0.6584330444937316
         ],
         "yaxis": "y"
        },
        {
         "customdata": [
          [
           102,
           "T3",
           102
          ]
         ],
         "hovertemplate": "label=%{customdata[1]}<br>embed1=%{x}<br>embed2=%{y}<br>id=%{customdata[0]}<br>label_id=%{customdata[2]}<extra></extra>",
         "legendgroup": "T3",
         "marker": {
          "color": "#00cc96",
          "symbol": "circle"
         },
         "mode": "markers",
         "name": "T3",
         "orientation": "v",
         "showlegend": true,
         "type": "scatter",
         "x": [
          2.308507686135761
         ],
         "xaxis": "x",
         "y": [
          1.7258790030463385
         ],
         "yaxis": "y"
        },
        {
         "customdata": [
          [
           103,
           "T2",
           103
          ]
         ],
         "hovertemplate": "label=%{customdata[1]}<br>embed1=%{x}<br>embed2=%{y}<br>id=%{customdata[0]}<br>label_id=%{customdata[2]}<extra></extra>",
         "legendgroup": "T2",
         "marker": {
          "color": "#ab63fa",
          "symbol": "circle"
         },
         "mode": "markers",
         "name": "T2",
         "orientation": "v",
         "showlegend": true,
         "type": "scatter",
         "x": [
          2.2998033796623907
         ],
         "xaxis": "x",
         "y": [
          1.7374608855459854
         ],
         "yaxis": "y"
        },
        {
         "customdata": [
          [
           104,
           "U2184",
           104
          ]
         ],
         "hovertemplate": "label=%{customdata[1]}<br>embed1=%{x}<br>embed2=%{y}<br>id=%{customdata[0]}<br>label_id=%{customdata[2]}<extra></extra>",
         "legendgroup": "U2184",
         "marker": {
          "color": "#FFA15A",
          "symbol": "circle"
         },
         "mode": "markers",
         "name": "U2184",
         "orientation": "v",
         "showlegend": true,
         "type": "scatter",
         "x": [
          -0.8729483927929459
         ],
         "xaxis": "x",
         "y": [
          -0.6584338182432729
         ],
         "yaxis": "y"
        },
        {
         "customdata": [
          [
           105,
           "T39",
           105
          ]
         ],
         "hovertemplate": "label=%{customdata[1]}<br>embed1=%{x}<br>embed2=%{y}<br>id=%{customdata[0]}<br>label_id=%{customdata[2]}<extra></extra>",
         "legendgroup": "T39",
         "marker": {
          "color": "#19d3f3",
          "symbol": "circle"
         },
         "mode": "markers",
         "name": "T39",
         "orientation": "v",
         "showlegend": true,
         "type": "scatter",
         "x": [
          2.2998424175152183
         ],
         "xaxis": "x",
         "y": [
          1.7374092205450904
         ],
         "yaxis": "y"
        },
        {
         "customdata": [
          [
           106,
           "U3202",
           106
          ]
         ],
         "hovertemplate": "label=%{customdata[1]}<br>embed1=%{x}<br>embed2=%{y}<br>id=%{customdata[0]}<br>label_id=%{customdata[2]}<extra></extra>",
         "legendgroup": "U3202",
         "marker": {
          "color": "#FF6692",
          "symbol": "circle"
         },
         "mode": "markers",
         "name": "U3202",
         "orientation": "v",
         "showlegend": true,
         "type": "scatter",
         "x": [
          -0.8729450575689733
         ],
         "xaxis": "x",
         "y": [
          -0.6584305728250647
         ],
         "yaxis": "y"
        },
        {
         "customdata": [
          [
           107,
           "U1871",
           107
          ]
         ],
         "hovertemplate": "label=%{customdata[1]}<br>embed1=%{x}<br>embed2=%{y}<br>id=%{customdata[0]}<br>label_id=%{customdata[2]}<extra></extra>",
         "legendgroup": "U1871",
         "marker": {
          "color": "#B6E880",
          "symbol": "circle"
         },
         "mode": "markers",
         "name": "U1871",
         "orientation": "v",
         "showlegend": true,
         "type": "scatter",
         "x": [
          -0.8729490133263713
         ],
         "xaxis": "x",
         "y": [
          -0.6584336520903398
         ],
         "yaxis": "y"
        },
        {
         "customdata": [
          [
           108,
           "U5136",
           108
          ]
         ],
         "hovertemplate": "label=%{customdata[1]}<br>embed1=%{x}<br>embed2=%{y}<br>id=%{customdata[0]}<br>label_id=%{customdata[2]}<extra></extra>",
         "legendgroup": "U5136",
         "marker": {
          "color": "#FF97FF",
          "symbol": "circle"
         },
         "mode": "markers",
         "name": "U5136",
         "orientation": "v",
         "showlegend": true,
         "type": "scatter",
         "x": [
          -0.8729185317441442
         ],
         "xaxis": "x",
         "y": [
          -0.6584021921188792
         ],
         "yaxis": "y"
        },
        {
         "customdata": [
          [
           109,
           "U6056",
           109
          ]
         ],
         "hovertemplate": "label=%{customdata[1]}<br>embed1=%{x}<br>embed2=%{y}<br>id=%{customdata[0]}<br>label_id=%{customdata[2]}<extra></extra>",
         "legendgroup": "U6056",
         "marker": {
          "color": "#FECB52",
          "symbol": "circle"
         },
         "mode": "markers",
         "name": "U6056",
         "orientation": "v",
         "showlegend": true,
         "type": "scatter",
         "x": [
          -0.872940096120161
         ],
         "xaxis": "x",
         "y": [
          -0.6584246685488434
         ],
         "yaxis": "y"
        },
        {
         "customdata": [
          [
           110,
           "U3219",
           110
          ]
         ],
         "hovertemplate": "label=%{customdata[1]}<br>embed1=%{x}<br>embed2=%{y}<br>id=%{customdata[0]}<br>label_id=%{customdata[2]}<extra></extra>",
         "legendgroup": "U3219",
         "marker": {
          "color": "#636efa",
          "symbol": "circle"
         },
         "mode": "markers",
         "name": "U3219",
         "orientation": "v",
         "showlegend": true,
         "type": "scatter",
         "x": [
          -0.8729438007506609
         ],
         "xaxis": "x",
         "y": [
          -0.6584302757163378
         ],
         "yaxis": "y"
        },
        {
         "customdata": [
          [
           111,
           "U6060",
           111
          ]
         ],
         "hovertemplate": "label=%{customdata[1]}<br>embed1=%{x}<br>embed2=%{y}<br>id=%{customdata[0]}<br>label_id=%{customdata[2]}<extra></extra>",
         "legendgroup": "U6060",
         "marker": {
          "color": "#EF553B",
          "symbol": "circle"
         },
         "mode": "markers",
         "name": "U6060",
         "orientation": "v",
         "showlegend": true,
         "type": "scatter",
         "x": [
          -0.872947209724419
         ],
         "xaxis": "x",
         "y": [
          -0.6584319397953945
         ],
         "yaxis": "y"
        },
        {
         "customdata": [
          [
           112,
           "U6040",
           112
          ]
         ],
         "hovertemplate": "label=%{customdata[1]}<br>embed1=%{x}<br>embed2=%{y}<br>id=%{customdata[0]}<br>label_id=%{customdata[2]}<extra></extra>",
         "legendgroup": "U6040",
         "marker": {
          "color": "#00cc96",
          "symbol": "circle"
         },
         "mode": "markers",
         "name": "U6040",
         "orientation": "v",
         "showlegend": true,
         "type": "scatter",
         "x": [
          -0.872934499361052
         ],
         "xaxis": "x",
         "y": [
          -0.6584224148131982
         ],
         "yaxis": "y"
        },
        {
         "customdata": [
          [
           113,
           "T15",
           113
          ]
         ],
         "hovertemplate": "label=%{customdata[1]}<br>embed1=%{x}<br>embed2=%{y}<br>id=%{customdata[0]}<br>label_id=%{customdata[2]}<extra></extra>",
         "legendgroup": "T15",
         "marker": {
          "color": "#ab63fa",
          "symbol": "circle"
         },
         "mode": "markers",
         "name": "T15",
         "orientation": "v",
         "showlegend": true,
         "type": "scatter",
         "x": [
          2.299918452045311
         ],
         "xaxis": "x",
         "y": [
          1.7373085407713311
         ],
         "yaxis": "y"
        },
        {
         "customdata": [
          [
           114,
           "U1139",
           114
          ]
         ],
         "hovertemplate": "label=%{customdata[1]}<br>embed1=%{x}<br>embed2=%{y}<br>id=%{customdata[0]}<br>label_id=%{customdata[2]}<extra></extra>",
         "legendgroup": "U1139",
         "marker": {
          "color": "#FFA15A",
          "symbol": "circle"
         },
         "mode": "markers",
         "name": "U1139",
         "orientation": "v",
         "showlegend": true,
         "type": "scatter",
         "x": [
          -0.8729355771648656
         ],
         "xaxis": "x",
         "y": [
          -0.6584229756170007
         ],
         "yaxis": "y"
        },
        {
         "customdata": [
          [
           115,
           "U5966",
           115
          ]
         ],
         "hovertemplate": "label=%{customdata[1]}<br>embed1=%{x}<br>embed2=%{y}<br>id=%{customdata[0]}<br>label_id=%{customdata[2]}<extra></extra>",
         "legendgroup": "U5966",
         "marker": {
          "color": "#19d3f3",
          "symbol": "circle"
         },
         "mode": "markers",
         "name": "U5966",
         "orientation": "v",
         "showlegend": true,
         "type": "scatter",
         "x": [
          -0.87292869823854
         ],
         "xaxis": "x",
         "y": [
          -0.6584151917015345
         ],
         "yaxis": "y"
        },
        {
         "customdata": [
          [
           116,
           "U6047",
           116
          ]
         ],
         "hovertemplate": "label=%{customdata[1]}<br>embed1=%{x}<br>embed2=%{y}<br>id=%{customdata[0]}<br>label_id=%{customdata[2]}<extra></extra>",
         "legendgroup": "U6047",
         "marker": {
          "color": "#FF6692",
          "symbol": "circle"
         },
         "mode": "markers",
         "name": "U6047",
         "orientation": "v",
         "showlegend": true,
         "type": "scatter",
         "x": [
          -0.8729463623749668
         ],
         "xaxis": "x",
         "y": [
          -0.6584322899548416
         ],
         "yaxis": "y"
        },
        {
         "customdata": [
          [
           117,
           "T5",
           117
          ]
         ],
         "hovertemplate": "label=%{customdata[1]}<br>embed1=%{x}<br>embed2=%{y}<br>id=%{customdata[0]}<br>label_id=%{customdata[2]}<extra></extra>",
         "legendgroup": "T5",
         "marker": {
          "color": "#B6E880",
          "symbol": "circle"
         },
         "mode": "markers",
         "name": "T5",
         "orientation": "v",
         "showlegend": true,
         "type": "scatter",
         "x": [
          2.301157140795977
         ],
         "xaxis": "x",
         "y": [
          1.7356675701299003
         ],
         "yaxis": "y"
        },
        {
         "customdata": [
          [
           118,
           "U2622",
           118
          ]
         ],
         "hovertemplate": "label=%{customdata[1]}<br>embed1=%{x}<br>embed2=%{y}<br>id=%{customdata[0]}<br>label_id=%{customdata[2]}<extra></extra>",
         "legendgroup": "U2622",
         "marker": {
          "color": "#FF97FF",
          "symbol": "circle"
         },
         "mode": "markers",
         "name": "U2622",
         "orientation": "v",
         "showlegend": true,
         "type": "scatter",
         "x": [
          -0.8729553621431998
         ],
         "xaxis": "x",
         "y": [
          -0.6584346864993953
         ],
         "yaxis": "y"
        },
        {
         "customdata": [
          [
           119,
           "T37",
           119
          ]
         ],
         "hovertemplate": "label=%{customdata[1]}<br>embed1=%{x}<br>embed2=%{y}<br>id=%{customdata[0]}<br>label_id=%{customdata[2]}<extra></extra>",
         "legendgroup": "T37",
         "marker": {
          "color": "#FECB52",
          "symbol": "circle"
         },
         "mode": "markers",
         "name": "T37",
         "orientation": "v",
         "showlegend": true,
         "type": "scatter",
         "x": [
          2.3032028225999026
         ],
         "xaxis": "x",
         "y": [
          1.7329521277328783
         ],
         "yaxis": "y"
        },
        {
         "customdata": [
          [
           120,
           "U1197",
           120
          ]
         ],
         "hovertemplate": "label=%{customdata[1]}<br>embed1=%{x}<br>embed2=%{y}<br>id=%{customdata[0]}<br>label_id=%{customdata[2]}<extra></extra>",
         "legendgroup": "U1197",
         "marker": {
          "color": "#636efa",
          "symbol": "circle"
         },
         "mode": "markers",
         "name": "U1197",
         "orientation": "v",
         "showlegend": true,
         "type": "scatter",
         "x": [
          -0.8729459061591804
         ],
         "xaxis": "x",
         "y": [
          -0.6584309024452679
         ],
         "yaxis": "y"
        },
        {
         "customdata": [
          [
           121,
           "U5729",
           121
          ]
         ],
         "hovertemplate": "label=%{customdata[1]}<br>embed1=%{x}<br>embed2=%{y}<br>id=%{customdata[0]}<br>label_id=%{customdata[2]}<extra></extra>",
         "legendgroup": "U5729",
         "marker": {
          "color": "#EF553B",
          "symbol": "circle"
         },
         "mode": "markers",
         "name": "U5729",
         "orientation": "v",
         "showlegend": true,
         "type": "scatter",
         "x": [
          -0.8729465666403327
         ],
         "xaxis": "x",
         "y": [
          -0.6584311600153886
         ],
         "yaxis": "y"
        },
        {
         "customdata": [
          [
           122,
           "U4062",
           122
          ]
         ],
         "hovertemplate": "label=%{customdata[1]}<br>embed1=%{x}<br>embed2=%{y}<br>id=%{customdata[0]}<br>label_id=%{customdata[2]}<extra></extra>",
         "legendgroup": "U4062",
         "marker": {
          "color": "#00cc96",
          "symbol": "circle"
         },
         "mode": "markers",
         "name": "U4062",
         "orientation": "v",
         "showlegend": true,
         "type": "scatter",
         "x": [
          -0.8729461185290989
         ],
         "xaxis": "x",
         "y": [
          -0.6584321274410153
         ],
         "yaxis": "y"
        },
        {
         "customdata": [
          [
           123,
           "U5844",
           123
          ]
         ],
         "hovertemplate": "label=%{customdata[1]}<br>embed1=%{x}<br>embed2=%{y}<br>id=%{customdata[0]}<br>label_id=%{customdata[2]}<extra></extra>",
         "legendgroup": "U5844",
         "marker": {
          "color": "#ab63fa",
          "symbol": "circle"
         },
         "mode": "markers",
         "name": "U5844",
         "orientation": "v",
         "showlegend": true,
         "type": "scatter",
         "x": [
          -0.8729381770111856
         ],
         "xaxis": "x",
         "y": [
          -0.6584226430010673
         ],
         "yaxis": "y"
        },
        {
         "customdata": [
          [
           124,
           "U5714",
           124
          ]
         ],
         "hovertemplate": "label=%{customdata[1]}<br>embed1=%{x}<br>embed2=%{y}<br>id=%{customdata[0]}<br>label_id=%{customdata[2]}<extra></extra>",
         "legendgroup": "U5714",
         "marker": {
          "color": "#FFA15A",
          "symbol": "circle"
         },
         "mode": "markers",
         "name": "U5714",
         "orientation": "v",
         "showlegend": true,
         "type": "scatter",
         "x": [
          -0.8729336201359316
         ],
         "xaxis": "x",
         "y": [
          -0.6584197877429427
         ],
         "yaxis": "y"
        },
        {
         "customdata": [
          [
           125,
           "T16",
           125
          ]
         ],
         "hovertemplate": "label=%{customdata[1]}<br>embed1=%{x}<br>embed2=%{y}<br>id=%{customdata[0]}<br>label_id=%{customdata[2]}<extra></extra>",
         "legendgroup": "T16",
         "marker": {
          "color": "#19d3f3",
          "symbol": "circle"
         },
         "mode": "markers",
         "name": "T16",
         "orientation": "v",
         "showlegend": true,
         "type": "scatter",
         "x": [
          2.297131213864093
         ],
         "xaxis": "x",
         "y": [
          1.7409922567907594
         ],
         "yaxis": "y"
        },
        {
         "customdata": [
          [
           126,
           "U2277",
           126
          ]
         ],
         "hovertemplate": "label=%{customdata[1]}<br>embed1=%{x}<br>embed2=%{y}<br>id=%{customdata[0]}<br>label_id=%{customdata[2]}<extra></extra>",
         "legendgroup": "U2277",
         "marker": {
          "color": "#FF6692",
          "symbol": "circle"
         },
         "mode": "markers",
         "name": "U2277",
         "orientation": "v",
         "showlegend": true,
         "type": "scatter",
         "x": [
          -0.8729421535916437
         ],
         "xaxis": "x",
         "y": [
          -0.658425978001128
         ],
         "yaxis": "y"
        },
        {
         "customdata": [
          [
           127,
           "U6049",
           127
          ]
         ],
         "hovertemplate": "label=%{customdata[1]}<br>embed1=%{x}<br>embed2=%{y}<br>id=%{customdata[0]}<br>label_id=%{customdata[2]}<extra></extra>",
         "legendgroup": "U6049",
         "marker": {
          "color": "#B6E880",
          "symbol": "circle"
         },
         "mode": "markers",
         "name": "U6049",
         "orientation": "v",
         "showlegend": true,
         "type": "scatter",
         "x": [
          -0.8729479511947683
         ],
         "xaxis": "x",
         "y": [
          -0.6584335932575546
         ],
         "yaxis": "y"
        },
        {
         "customdata": [
          [
           128,
           "U2396",
           128
          ]
         ],
         "hovertemplate": "label=%{customdata[1]}<br>embed1=%{x}<br>embed2=%{y}<br>id=%{customdata[0]}<br>label_id=%{customdata[2]}<extra></extra>",
         "legendgroup": "U2396",
         "marker": {
          "color": "#FF97FF",
          "symbol": "circle"
         },
         "mode": "markers",
         "name": "U2396",
         "orientation": "v",
         "showlegend": true,
         "type": "scatter",
         "x": [
          -0.8728628279126089
         ],
         "xaxis": "x",
         "y": [
          -0.6583793530550293
         ],
         "yaxis": "y"
        },
        {
         "customdata": [
          [
           129,
           "U1954",
           129
          ]
         ],
         "hovertemplate": "label=%{customdata[1]}<br>embed1=%{x}<br>embed2=%{y}<br>id=%{customdata[0]}<br>label_id=%{customdata[2]}<extra></extra>",
         "legendgroup": "U1954",
         "marker": {
          "color": "#FECB52",
          "symbol": "circle"
         },
         "mode": "markers",
         "name": "U1954",
         "orientation": "v",
         "showlegend": true,
         "type": "scatter",
         "x": [
          -0.8729471681824241
         ],
         "xaxis": "x",
         "y": [
          -0.6584333192365304
         ],
         "yaxis": "y"
        },
        {
         "customdata": [
          [
           130,
           "T46",
           130
          ]
         ],
         "hovertemplate": "label=%{customdata[1]}<br>embed1=%{x}<br>embed2=%{y}<br>id=%{customdata[0]}<br>label_id=%{customdata[2]}<extra></extra>",
         "legendgroup": "T46",
         "marker": {
          "color": "#636efa",
          "symbol": "circle"
         },
         "mode": "markers",
         "name": "T46",
         "orientation": "v",
         "showlegend": true,
         "type": "scatter",
         "x": [
          2.300394184092395
         ],
         "xaxis": "x",
         "y": [
          1.7366785143841528
         ],
         "yaxis": "y"
        },
        {
         "customdata": [
          [
           131,
           "U5443",
           131
          ]
         ],
         "hovertemplate": "label=%{customdata[1]}<br>embed1=%{x}<br>embed2=%{y}<br>id=%{customdata[0]}<br>label_id=%{customdata[2]}<extra></extra>",
         "legendgroup": "U5443",
         "marker": {
          "color": "#EF553B",
          "symbol": "circle"
         },
         "mode": "markers",
         "name": "U5443",
         "orientation": "v",
         "showlegend": true,
         "type": "scatter",
         "x": [
          -0.8729361753967819
         ],
         "xaxis": "x",
         "y": [
          -0.6584237153841678
         ],
         "yaxis": "y"
        },
        {
         "customdata": [
          [
           132,
           "U2308",
           132
          ]
         ],
         "hovertemplate": "label=%{customdata[1]}<br>embed1=%{x}<br>embed2=%{y}<br>id=%{customdata[0]}<br>label_id=%{customdata[2]}<extra></extra>",
         "legendgroup": "U2308",
         "marker": {
          "color": "#00cc96",
          "symbol": "circle"
         },
         "mode": "markers",
         "name": "U2308",
         "orientation": "v",
         "showlegend": true,
         "type": "scatter",
         "x": [
          -0.872945750019846
         ],
         "xaxis": "x",
         "y": [
          -0.6584303243438673
         ],
         "yaxis": "y"
        },
        {
         "customdata": [
          [
           133,
           "U996",
           133
          ]
         ],
         "hovertemplate": "label=%{customdata[1]}<br>embed1=%{x}<br>embed2=%{y}<br>id=%{customdata[0]}<br>label_id=%{customdata[2]}<extra></extra>",
         "legendgroup": "U996",
         "marker": {
          "color": "#ab63fa",
          "symbol": "circle"
         },
         "mode": "markers",
         "name": "U996",
         "orientation": "v",
         "showlegend": true,
         "type": "scatter",
         "x": [
          -0.872849925854347
         ],
         "xaxis": "x",
         "y": [
          -0.6582984614254589
         ],
         "yaxis": "y"
        },
        {
         "customdata": [
          [
           134,
           "U5140",
           134
          ]
         ],
         "hovertemplate": "label=%{customdata[1]}<br>embed1=%{x}<br>embed2=%{y}<br>id=%{customdata[0]}<br>label_id=%{customdata[2]}<extra></extra>",
         "legendgroup": "U5140",
         "marker": {
          "color": "#FFA15A",
          "symbol": "circle"
         },
         "mode": "markers",
         "name": "U5140",
         "orientation": "v",
         "showlegend": true,
         "type": "scatter",
         "x": [
          -0.8729331874679798
         ],
         "xaxis": "x",
         "y": [
          -0.6584191026179677
         ],
         "yaxis": "y"
        },
        {
         "customdata": [
          [
           135,
           "T29",
           135
          ]
         ],
         "hovertemplate": "label=%{customdata[1]}<br>embed1=%{x}<br>embed2=%{y}<br>id=%{customdata[0]}<br>label_id=%{customdata[2]}<extra></extra>",
         "legendgroup": "T29",
         "marker": {
          "color": "#19d3f3",
          "symbol": "circle"
         },
         "mode": "markers",
         "name": "T29",
         "orientation": "v",
         "showlegend": true,
         "type": "scatter",
         "x": [
          2.3003828364480365
         ],
         "xaxis": "x",
         "y": [
          1.7366934828031426
         ],
         "yaxis": "y"
        },
        {
         "customdata": [
          [
           136,
           "U5715",
           136
          ]
         ],
         "hovertemplate": "label=%{customdata[1]}<br>embed1=%{x}<br>embed2=%{y}<br>id=%{customdata[0]}<br>label_id=%{customdata[2]}<extra></extra>",
         "legendgroup": "U5715",
         "marker": {
          "color": "#FF6692",
          "symbol": "circle"
         },
         "mode": "markers",
         "name": "U5715",
         "orientation": "v",
         "showlegend": true,
         "type": "scatter",
         "x": [
          -0.8729282299742639
         ],
         "xaxis": "x",
         "y": [
          -0.6584128879084438
         ],
         "yaxis": "y"
        },
        {
         "customdata": [
          [
           137,
           "U6054",
           137
          ]
         ],
         "hovertemplate": "label=%{customdata[1]}<br>embed1=%{x}<br>embed2=%{y}<br>id=%{customdata[0]}<br>label_id=%{customdata[2]}<extra></extra>",
         "legendgroup": "U6054",
         "marker": {
          "color": "#B6E880",
          "symbol": "circle"
         },
         "mode": "markers",
         "name": "U6054",
         "orientation": "v",
         "showlegend": true,
         "type": "scatter",
         "x": [
          -0.8729461076308352
         ],
         "xaxis": "x",
         "y": [
          -0.6584301209178942
         ],
         "yaxis": "y"
        },
        {
         "customdata": [
          [
           138,
           "U4846",
           138
          ]
         ],
         "hovertemplate": "label=%{customdata[1]}<br>embed1=%{x}<br>embed2=%{y}<br>id=%{customdata[0]}<br>label_id=%{customdata[2]}<extra></extra>",
         "legendgroup": "U4846",
         "marker": {
          "color": "#FF97FF",
          "symbol": "circle"
         },
         "mode": "markers",
         "name": "U4846",
         "orientation": "v",
         "showlegend": true,
         "type": "scatter",
         "x": [
          -0.8729477221442048
         ],
         "xaxis": "x",
         "y": [
          -0.6584335586997507
         ],
         "yaxis": "y"
        },
        {
         "customdata": [
          [
           139,
           "U4748",
           139
          ]
         ],
         "hovertemplate": "label=%{customdata[1]}<br>embed1=%{x}<br>embed2=%{y}<br>id=%{customdata[0]}<br>label_id=%{customdata[2]}<extra></extra>",
         "legendgroup": "U4748",
         "marker": {
          "color": "#FECB52",
          "symbol": "circle"
         },
         "mode": "markers",
         "name": "U4748",
         "orientation": "v",
         "showlegend": true,
         "type": "scatter",
         "x": [
          -0.8729248908344865
         ],
         "xaxis": "x",
         "y": [
          -0.6584094084670893
         ],
         "yaxis": "y"
        },
        {
         "customdata": [
          [
           140,
           "U1294",
           140
          ]
         ],
         "hovertemplate": "label=%{customdata[1]}<br>embed1=%{x}<br>embed2=%{y}<br>id=%{customdata[0]}<br>label_id=%{customdata[2]}<extra></extra>",
         "legendgroup": "U1294",
         "marker": {
          "color": "#636efa",
          "symbol": "circle"
         },
         "mode": "markers",
         "name": "U1294",
         "orientation": "v",
         "showlegend": true,
         "type": "scatter",
         "x": [
          -0.872866597503887
         ],
         "xaxis": "x",
         "y": [
          -0.6583767722171324
         ],
         "yaxis": "y"
        },
        {
         "customdata": [
          [
           141,
           "U1948",
           141
          ]
         ],
         "hovertemplate": "label=%{customdata[1]}<br>embed1=%{x}<br>embed2=%{y}<br>id=%{customdata[0]}<br>label_id=%{customdata[2]}<extra></extra>",
         "legendgroup": "U1948",
         "marker": {
          "color": "#EF553B",
          "symbol": "circle"
         },
         "mode": "markers",
         "name": "U1948",
         "orientation": "v",
         "showlegend": true,
         "type": "scatter",
         "x": [
          -0.8729443412371815
         ],
         "xaxis": "x",
         "y": [
          -0.6584285678998064
         ],
         "yaxis": "y"
        },
        {
         "customdata": [
          [
           142,
           "U1864",
           142
          ]
         ],
         "hovertemplate": "label=%{customdata[1]}<br>embed1=%{x}<br>embed2=%{y}<br>id=%{customdata[0]}<br>label_id=%{customdata[2]}<extra></extra>",
         "legendgroup": "U1864",
         "marker": {
          "color": "#00cc96",
          "symbol": "circle"
         },
         "mode": "markers",
         "name": "U1864",
         "orientation": "v",
         "showlegend": true,
         "type": "scatter",
         "x": [
          -0.8729391771459697
         ],
         "xaxis": "x",
         "y": [
          -0.6584245367043482
         ],
         "yaxis": "y"
        },
        {
         "customdata": [
          [
           143,
           "U5848",
           143
          ]
         ],
         "hovertemplate": "label=%{customdata[1]}<br>embed1=%{x}<br>embed2=%{y}<br>id=%{customdata[0]}<br>label_id=%{customdata[2]}<extra></extra>",
         "legendgroup": "U5848",
         "marker": {
          "color": "#ab63fa",
          "symbol": "circle"
         },
         "mode": "markers",
         "name": "U5848",
         "orientation": "v",
         "showlegend": true,
         "type": "scatter",
         "x": [
          -0.8729344001898569
         ],
         "xaxis": "x",
         "y": [
          -0.6584190151720252
         ],
         "yaxis": "y"
        },
        {
         "customdata": [
          [
           144,
           "U2682",
           144
          ]
         ],
         "hovertemplate": "label=%{customdata[1]}<br>embed1=%{x}<br>embed2=%{y}<br>id=%{customdata[0]}<br>label_id=%{customdata[2]}<extra></extra>",
         "legendgroup": "U2682",
         "marker": {
          "color": "#FFA15A",
          "symbol": "circle"
         },
         "mode": "markers",
         "name": "U2682",
         "orientation": "v",
         "showlegend": true,
         "type": "scatter",
         "x": [
          -0.8726524699260128
         ],
         "xaxis": "x",
         "y": [
          -0.6581217020433023
         ],
         "yaxis": "y"
        },
        {
         "customdata": [
          [
           145,
           "U691",
           145
          ]
         ],
         "hovertemplate": "label=%{customdata[1]}<br>embed1=%{x}<br>embed2=%{y}<br>id=%{customdata[0]}<br>label_id=%{customdata[2]}<extra></extra>",
         "legendgroup": "U691",
         "marker": {
          "color": "#19d3f3",
          "symbol": "circle"
         },
         "mode": "markers",
         "name": "U691",
         "orientation": "v",
         "showlegend": true,
         "type": "scatter",
         "x": [
          -0.8729495914152162
         ],
         "xaxis": "x",
         "y": [
          -0.6584340694174188
         ],
         "yaxis": "y"
        },
        {
         "customdata": [
          [
           146,
           "U4212",
           146
          ]
         ],
         "hovertemplate": "label=%{customdata[1]}<br>embed1=%{x}<br>embed2=%{y}<br>id=%{customdata[0]}<br>label_id=%{customdata[2]}<extra></extra>",
         "legendgroup": "U4212",
         "marker": {
          "color": "#FF6692",
          "symbol": "circle"
         },
         "mode": "markers",
         "name": "U4212",
         "orientation": "v",
         "showlegend": true,
         "type": "scatter",
         "x": [
          -0.8729277973471987
         ],
         "xaxis": "x",
         "y": [
          -0.6584176867095105
         ],
         "yaxis": "y"
        },
        {
         "customdata": [
          [
           147,
           "U3012",
           147
          ]
         ],
         "hovertemplate": "label=%{customdata[1]}<br>embed1=%{x}<br>embed2=%{y}<br>id=%{customdata[0]}<br>label_id=%{customdata[2]}<extra></extra>",
         "legendgroup": "U3012",
         "marker": {
          "color": "#B6E880",
          "symbol": "circle"
         },
         "mode": "markers",
         "name": "U3012",
         "orientation": "v",
         "showlegend": true,
         "type": "scatter",
         "x": [
          -0.8720039410008313
         ],
         "xaxis": "x",
         "y": [
          -0.6581270245457076
         ],
         "yaxis": "y"
        },
        {
         "customdata": [
          [
           148,
           "T50",
           148
          ]
         ],
         "hovertemplate": "label=%{customdata[1]}<br>embed1=%{x}<br>embed2=%{y}<br>id=%{customdata[0]}<br>label_id=%{customdata[2]}<extra></extra>",
         "legendgroup": "T50",
         "marker": {
          "color": "#FF97FF",
          "symbol": "circle"
         },
         "mode": "markers",
         "name": "T50",
         "orientation": "v",
         "showlegend": true,
         "type": "scatter",
         "x": [
          2.3218174040432467
         ],
         "xaxis": "x",
         "y": [
          1.7079313558380989
         ],
         "yaxis": "y"
        },
        {
         "customdata": [
          [
           149,
           "U763",
           149
          ]
         ],
         "hovertemplate": "label=%{customdata[1]}<br>embed1=%{x}<br>embed2=%{y}<br>id=%{customdata[0]}<br>label_id=%{customdata[2]}<extra></extra>",
         "legendgroup": "U763",
         "marker": {
          "color": "#FECB52",
          "symbol": "circle"
         },
         "mode": "markers",
         "name": "U763",
         "orientation": "v",
         "showlegend": true,
         "type": "scatter",
         "x": [
          -0.8729497673740155
         ],
         "xaxis": "x",
         "y": [
          -0.6584332613546628
         ],
         "yaxis": "y"
        },
        {
         "customdata": [
          [
           150,
           "U2040",
           150
          ]
         ],
         "hovertemplate": "label=%{customdata[1]}<br>embed1=%{x}<br>embed2=%{y}<br>id=%{customdata[0]}<br>label_id=%{customdata[2]}<extra></extra>",
         "legendgroup": "U2040",
         "marker": {
          "color": "#636efa",
          "symbol": "circle"
         },
         "mode": "markers",
         "name": "U2040",
         "orientation": "v",
         "showlegend": true,
         "type": "scatter",
         "x": [
          -0.8722631038995629
         ],
         "xaxis": "x",
         "y": [
          -0.6574853530912758
         ],
         "yaxis": "y"
        },
        {
         "customdata": [
          [
           151,
           "U6053",
           151
          ]
         ],
         "hovertemplate": "label=%{customdata[1]}<br>embed1=%{x}<br>embed2=%{y}<br>id=%{customdata[0]}<br>label_id=%{customdata[2]}<extra></extra>",
         "legendgroup": "U6053",
         "marker": {
          "color": "#EF553B",
          "symbol": "circle"
         },
         "mode": "markers",
         "name": "U6053",
         "orientation": "v",
         "showlegend": true,
         "type": "scatter",
         "x": [
          -0.8729461580292684
         ],
         "xaxis": "x",
         "y": [
          -0.6584308746341091
         ],
         "yaxis": "y"
        },
        {
         "customdata": [
          [
           152,
           "U1058",
           152
          ]
         ],
         "hovertemplate": "label=%{customdata[1]}<br>embed1=%{x}<br>embed2=%{y}<br>id=%{customdata[0]}<br>label_id=%{customdata[2]}<extra></extra>",
         "legendgroup": "U1058",
         "marker": {
          "color": "#00cc96",
          "symbol": "circle"
         },
         "mode": "markers",
         "name": "U1058",
         "orientation": "v",
         "showlegend": true,
         "type": "scatter",
         "x": [
          -0.8722625935581744
         ],
         "xaxis": "x",
         "y": [
          -0.6582148616847969
         ],
         "yaxis": "y"
        },
        {
         "customdata": [
          [
           153,
           "U4585",
           153
          ]
         ],
         "hovertemplate": "label=%{customdata[1]}<br>embed1=%{x}<br>embed2=%{y}<br>id=%{customdata[0]}<br>label_id=%{customdata[2]}<extra></extra>",
         "legendgroup": "U4585",
         "marker": {
          "color": "#ab63fa",
          "symbol": "circle"
         },
         "mode": "markers",
         "name": "U4585",
         "orientation": "v",
         "showlegend": true,
         "type": "scatter",
         "x": [
          -0.872892921483263
         ],
         "xaxis": "x",
         "y": [
          -0.6583779396852757
         ],
         "yaxis": "y"
        },
        {
         "customdata": [
          [
           154,
           "U4000",
           154
          ]
         ],
         "hovertemplate": "label=%{customdata[1]}<br>embed1=%{x}<br>embed2=%{y}<br>id=%{customdata[0]}<br>label_id=%{customdata[2]}<extra></extra>",
         "legendgroup": "U4000",
         "marker": {
          "color": "#FFA15A",
          "symbol": "circle"
         },
         "mode": "markers",
         "name": "U4000",
         "orientation": "v",
         "showlegend": true,
         "type": "scatter",
         "x": [
          -0.8729317324676642
         ],
         "xaxis": "x",
         "y": [
          -0.6584200774085768
         ],
         "yaxis": "y"
        },
        {
         "customdata": [
          [
           155,
           "U1231",
           155
          ]
         ],
         "hovertemplate": "label=%{customdata[1]}<br>embed1=%{x}<br>embed2=%{y}<br>id=%{customdata[0]}<br>label_id=%{customdata[2]}<extra></extra>",
         "legendgroup": "U1231",
         "marker": {
          "color": "#19d3f3",
          "symbol": "circle"
         },
         "mode": "markers",
         "name": "U1231",
         "orientation": "v",
         "showlegend": true,
         "type": "scatter",
         "x": [
          -0.8728835826924857
         ],
         "xaxis": "x",
         "y": [
          -0.6583782410886633
         ],
         "yaxis": "y"
        },
        {
         "customdata": [
          [
           156,
           "U969",
           156
          ]
         ],
         "hovertemplate": "label=%{customdata[1]}<br>embed1=%{x}<br>embed2=%{y}<br>id=%{customdata[0]}<br>label_id=%{customdata[2]}<extra></extra>",
         "legendgroup": "U969",
         "marker": {
          "color": "#FF6692",
          "symbol": "circle"
         },
         "mode": "markers",
         "name": "U969",
         "orientation": "v",
         "showlegend": true,
         "type": "scatter",
         "x": [
          -0.8729308240573472
         ],
         "xaxis": "x",
         "y": [
          -0.6584182743195526
         ],
         "yaxis": "y"
        },
        {
         "customdata": [
          [
           157,
           "U5981",
           157
          ]
         ],
         "hovertemplate": "label=%{customdata[1]}<br>embed1=%{x}<br>embed2=%{y}<br>id=%{customdata[0]}<br>label_id=%{customdata[2]}<extra></extra>",
         "legendgroup": "U5981",
         "marker": {
          "color": "#B6E880",
          "symbol": "circle"
         },
         "mode": "markers",
         "name": "U5981",
         "orientation": "v",
         "showlegend": true,
         "type": "scatter",
         "x": [
          -0.8728959952370446
         ],
         "xaxis": "x",
         "y": [
          -0.6583841037673231
         ],
         "yaxis": "y"
        },
        {
         "customdata": [
          [
           158,
           "U3826",
           158
          ]
         ],
         "hovertemplate": "label=%{customdata[1]}<br>embed1=%{x}<br>embed2=%{y}<br>id=%{customdata[0]}<br>label_id=%{customdata[2]}<extra></extra>",
         "legendgroup": "U3826",
         "marker": {
          "color": "#FF97FF",
          "symbol": "circle"
         },
         "mode": "markers",
         "name": "U3826",
         "orientation": "v",
         "showlegend": true,
         "type": "scatter",
         "x": [
          -0.8729035616668788
         ],
         "xaxis": "x",
         "y": [
          -0.6583868212078147
         ],
         "yaxis": "y"
        },
        {
         "customdata": [
          [
           159,
           "U2320",
           159
          ]
         ],
         "hovertemplate": "label=%{customdata[1]}<br>embed1=%{x}<br>embed2=%{y}<br>id=%{customdata[0]}<br>label_id=%{customdata[2]}<extra></extra>",
         "legendgroup": "U2320",
         "marker": {
          "color": "#FECB52",
          "symbol": "circle"
         },
         "mode": "markers",
         "name": "U2320",
         "orientation": "v",
         "showlegend": true,
         "type": "scatter",
         "x": [
          -0.8725064552959684
         ],
         "xaxis": "x",
         "y": [
          -0.6580030181073272
         ],
         "yaxis": "y"
        },
        {
         "customdata": [
          [
           160,
           "U5887",
           160
          ]
         ],
         "hovertemplate": "label=%{customdata[1]}<br>embed1=%{x}<br>embed2=%{y}<br>id=%{customdata[0]}<br>label_id=%{customdata[2]}<extra></extra>",
         "legendgroup": "U5887",
         "marker": {
          "color": "#636efa",
          "symbol": "circle"
         },
         "mode": "markers",
         "name": "U5887",
         "orientation": "v",
         "showlegend": true,
         "type": "scatter",
         "x": [
          -0.8729411655901244
         ],
         "xaxis": "x",
         "y": [
          -0.6584258387835671
         ],
         "yaxis": "y"
        },
        {
         "customdata": [
          [
           161,
           "U6037",
           161
          ]
         ],
         "hovertemplate": "label=%{customdata[1]}<br>embed1=%{x}<br>embed2=%{y}<br>id=%{customdata[0]}<br>label_id=%{customdata[2]}<extra></extra>",
         "legendgroup": "U6037",
         "marker": {
          "color": "#EF553B",
          "symbol": "circle"
         },
         "mode": "markers",
         "name": "U6037",
         "orientation": "v",
         "showlegend": true,
         "type": "scatter",
         "x": [
          -0.8729381502819219
         ],
         "xaxis": "x",
         "y": [
          -0.65842421579817
         ],
         "yaxis": "y"
        },
        {
         "customdata": [
          [
           162,
           "U2581",
           162
          ]
         ],
         "hovertemplate": "label=%{customdata[1]}<br>embed1=%{x}<br>embed2=%{y}<br>id=%{customdata[0]}<br>label_id=%{customdata[2]}<extra></extra>",
         "legendgroup": "U2581",
         "marker": {
          "color": "#00cc96",
          "symbol": "circle"
         },
         "mode": "markers",
         "name": "U2581",
         "orientation": "v",
         "showlegend": true,
         "type": "scatter",
         "x": [
          -0.8727669445704261
         ],
         "xaxis": "x",
         "y": [
          -0.6583221142104907
         ],
         "yaxis": "y"
        },
        {
         "customdata": [
          [
           163,
           "U5498",
           163
          ]
         ],
         "hovertemplate": "label=%{customdata[1]}<br>embed1=%{x}<br>embed2=%{y}<br>id=%{customdata[0]}<br>label_id=%{customdata[2]}<extra></extra>",
         "legendgroup": "U5498",
         "marker": {
          "color": "#ab63fa",
          "symbol": "circle"
         },
         "mode": "markers",
         "name": "U5498",
         "orientation": "v",
         "showlegend": true,
         "type": "scatter",
         "x": [
          -0.8729355937922936
         ],
         "xaxis": "x",
         "y": [
          -0.6584206616175938
         ],
         "yaxis": "y"
        },
        {
         "customdata": [
          [
           164,
           "U3215",
           164
          ]
         ],
         "hovertemplate": "label=%{customdata[1]}<br>embed1=%{x}<br>embed2=%{y}<br>id=%{customdata[0]}<br>label_id=%{customdata[2]}<extra></extra>",
         "legendgroup": "U3215",
         "marker": {
          "color": "#FFA15A",
          "symbol": "circle"
         },
         "mode": "markers",
         "name": "U3215",
         "orientation": "v",
         "showlegend": true,
         "type": "scatter",
         "x": [
          -0.872860839326557
         ],
         "xaxis": "x",
         "y": [
          -0.6583248063801791
         ],
         "yaxis": "y"
        },
        {
         "customdata": [
          [
           165,
           "T55",
           165
          ]
         ],
         "hovertemplate": "label=%{customdata[1]}<br>embed1=%{x}<br>embed2=%{y}<br>id=%{customdata[0]}<br>label_id=%{customdata[2]}<extra></extra>",
         "legendgroup": "T55",
         "marker": {
          "color": "#19d3f3",
          "symbol": "circle"
         },
         "mode": "markers",
         "name": "T55",
         "orientation": "v",
         "showlegend": true,
         "type": "scatter",
         "x": [
          2.2984022735185796
         ],
         "xaxis": "x",
         "y": [
          1.7393137740931905
         ],
         "yaxis": "y"
        },
        {
         "customdata": [
          [
           166,
           "U6050",
           166
          ]
         ],
         "hovertemplate": "label=%{customdata[1]}<br>embed1=%{x}<br>embed2=%{y}<br>id=%{customdata[0]}<br>label_id=%{customdata[2]}<extra></extra>",
         "legendgroup": "U6050",
         "marker": {
          "color": "#FF6692",
          "symbol": "circle"
         },
         "mode": "markers",
         "name": "U6050",
         "orientation": "v",
         "showlegend": true,
         "type": "scatter",
         "x": [
          -0.8729310313404479
         ],
         "xaxis": "x",
         "y": [
          -0.6584193865591331
         ],
         "yaxis": "y"
        },
        {
         "customdata": [
          [
           167,
           "T13",
           167
          ]
         ],
         "hovertemplate": "label=%{customdata[1]}<br>embed1=%{x}<br>embed2=%{y}<br>id=%{customdata[0]}<br>label_id=%{customdata[2]}<extra></extra>",
         "legendgroup": "T13",
         "marker": {
          "color": "#B6E880",
          "symbol": "circle"
         },
         "mode": "markers",
         "name": "T13",
         "orientation": "v",
         "showlegend": true,
         "type": "scatter",
         "x": [
          2.297528556095594
         ],
         "xaxis": "x",
         "y": [
          1.7404678550328598
         ],
         "yaxis": "y"
        },
        {
         "customdata": [
          [
           168,
           "U1950",
           168
          ]
         ],
         "hovertemplate": "label=%{customdata[1]}<br>embed1=%{x}<br>embed2=%{y}<br>id=%{customdata[0]}<br>label_id=%{customdata[2]}<extra></extra>",
         "legendgroup": "U1950",
         "marker": {
          "color": "#FF97FF",
          "symbol": "circle"
         },
         "mode": "markers",
         "name": "U1950",
         "orientation": "v",
         "showlegend": true,
         "type": "scatter",
         "x": [
          -0.8729338522795459
         ],
         "xaxis": "x",
         "y": [
          -0.6584197791831479
         ],
         "yaxis": "y"
        },
        {
         "customdata": [
          [
           169,
           "U509",
           169
          ]
         ],
         "hovertemplate": "label=%{customdata[1]}<br>embed1=%{x}<br>embed2=%{y}<br>id=%{customdata[0]}<br>label_id=%{customdata[2]}<extra></extra>",
         "legendgroup": "U509",
         "marker": {
          "color": "#FECB52",
          "symbol": "circle"
         },
         "mode": "markers",
         "name": "U509",
         "orientation": "v",
         "showlegend": true,
         "type": "scatter",
         "x": [
          -0.8729329141478832
         ],
         "xaxis": "x",
         "y": [
          -0.6584222770731143
         ],
         "yaxis": "y"
        },
        {
         "customdata": [
          [
           170,
           "U2437",
           170
          ]
         ],
         "hovertemplate": "label=%{customdata[1]}<br>embed1=%{x}<br>embed2=%{y}<br>id=%{customdata[0]}<br>label_id=%{customdata[2]}<extra></extra>",
         "legendgroup": "U2437",
         "marker": {
          "color": "#636efa",
          "symbol": "circle"
         },
         "mode": "markers",
         "name": "U2437",
         "orientation": "v",
         "showlegend": true,
         "type": "scatter",
         "x": [
          -0.8723229486146667
         ],
         "xaxis": "x",
         "y": [
          -0.6571999906056266
         ],
         "yaxis": "y"
        },
        {
         "customdata": [
          [
           171,
           "T44",
           171
          ]
         ],
         "hovertemplate": "label=%{customdata[1]}<br>embed1=%{x}<br>embed2=%{y}<br>id=%{customdata[0]}<br>label_id=%{customdata[2]}<extra></extra>",
         "legendgroup": "T44",
         "marker": {
          "color": "#EF553B",
          "symbol": "circle"
         },
         "mode": "markers",
         "name": "T44",
         "orientation": "v",
         "showlegend": true,
         "type": "scatter",
         "x": [
          2.3011338919351814
         ],
         "xaxis": "x",
         "y": [
          1.7356982228176758
         ],
         "yaxis": "y"
        },
        {
         "customdata": [
          [
           172,
           "U3155",
           172
          ]
         ],
         "hovertemplate": "label=%{customdata[1]}<br>embed1=%{x}<br>embed2=%{y}<br>id=%{customdata[0]}<br>label_id=%{customdata[2]}<extra></extra>",
         "legendgroup": "U3155",
         "marker": {
          "color": "#00cc96",
          "symbol": "circle"
         },
         "mode": "markers",
         "name": "U3155",
         "orientation": "v",
         "showlegend": true,
         "type": "scatter",
         "x": [
          -0.8728985049609003
         ],
         "xaxis": "x",
         "y": [
          -0.658391981505702
         ],
         "yaxis": "y"
        },
        {
         "customdata": [
          [
           173,
           "U456",
           173
          ]
         ],
         "hovertemplate": "label=%{customdata[1]}<br>embed1=%{x}<br>embed2=%{y}<br>id=%{customdata[0]}<br>label_id=%{customdata[2]}<extra></extra>",
         "legendgroup": "U456",
         "marker": {
          "color": "#ab63fa",
          "symbol": "circle"
         },
         "mode": "markers",
         "name": "U456",
         "orientation": "v",
         "showlegend": true,
         "type": "scatter",
         "x": [
          -0.8729498415928658
         ],
         "xaxis": "x",
         "y": [
          -0.6584349956465038
         ],
         "yaxis": "y"
        },
        {
         "customdata": [
          [
           174,
           "T52",
           174
          ]
         ],
         "hovertemplate": "label=%{customdata[1]}<br>embed1=%{x}<br>embed2=%{y}<br>id=%{customdata[0]}<br>label_id=%{customdata[2]}<extra></extra>",
         "legendgroup": "T52",
         "marker": {
          "color": "#FFA15A",
          "symbol": "circle"
         },
         "mode": "markers",
         "name": "T52",
         "orientation": "v",
         "showlegend": true,
         "type": "scatter",
         "x": [
          2.3022997356026123
         ],
         "xaxis": "x",
         "y": [
          1.7341514406039935
         ],
         "yaxis": "y"
        },
        {
         "customdata": [
          [
           175,
           "U4316",
           175
          ]
         ],
         "hovertemplate": "label=%{customdata[1]}<br>embed1=%{x}<br>embed2=%{y}<br>id=%{customdata[0]}<br>label_id=%{customdata[2]}<extra></extra>",
         "legendgroup": "U4316",
         "marker": {
          "color": "#19d3f3",
          "symbol": "circle"
         },
         "mode": "markers",
         "name": "U4316",
         "orientation": "v",
         "showlegend": true,
         "type": "scatter",
         "x": [
          -0.8729333425712591
         ],
         "xaxis": "x",
         "y": [
          -0.6584199812069153
         ],
         "yaxis": "y"
        },
        {
         "customdata": [
          [
           176,
           "U1782",
           176
          ]
         ],
         "hovertemplate": "label=%{customdata[1]}<br>embed1=%{x}<br>embed2=%{y}<br>id=%{customdata[0]}<br>label_id=%{customdata[2]}<extra></extra>",
         "legendgroup": "U1782",
         "marker": {
          "color": "#FF6692",
          "symbol": "circle"
         },
         "mode": "markers",
         "name": "U1782",
         "orientation": "v",
         "showlegend": true,
         "type": "scatter",
         "x": [
          -0.8728233720048266
         ],
         "xaxis": "x",
         "y": [
          -0.6583408046044051
         ],
         "yaxis": "y"
        },
        {
         "customdata": [
          [
           177,
           "U5812",
           177
          ]
         ],
         "hovertemplate": "label=%{customdata[1]}<br>embed1=%{x}<br>embed2=%{y}<br>id=%{customdata[0]}<br>label_id=%{customdata[2]}<extra></extra>",
         "legendgroup": "U5812",
         "marker": {
          "color": "#B6E880",
          "symbol": "circle"
         },
         "mode": "markers",
         "name": "U5812",
         "orientation": "v",
         "showlegend": true,
         "type": "scatter",
         "x": [
          -0.872925012415183
         ],
         "xaxis": "x",
         "y": [
          -0.6584108711262926
         ],
         "yaxis": "y"
        },
        {
         "customdata": [
          [
           178,
           "U6034",
           178
          ]
         ],
         "hovertemplate": "label=%{customdata[1]}<br>embed1=%{x}<br>embed2=%{y}<br>id=%{customdata[0]}<br>label_id=%{customdata[2]}<extra></extra>",
         "legendgroup": "U6034",
         "marker": {
          "color": "#FF97FF",
          "symbol": "circle"
         },
         "mode": "markers",
         "name": "U6034",
         "orientation": "v",
         "showlegend": true,
         "type": "scatter",
         "x": [
          -0.8729433526355329
         ],
         "xaxis": "x",
         "y": [
          -0.6584306216283722
         ],
         "yaxis": "y"
        },
        {
         "customdata": [
          [
           179,
           "U4359",
           179
          ]
         ],
         "hovertemplate": "label=%{customdata[1]}<br>embed1=%{x}<br>embed2=%{y}<br>id=%{customdata[0]}<br>label_id=%{customdata[2]}<extra></extra>",
         "legendgroup": "U4359",
         "marker": {
          "color": "#FECB52",
          "symbol": "circle"
         },
         "mode": "markers",
         "name": "U4359",
         "orientation": "v",
         "showlegend": true,
         "type": "scatter",
         "x": [
          -0.8729519022315827
         ],
         "xaxis": "x",
         "y": [
          -0.6584340976921861
         ],
         "yaxis": "y"
        },
        {
         "customdata": [
          [
           180,
           "U2185",
           180
          ]
         ],
         "hovertemplate": "label=%{customdata[1]}<br>embed1=%{x}<br>embed2=%{y}<br>id=%{customdata[0]}<br>label_id=%{customdata[2]}<extra></extra>",
         "legendgroup": "U2185",
         "marker": {
          "color": "#636efa",
          "symbol": "circle"
         },
         "mode": "markers",
         "name": "U2185",
         "orientation": "v",
         "showlegend": true,
         "type": "scatter",
         "x": [
          -0.8725317232471008
         ],
         "xaxis": "x",
         "y": [
          -0.6582310436675146
         ],
         "yaxis": "y"
        },
        {
         "customdata": [
          [
           181,
           "U94",
           181
          ]
         ],
         "hovertemplate": "label=%{customdata[1]}<br>embed1=%{x}<br>embed2=%{y}<br>id=%{customdata[0]}<br>label_id=%{customdata[2]}<extra></extra>",
         "legendgroup": "U94",
         "marker": {
          "color": "#EF553B",
          "symbol": "circle"
         },
         "mode": "markers",
         "name": "U94",
         "orientation": "v",
         "showlegend": true,
         "type": "scatter",
         "x": [
          -0.8723857263695015
         ],
         "xaxis": "x",
         "y": [
          -0.6582267071046508
         ],
         "yaxis": "y"
        },
        {
         "customdata": [
          [
           182,
           "U5911",
           182
          ]
         ],
         "hovertemplate": "label=%{customdata[1]}<br>embed1=%{x}<br>embed2=%{y}<br>id=%{customdata[0]}<br>label_id=%{customdata[2]}<extra></extra>",
         "legendgroup": "U5911",
         "marker": {
          "color": "#00cc96",
          "symbol": "circle"
         },
         "mode": "markers",
         "name": "U5911",
         "orientation": "v",
         "showlegend": true,
         "type": "scatter",
         "x": [
          -0.8729286474908902
         ],
         "xaxis": "x",
         "y": [
          -0.6584145565172446
         ],
         "yaxis": "y"
        },
        {
         "customdata": [
          [
           183,
           "U1591",
           183
          ]
         ],
         "hovertemplate": "label=%{customdata[1]}<br>embed1=%{x}<br>embed2=%{y}<br>id=%{customdata[0]}<br>label_id=%{customdata[2]}<extra></extra>",
         "legendgroup": "U1591",
         "marker": {
          "color": "#ab63fa",
          "symbol": "circle"
         },
         "mode": "markers",
         "name": "U1591",
         "orientation": "v",
         "showlegend": true,
         "type": "scatter",
         "x": [
          -0.8729077373247246
         ],
         "xaxis": "x",
         "y": [
          -0.6583890425811062
         ],
         "yaxis": "y"
        },
        {
         "customdata": [
          [
           184,
           "U5594",
           184
          ]
         ],
         "hovertemplate": "label=%{customdata[1]}<br>embed1=%{x}<br>embed2=%{y}<br>id=%{customdata[0]}<br>label_id=%{customdata[2]}<extra></extra>",
         "legendgroup": "U5594",
         "marker": {
          "color": "#FFA15A",
          "symbol": "circle"
         },
         "mode": "markers",
         "name": "U5594",
         "orientation": "v",
         "showlegend": true,
         "type": "scatter",
         "x": [
          -0.8729285341639763
         ],
         "xaxis": "x",
         "y": [
          -0.6584170265165317
         ],
         "yaxis": "y"
        },
        {
         "customdata": [
          [
           185,
           "U1940",
           185
          ]
         ],
         "hovertemplate": "label=%{customdata[1]}<br>embed1=%{x}<br>embed2=%{y}<br>id=%{customdata[0]}<br>label_id=%{customdata[2]}<extra></extra>",
         "legendgroup": "U1940",
         "marker": {
          "color": "#19d3f3",
          "symbol": "circle"
         },
         "mode": "markers",
         "name": "U1940",
         "orientation": "v",
         "showlegend": true,
         "type": "scatter",
         "x": [
          -0.8729330949074815
         ],
         "xaxis": "x",
         "y": [
          -0.6584192050879003
         ],
         "yaxis": "y"
        },
        {
         "customdata": [
          [
           186,
           "U2394",
           186
          ]
         ],
         "hovertemplate": "label=%{customdata[1]}<br>embed1=%{x}<br>embed2=%{y}<br>id=%{customdata[0]}<br>label_id=%{customdata[2]}<extra></extra>",
         "legendgroup": "U2394",
         "marker": {
          "color": "#FF6692",
          "symbol": "circle"
         },
         "mode": "markers",
         "name": "U2394",
         "orientation": "v",
         "showlegend": true,
         "type": "scatter",
         "x": [
          -0.8729368587909597
         ],
         "xaxis": "x",
         "y": [
          -0.6584227897348752
         ],
         "yaxis": "y"
        },
        {
         "customdata": [
          [
           187,
           "U2130",
           187
          ]
         ],
         "hovertemplate": "label=%{customdata[1]}<br>embed1=%{x}<br>embed2=%{y}<br>id=%{customdata[0]}<br>label_id=%{customdata[2]}<extra></extra>",
         "legendgroup": "U2130",
         "marker": {
          "color": "#B6E880",
          "symbol": "circle"
         },
         "mode": "markers",
         "name": "U2130",
         "orientation": "v",
         "showlegend": true,
         "type": "scatter",
         "x": [
          -0.8729299453962209
         ],
         "xaxis": "x",
         "y": [
          -0.6584185114062966
         ],
         "yaxis": "y"
        },
        {
         "customdata": [
          [
           188,
           "U6068",
           188
          ]
         ],
         "hovertemplate": "label=%{customdata[1]}<br>embed1=%{x}<br>embed2=%{y}<br>id=%{customdata[0]}<br>label_id=%{customdata[2]}<extra></extra>",
         "legendgroup": "U6068",
         "marker": {
          "color": "#FF97FF",
          "symbol": "circle"
         },
         "mode": "markers",
         "name": "U6068",
         "orientation": "v",
         "showlegend": true,
         "type": "scatter",
         "x": [
          -0.8729339497375982
         ],
         "xaxis": "x",
         "y": [
          -0.6584208006575297
         ],
         "yaxis": "y"
        },
        {
         "customdata": [
          [
           189,
           "U3615",
           189
          ]
         ],
         "hovertemplate": "label=%{customdata[1]}<br>embed1=%{x}<br>embed2=%{y}<br>id=%{customdata[0]}<br>label_id=%{customdata[2]}<extra></extra>",
         "legendgroup": "U3615",
         "marker": {
          "color": "#FECB52",
          "symbol": "circle"
         },
         "mode": "markers",
         "name": "U3615",
         "orientation": "v",
         "showlegend": true,
         "type": "scatter",
         "x": [
          -0.8729275924232833
         ],
         "xaxis": "x",
         "y": [
          -0.6584169031689079
         ],
         "yaxis": "y"
        },
        {
         "customdata": [
          [
           190,
           "U5154",
           190
          ]
         ],
         "hovertemplate": "label=%{customdata[1]}<br>embed1=%{x}<br>embed2=%{y}<br>id=%{customdata[0]}<br>label_id=%{customdata[2]}<extra></extra>",
         "legendgroup": "U5154",
         "marker": {
          "color": "#636efa",
          "symbol": "circle"
         },
         "mode": "markers",
         "name": "U5154",
         "orientation": "v",
         "showlegend": true,
         "type": "scatter",
         "x": [
          -0.8729433895056902
         ],
         "xaxis": "x",
         "y": [
          -0.6584284840624463
         ],
         "yaxis": "y"
        },
        {
         "customdata": [
          [
           191,
           "U3102",
           191
          ]
         ],
         "hovertemplate": "label=%{customdata[1]}<br>embed1=%{x}<br>embed2=%{y}<br>id=%{customdata[0]}<br>label_id=%{customdata[2]}<extra></extra>",
         "legendgroup": "U3102",
         "marker": {
          "color": "#EF553B",
          "symbol": "circle"
         },
         "mode": "markers",
         "name": "U3102",
         "orientation": "v",
         "showlegend": true,
         "type": "scatter",
         "x": [
          -0.8729518944604092
         ],
         "xaxis": "x",
         "y": [
          -0.6584337592586939
         ],
         "yaxis": "y"
        },
        {
         "customdata": [
          [
           192,
           "U6069",
           192
          ]
         ],
         "hovertemplate": "label=%{customdata[1]}<br>embed1=%{x}<br>embed2=%{y}<br>id=%{customdata[0]}<br>label_id=%{customdata[2]}<extra></extra>",
         "legendgroup": "U6069",
         "marker": {
          "color": "#00cc96",
          "symbol": "circle"
         },
         "mode": "markers",
         "name": "U6069",
         "orientation": "v",
         "showlegend": true,
         "type": "scatter",
         "x": [
          -0.8729367453780968
         ],
         "xaxis": "x",
         "y": [
          -0.6584232090586317
         ],
         "yaxis": "y"
        },
        {
         "customdata": [
          [
           193,
           "U3652",
           193
          ]
         ],
         "hovertemplate": "label=%{customdata[1]}<br>embed1=%{x}<br>embed2=%{y}<br>id=%{customdata[0]}<br>label_id=%{customdata[2]}<extra></extra>",
         "legendgroup": "U3652",
         "marker": {
          "color": "#ab63fa",
          "symbol": "circle"
         },
         "mode": "markers",
         "name": "U3652",
         "orientation": "v",
         "showlegend": true,
         "type": "scatter",
         "x": [
          -0.8723837609779744
         ],
         "xaxis": "x",
         "y": [
          -0.6580512398308818
         ],
         "yaxis": "y"
        },
        {
         "customdata": [
          [
           194,
           "U6070",
           194
          ]
         ],
         "hovertemplate": "label=%{customdata[1]}<br>embed1=%{x}<br>embed2=%{y}<br>id=%{customdata[0]}<br>label_id=%{customdata[2]}<extra></extra>",
         "legendgroup": "U6070",
         "marker": {
          "color": "#FFA15A",
          "symbol": "circle"
         },
         "mode": "markers",
         "name": "U6070",
         "orientation": "v",
         "showlegend": true,
         "type": "scatter",
         "x": [
          -0.8729474175269707
         ],
         "xaxis": "x",
         "y": [
          -0.6584333530876906
         ],
         "yaxis": "y"
        },
        {
         "customdata": [
          [
           195,
           "U2095",
           195
          ]
         ],
         "hovertemplate": "label=%{customdata[1]}<br>embed1=%{x}<br>embed2=%{y}<br>id=%{customdata[0]}<br>label_id=%{customdata[2]}<extra></extra>",
         "legendgroup": "U2095",
         "marker": {
          "color": "#19d3f3",
          "symbol": "circle"
         },
         "mode": "markers",
         "name": "U2095",
         "orientation": "v",
         "showlegend": true,
         "type": "scatter",
         "x": [
          -0.872947201317081
         ],
         "xaxis": "x",
         "y": [
          -0.6584329174508988
         ],
         "yaxis": "y"
        },
        {
         "customdata": [
          [
           196,
           "U131",
           196
          ]
         ],
         "hovertemplate": "label=%{customdata[1]}<br>embed1=%{x}<br>embed2=%{y}<br>id=%{customdata[0]}<br>label_id=%{customdata[2]}<extra></extra>",
         "legendgroup": "U131",
         "marker": {
          "color": "#FF6692",
          "symbol": "circle"
         },
         "mode": "markers",
         "name": "U131",
         "orientation": "v",
         "showlegend": true,
         "type": "scatter",
         "x": [
          -0.8729333231927665
         ],
         "xaxis": "x",
         "y": [
          -0.6584171301818182
         ],
         "yaxis": "y"
        },
        {
         "customdata": [
          [
           197,
           "U5929",
           197
          ]
         ],
         "hovertemplate": "label=%{customdata[1]}<br>embed1=%{x}<br>embed2=%{y}<br>id=%{customdata[0]}<br>label_id=%{customdata[2]}<extra></extra>",
         "legendgroup": "U5929",
         "marker": {
          "color": "#B6E880",
          "symbol": "circle"
         },
         "mode": "markers",
         "name": "U5929",
         "orientation": "v",
         "showlegend": true,
         "type": "scatter",
         "x": [
          -0.8729450746952844
         ],
         "xaxis": "x",
         "y": [
          -0.6584295296087572
         ],
         "yaxis": "y"
        },
        {
         "customdata": [
          [
           198,
           "U5394",
           198
          ]
         ],
         "hovertemplate": "label=%{customdata[1]}<br>embed1=%{x}<br>embed2=%{y}<br>id=%{customdata[0]}<br>label_id=%{customdata[2]}<extra></extra>",
         "legendgroup": "U5394",
         "marker": {
          "color": "#FF97FF",
          "symbol": "circle"
         },
         "mode": "markers",
         "name": "U5394",
         "orientation": "v",
         "showlegend": true,
         "type": "scatter",
         "x": [
          -0.8728377591303518
         ],
         "xaxis": "x",
         "y": [
          -0.6582826564025451
         ],
         "yaxis": "y"
        },
        {
         "customdata": [
          [
           199,
           "U2958",
           199
          ]
         ],
         "hovertemplate": "label=%{customdata[1]}<br>embed1=%{x}<br>embed2=%{y}<br>id=%{customdata[0]}<br>label_id=%{customdata[2]}<extra></extra>",
         "legendgroup": "U2958",
         "marker": {
          "color": "#FECB52",
          "symbol": "circle"
         },
         "mode": "markers",
         "name": "U2958",
         "orientation": "v",
         "showlegend": true,
         "type": "scatter",
         "x": [
          -0.8727922009961391
         ],
         "xaxis": "x",
         "y": [
          -0.6582288093210974
         ],
         "yaxis": "y"
        }
       ],
       "layout": {
        "legend": {
         "title": {
          "text": "label"
         },
         "tracegroupgap": 0
        },
        "margin": {
         "t": 60
        },
        "template": {
         "data": {
          "bar": [
           {
            "error_x": {
             "color": "#2a3f5f"
            },
            "error_y": {
             "color": "#2a3f5f"
            },
            "marker": {
             "line": {
              "color": "#E5ECF6",
              "width": 0.5
             },
             "pattern": {
              "fillmode": "overlay",
              "size": 10,
              "solidity": 0.2
             }
            },
            "type": "bar"
           }
          ],
          "barpolar": [
           {
            "marker": {
             "line": {
              "color": "#E5ECF6",
              "width": 0.5
             },
             "pattern": {
              "fillmode": "overlay",
              "size": 10,
              "solidity": 0.2
             }
            },
            "type": "barpolar"
           }
          ],
          "carpet": [
           {
            "aaxis": {
             "endlinecolor": "#2a3f5f",
             "gridcolor": "white",
             "linecolor": "white",
             "minorgridcolor": "white",
             "startlinecolor": "#2a3f5f"
            },
            "baxis": {
             "endlinecolor": "#2a3f5f",
             "gridcolor": "white",
             "linecolor": "white",
             "minorgridcolor": "white",
             "startlinecolor": "#2a3f5f"
            },
            "type": "carpet"
           }
          ],
          "choropleth": [
           {
            "colorbar": {
             "outlinewidth": 0,
             "ticks": ""
            },
            "type": "choropleth"
           }
          ],
          "contour": [
           {
            "colorbar": {
             "outlinewidth": 0,
             "ticks": ""
            },
            "colorscale": [
             [
              0,
              "#0d0887"
             ],
             [
              0.1111111111111111,
              "#46039f"
             ],
             [
              0.2222222222222222,
              "#7201a8"
             ],
             [
              0.3333333333333333,
              "#9c179e"
             ],
             [
              0.4444444444444444,
              "#bd3786"
             ],
             [
              0.5555555555555556,
              "#d8576b"
             ],
             [
              0.6666666666666666,
              "#ed7953"
             ],
             [
              0.7777777777777778,
              "#fb9f3a"
             ],
             [
              0.8888888888888888,
              "#fdca26"
             ],
             [
              1,
              "#f0f921"
             ]
            ],
            "type": "contour"
           }
          ],
          "contourcarpet": [
           {
            "colorbar": {
             "outlinewidth": 0,
             "ticks": ""
            },
            "type": "contourcarpet"
           }
          ],
          "heatmap": [
           {
            "colorbar": {
             "outlinewidth": 0,
             "ticks": ""
            },
            "colorscale": [
             [
              0,
              "#0d0887"
             ],
             [
              0.1111111111111111,
              "#46039f"
             ],
             [
              0.2222222222222222,
              "#7201a8"
             ],
             [
              0.3333333333333333,
              "#9c179e"
             ],
             [
              0.4444444444444444,
              "#bd3786"
             ],
             [
              0.5555555555555556,
              "#d8576b"
             ],
             [
              0.6666666666666666,
              "#ed7953"
             ],
             [
              0.7777777777777778,
              "#fb9f3a"
             ],
             [
              0.8888888888888888,
              "#fdca26"
             ],
             [
              1,
              "#f0f921"
             ]
            ],
            "type": "heatmap"
           }
          ],
          "heatmapgl": [
           {
            "colorbar": {
             "outlinewidth": 0,
             "ticks": ""
            },
            "colorscale": [
             [
              0,
              "#0d0887"
             ],
             [
              0.1111111111111111,
              "#46039f"
             ],
             [
              0.2222222222222222,
              "#7201a8"
             ],
             [
              0.3333333333333333,
              "#9c179e"
             ],
             [
              0.4444444444444444,
              "#bd3786"
             ],
             [
              0.5555555555555556,
              "#d8576b"
             ],
             [
              0.6666666666666666,
              "#ed7953"
             ],
             [
              0.7777777777777778,
              "#fb9f3a"
             ],
             [
              0.8888888888888888,
              "#fdca26"
             ],
             [
              1,
              "#f0f921"
             ]
            ],
            "type": "heatmapgl"
           }
          ],
          "histogram": [
           {
            "marker": {
             "pattern": {
              "fillmode": "overlay",
              "size": 10,
              "solidity": 0.2
             }
            },
            "type": "histogram"
           }
          ],
          "histogram2d": [
           {
            "colorbar": {
             "outlinewidth": 0,
             "ticks": ""
            },
            "colorscale": [
             [
              0,
              "#0d0887"
             ],
             [
              0.1111111111111111,
              "#46039f"
             ],
             [
              0.2222222222222222,
              "#7201a8"
             ],
             [
              0.3333333333333333,
              "#9c179e"
             ],
             [
              0.4444444444444444,
              "#bd3786"
             ],
             [
              0.5555555555555556,
              "#d8576b"
             ],
             [
              0.6666666666666666,
              "#ed7953"
             ],
             [
              0.7777777777777778,
              "#fb9f3a"
             ],
             [
              0.8888888888888888,
              "#fdca26"
             ],
             [
              1,
              "#f0f921"
             ]
            ],
            "type": "histogram2d"
           }
          ],
          "histogram2dcontour": [
           {
            "colorbar": {
             "outlinewidth": 0,
             "ticks": ""
            },
            "colorscale": [
             [
              0,
              "#0d0887"
             ],
             [
              0.1111111111111111,
              "#46039f"
             ],
             [
              0.2222222222222222,
              "#7201a8"
             ],
             [
              0.3333333333333333,
              "#9c179e"
             ],
             [
              0.4444444444444444,
              "#bd3786"
             ],
             [
              0.5555555555555556,
              "#d8576b"
             ],
             [
              0.6666666666666666,
              "#ed7953"
             ],
             [
              0.7777777777777778,
              "#fb9f3a"
             ],
             [
              0.8888888888888888,
              "#fdca26"
             ],
             [
              1,
              "#f0f921"
             ]
            ],
            "type": "histogram2dcontour"
           }
          ],
          "mesh3d": [
           {
            "colorbar": {
             "outlinewidth": 0,
             "ticks": ""
            },
            "type": "mesh3d"
           }
          ],
          "parcoords": [
           {
            "line": {
             "colorbar": {
              "outlinewidth": 0,
              "ticks": ""
             }
            },
            "type": "parcoords"
           }
          ],
          "pie": [
           {
            "automargin": true,
            "type": "pie"
           }
          ],
          "scatter": [
           {
            "fillpattern": {
             "fillmode": "overlay",
             "size": 10,
             "solidity": 0.2
            },
            "type": "scatter"
           }
          ],
          "scatter3d": [
           {
            "line": {
             "colorbar": {
              "outlinewidth": 0,
              "ticks": ""
             }
            },
            "marker": {
             "colorbar": {
              "outlinewidth": 0,
              "ticks": ""
             }
            },
            "type": "scatter3d"
           }
          ],
          "scattercarpet": [
           {
            "marker": {
             "colorbar": {
              "outlinewidth": 0,
              "ticks": ""
             }
            },
            "type": "scattercarpet"
           }
          ],
          "scattergeo": [
           {
            "marker": {
             "colorbar": {
              "outlinewidth": 0,
              "ticks": ""
             }
            },
            "type": "scattergeo"
           }
          ],
          "scattergl": [
           {
            "marker": {
             "colorbar": {
              "outlinewidth": 0,
              "ticks": ""
             }
            },
            "type": "scattergl"
           }
          ],
          "scattermapbox": [
           {
            "marker": {
             "colorbar": {
              "outlinewidth": 0,
              "ticks": ""
             }
            },
            "type": "scattermapbox"
           }
          ],
          "scatterpolar": [
           {
            "marker": {
             "colorbar": {
              "outlinewidth": 0,
              "ticks": ""
             }
            },
            "type": "scatterpolar"
           }
          ],
          "scatterpolargl": [
           {
            "marker": {
             "colorbar": {
              "outlinewidth": 0,
              "ticks": ""
             }
            },
            "type": "scatterpolargl"
           }
          ],
          "scatterternary": [
           {
            "marker": {
             "colorbar": {
              "outlinewidth": 0,
              "ticks": ""
             }
            },
            "type": "scatterternary"
           }
          ],
          "surface": [
           {
            "colorbar": {
             "outlinewidth": 0,
             "ticks": ""
            },
            "colorscale": [
             [
              0,
              "#0d0887"
             ],
             [
              0.1111111111111111,
              "#46039f"
             ],
             [
              0.2222222222222222,
              "#7201a8"
             ],
             [
              0.3333333333333333,
              "#9c179e"
             ],
             [
              0.4444444444444444,
              "#bd3786"
             ],
             [
              0.5555555555555556,
              "#d8576b"
             ],
             [
              0.6666666666666666,
              "#ed7953"
             ],
             [
              0.7777777777777778,
              "#fb9f3a"
             ],
             [
              0.8888888888888888,
              "#fdca26"
             ],
             [
              1,
              "#f0f921"
             ]
            ],
            "type": "surface"
           }
          ],
          "table": [
           {
            "cells": {
             "fill": {
              "color": "#EBF0F8"
             },
             "line": {
              "color": "white"
             }
            },
            "header": {
             "fill": {
              "color": "#C8D4E3"
             },
             "line": {
              "color": "white"
             }
            },
            "type": "table"
           }
          ]
         },
         "layout": {
          "annotationdefaults": {
           "arrowcolor": "#2a3f5f",
           "arrowhead": 0,
           "arrowwidth": 1
          },
          "autotypenumbers": "strict",
          "coloraxis": {
           "colorbar": {
            "outlinewidth": 0,
            "ticks": ""
           }
          },
          "colorscale": {
           "diverging": [
            [
             0,
             "#8e0152"
            ],
            [
             0.1,
             "#c51b7d"
            ],
            [
             0.2,
             "#de77ae"
            ],
            [
             0.3,
             "#f1b6da"
            ],
            [
             0.4,
             "#fde0ef"
            ],
            [
             0.5,
             "#f7f7f7"
            ],
            [
             0.6,
             "#e6f5d0"
            ],
            [
             0.7,
             "#b8e186"
            ],
            [
             0.8,
             "#7fbc41"
            ],
            [
             0.9,
             "#4d9221"
            ],
            [
             1,
             "#276419"
            ]
           ],
           "sequential": [
            [
             0,
             "#0d0887"
            ],
            [
             0.1111111111111111,
             "#46039f"
            ],
            [
             0.2222222222222222,
             "#7201a8"
            ],
            [
             0.3333333333333333,
             "#9c179e"
            ],
            [
             0.4444444444444444,
             "#bd3786"
            ],
            [
             0.5555555555555556,
             "#d8576b"
            ],
            [
             0.6666666666666666,
             "#ed7953"
            ],
            [
             0.7777777777777778,
             "#fb9f3a"
            ],
            [
             0.8888888888888888,
             "#fdca26"
            ],
            [
             1,
             "#f0f921"
            ]
           ],
           "sequentialminus": [
            [
             0,
             "#0d0887"
            ],
            [
             0.1111111111111111,
             "#46039f"
            ],
            [
             0.2222222222222222,
             "#7201a8"
            ],
            [
             0.3333333333333333,
             "#9c179e"
            ],
            [
             0.4444444444444444,
             "#bd3786"
            ],
            [
             0.5555555555555556,
             "#d8576b"
            ],
            [
             0.6666666666666666,
             "#ed7953"
            ],
            [
             0.7777777777777778,
             "#fb9f3a"
            ],
            [
             0.8888888888888888,
             "#fdca26"
            ],
            [
             1,
             "#f0f921"
            ]
           ]
          },
          "colorway": [
           "#636efa",
           "#EF553B",
           "#00cc96",
           "#ab63fa",
           "#FFA15A",
           "#19d3f3",
           "#FF6692",
           "#B6E880",
           "#FF97FF",
           "#FECB52"
          ],
          "font": {
           "color": "#2a3f5f"
          },
          "geo": {
           "bgcolor": "white",
           "lakecolor": "white",
           "landcolor": "#E5ECF6",
           "showlakes": true,
           "showland": true,
           "subunitcolor": "white"
          },
          "hoverlabel": {
           "align": "left"
          },
          "hovermode": "closest",
          "mapbox": {
           "style": "light"
          },
          "paper_bgcolor": "white",
          "plot_bgcolor": "#E5ECF6",
          "polar": {
           "angularaxis": {
            "gridcolor": "white",
            "linecolor": "white",
            "ticks": ""
           },
           "bgcolor": "#E5ECF6",
           "radialaxis": {
            "gridcolor": "white",
            "linecolor": "white",
            "ticks": ""
           }
          },
          "scene": {
           "xaxis": {
            "backgroundcolor": "#E5ECF6",
            "gridcolor": "white",
            "gridwidth": 2,
            "linecolor": "white",
            "showbackground": true,
            "ticks": "",
            "zerolinecolor": "white"
           },
           "yaxis": {
            "backgroundcolor": "#E5ECF6",
            "gridcolor": "white",
            "gridwidth": 2,
            "linecolor": "white",
            "showbackground": true,
            "ticks": "",
            "zerolinecolor": "white"
           },
           "zaxis": {
            "backgroundcolor": "#E5ECF6",
            "gridcolor": "white",
            "gridwidth": 2,
            "linecolor": "white",
            "showbackground": true,
            "ticks": "",
            "zerolinecolor": "white"
           }
          },
          "shapedefaults": {
           "line": {
            "color": "#2a3f5f"
           }
          },
          "ternary": {
           "aaxis": {
            "gridcolor": "white",
            "linecolor": "white",
            "ticks": ""
           },
           "baxis": {
            "gridcolor": "white",
            "linecolor": "white",
            "ticks": ""
           },
           "bgcolor": "#E5ECF6",
           "caxis": {
            "gridcolor": "white",
            "linecolor": "white",
            "ticks": ""
           }
          },
          "title": {
           "x": 0.05
          },
          "xaxis": {
           "automargin": true,
           "gridcolor": "white",
           "linecolor": "white",
           "ticks": "",
           "title": {
            "standoff": 15
           },
           "zerolinecolor": "white",
           "zerolinewidth": 2
          },
          "yaxis": {
           "automargin": true,
           "gridcolor": "white",
           "linecolor": "white",
           "ticks": "",
           "title": {
            "standoff": 15
           },
           "zerolinecolor": "white",
           "zerolinewidth": 2
          }
         }
        },
        "xaxis": {
         "anchor": "y",
         "domain": [
          0,
          1
         ],
         "title": {
          "text": "embed1"
         }
        },
        "yaxis": {
         "anchor": "x",
         "domain": [
          0,
          1
         ],
         "title": {
          "text": "embed2"
         }
        }
       }
      }
     },
     "metadata": {},
     "output_type": "display_data"
    }
   ],
   "source": [
    "plotly_embedding(embed.head(200))"
   ]
  },
  {
   "cell_type": "markdown",
   "metadata": {},
   "source": [
    "## performance on graphcase\n",
    "including precision/recall curve and confusion matrix"
   ]
  },
  {
   "cell_type": "code",
   "execution_count": 6,
   "metadata": {},
   "outputs": [
    {
     "name": "stdout",
     "output_type": "stream",
     "text": [
      "there are 40829 edges after selecting only the last one\n"
     ]
    }
   ],
   "source": [
    "from sklearn.metrics import ConfusionMatrixDisplay\n",
    "from graphcase_experiments.experiments.mooc_exp_copy import prep_mdl_input, train_classifier, evaluate_clf\n",
    "test_edges = prep_edges(test)\n",
    "\n",
    "df_train_mdl = prep_mdl_input(train_edges, embed)\n",
    "clf = train_classifier(df_train_mdl)\n",
    "df_test_mdl = prep_mdl_input(test_edges, embed)\n",
    "res = evaluate_clf(clf, df_test_mdl)"
   ]
  },
  {
   "cell_type": "code",
   "execution_count": 7,
   "metadata": {},
   "outputs": [
    {
     "name": "stdout",
     "output_type": "stream",
     "text": [
      "pr auc 0.03438120559628275\n",
      "avg precision ;0.035712118969002414\n"
     ]
    },
    {
     "data": {
      "image/png": "[encoded data removed]",
      "text/plain": [
       "<Figure size 720x360 with 3 Axes>"
      ]
     },
     "metadata": {
      "needs_background": "light"
     },
     "output_type": "display_data"
    }
   ],
   "source": [
    "from sklearn.metrics import precision_recall_curve, average_precision_score, auc\n",
    "precision, recall, thresholds = precision_recall_curve(df_test_mdl['label_id'], res['y_proba'][1])\n",
    "roc = pd.DataFrame.from_dict({'precision': precision, 'recall': recall})\n",
    "roc = roc.sort_values('recall')\n",
    "print(f\"pr auc {auc(roc['recall'], roc['precision'])}\")\n",
    "ap = average_precision_score(df_test_mdl['label_id'], res['y_proba'][1])\n",
    "print(f\"avg precision ;{ap}\")\n",
    "fig, axs = plt.subplots(1,2, figsize=((10,5)))\n",
    "axs[0].plot(precision, recall)\n",
    "ConfusionMatrixDisplay.from_predictions(df_test_mdl['label_id'], res['y_pred'], ax=axs[1])\n",
    "plt.show()\n"
   ]
  },
  {
   "cell_type": "markdown",
   "metadata": {},
   "source": [
    "## performance on baseline\n",
    "including precision/recall curve and confusion matrix"
   ]
  },
  {
   "cell_type": "code",
   "execution_count": 52,
   "metadata": {},
   "outputs": [],
   "source": [
    "df_train_mdl_baseline = prep_mdl_input(train, embed_baseline)\n",
    "clf = train_classifier(df_train_mdl_baseline)\n",
    "df_test_mdl_baseline = prep_mdl_input(test, embed_baseline)\n",
    "res_baseline = evaluate_clf(clf, df_test_mdl_baseline)"
   ]
  },
  {
   "cell_type": "code",
   "execution_count": 51,
   "metadata": {},
   "outputs": [
    {
     "name": "stdout",
     "output_type": "stream",
     "text": [
      "pr auc 0.010775194137829095\n",
      "avg precision ;0.012437595858297288\n"
     ]
    },
    {
     "data": {
      "image/png": "[encoded data removed]",
      "text/plain": [
       "<Figure size 720x360 with 3 Axes>"
      ]
     },
     "metadata": {
      "needs_background": "light"
     },
     "output_type": "display_data"
    }
   ],
   "source": [
    "from sklearn.metrics import precision_recall_curve, average_precision_score, auc\n",
    "\n",
    "precision, recall, thresholds = precision_recall_curve(df_test_mdl['label_id'], res_baseline['y_proba'][1])\n",
    "roc = pd.DataFrame.from_dict({'precision': precision, 'recall': recall})\n",
    "roc = roc.sort_values('recall')\n",
    "print(f\"pr auc {auc(roc['recall'], roc['precision'])}\")\n",
    "ap = average_precision_score(df_test_mdl['label_id'], res_baseline['y_proba'][1])\n",
    "print(f\"avg precision ;{ap}\")\n",
    "fig, axs = plt.subplots(1,2, figsize=((10,5)))\n",
    "axs[0].plot(precision, recall)\n",
    "ConfusionMatrixDisplay.from_predictions(df_test_mdl_baseline['label_id'], res_baseline['y_pred'], ax=axs[1])\n",
    "plt.show()"
   ]
  },
  {
   "cell_type": "markdown",
   "metadata": {},
   "source": [
    "## performance compared to other algos"
   ]
  },
  {
   "cell_type": "code",
   "execution_count": 3,
   "metadata": {},
   "outputs": [
    {
     "name": "stderr",
     "output_type": "stream",
     "text": [
      "2022-09-06 19:22:01.866894: I tensorflow/core/platform/cpu_feature_guard.cc:151] This TensorFlow binary is optimized with oneAPI Deep Neural Network Library (oneDNN) to use the following CPU instructions in performance-critical operations:  AVX2 FMA\n",
      "To enable them in other operations, rebuild TensorFlow with the appropriate compiler flags.\n"
     ]
    },
    {
     "name": "stdout",
     "output_type": "stream",
     "text": [
      "edges: 411749 mooc_action 411749\n",
      "total count is 411749, test_cnt is 82349 and train_cnt is 329400: check_sum: 0\n",
      "there are 145486 edges after selecting only the last one\n",
      "edge check: df:145486, graph edges: 145486\n",
      "node check: users+ courses:6795, nodes: 6795\n",
      "WARNING: AutoGraph could not transform <bound method InputLayerConstructor.get_input_layer of <GAE.input_layer_constructor.InputLayerConstructor object at 0x7fc9f8733d00>> and will run it as-is.\n",
      "Cause: mangled names are not yet supported\n",
      "To silence this warning, decorate the function with @tf.autograph.experimental.do_not_convert\n"
     ]
    },
    {
     "name": "stderr",
     "output_type": "stream",
     "text": [
      "2022-09-06 19:25:46.032294: W tensorflow/python/util/util.cc:368] Sets are not currently considered sequences, but this may change in the future, so consider avoiding using them.\n",
      "WARNING:absl:Found untraced functions such as dense_8_layer_call_fn, dense_8_layer_call_and_return_conditional_losses, dense_9_layer_call_fn, dense_9_layer_call_and_return_conditional_losses while saving (showing 4 of 4). These functions will not be directly callable after loading.\n",
      "WARNING:absl:Found untraced functions such as dense_18_layer_call_fn, dense_18_layer_call_and_return_conditional_losses, dense_19_layer_call_fn, dense_19_layer_call_and_return_conditional_losses while saving (showing 4 of 4). These functions will not be directly callable after loading.\n",
      "WARNING:absl:Found untraced functions such as dense_28_layer_call_fn, dense_28_layer_call_and_return_conditional_losses, dense_29_layer_call_fn, dense_29_layer_call_and_return_conditional_losses while saving (showing 4 of 4). These functions will not be directly callable after loading.\n",
      "WARNING:absl:Found untraced functions such as dense_38_layer_call_fn, dense_38_layer_call_and_return_conditional_losses, dense_39_layer_call_fn, dense_39_layer_call_and_return_conditional_losses while saving (showing 4 of 4). These functions will not be directly callable after loading.\n",
      "WARNING:absl:Found untraced functions such as dense_48_layer_call_fn, dense_48_layer_call_and_return_conditional_losses, dense_49_layer_call_fn, dense_49_layer_call_and_return_conditional_losses while saving (showing 4 of 4). These functions will not be directly callable after loading.\n",
      "/Users/tonpoppe/opt/anaconda3/envs/drne/lib/python3.6/site-packages/tensorflow/python/framework/dtypes.py:458: FutureWarning: Passing (type, 1) or '1type' as a synonym of type is deprecated; in a future version of numpy, it will be understood as (type, (1,)) / '(1,)type'.\n",
      "  _np_qint8 = np.dtype([(\"qint8\", np.int8, 1)])\n",
      "/Users/tonpoppe/opt/anaconda3/envs/drne/lib/python3.6/site-packages/tensorflow/python/framework/dtypes.py:459: FutureWarning: Passing (type, 1) or '1type' as a synonym of type is deprecated; in a future version of numpy, it will be understood as (type, (1,)) / '(1,)type'.\n",
      "  _np_quint8 = np.dtype([(\"quint8\", np.uint8, 1)])\n",
      "/Users/tonpoppe/opt/anaconda3/envs/drne/lib/python3.6/site-packages/tensorflow/python/framework/dtypes.py:460: FutureWarning: Passing (type, 1) or '1type' as a synonym of type is deprecated; in a future version of numpy, it will be understood as (type, (1,)) / '(1,)type'.\n",
      "  _np_qint16 = np.dtype([(\"qint16\", np.int16, 1)])\n",
      "/Users/tonpoppe/opt/anaconda3/envs/drne/lib/python3.6/site-packages/tensorflow/python/framework/dtypes.py:461: FutureWarning: Passing (type, 1) or '1type' as a synonym of type is deprecated; in a future version of numpy, it will be understood as (type, (1,)) / '(1,)type'.\n",
      "  _np_quint16 = np.dtype([(\"quint16\", np.uint16, 1)])\n",
      "/Users/tonpoppe/opt/anaconda3/envs/drne/lib/python3.6/site-packages/tensorflow/python/framework/dtypes.py:462: FutureWarning: Passing (type, 1) or '1type' as a synonym of type is deprecated; in a future version of numpy, it will be understood as (type, (1,)) / '(1,)type'.\n",
      "  _np_qint32 = np.dtype([(\"qint32\", np.int32, 1)])\n",
      "/Users/tonpoppe/opt/anaconda3/envs/drne/lib/python3.6/site-packages/tensorflow/python/framework/dtypes.py:465: FutureWarning: Passing (type, 1) or '1type' as a synonym of type is deprecated; in a future version of numpy, it will be understood as (type, (1,)) / '(1,)type'.\n",
      "  np_resource = np.dtype([(\"resource\", np.ubyte, 1)])\n"
     ]
    }
   ],
   "source": [
    "from graphcase_experiments.experiments.mooc_exp import calc_mooc_performance, ALGO\n",
    "details, smry = calc_mooc_performance(algos=ALGO, runs=5)"
   ]
  },
  {
   "cell_type": "code",
   "execution_count": null,
   "metadata": {},
   "outputs": [
    {
     "data": {
      "text/html": [
       "<div>\n",
       "<style scoped>\n",
       "    .dataframe tbody tr th:only-of-type {\n",
       "        vertical-align: middle;\n",
       "    }\n",
       "\n",
       "    .dataframe tbody tr th {\n",
       "        vertical-align: top;\n",
       "    }\n",
       "\n",
       "    .dataframe thead tr th {\n",
       "        text-align: left;\n",
       "    }\n",
       "\n",
       "    .dataframe thead tr:last-of-type th {\n",
       "        text-align: right;\n",
       "    }\n",
       "</style>\n",
       "<table border=\"1\" class=\"dataframe\">\n",
       "  <thead>\n",
       "    <tr>\n",
       "      <th></th>\n",
       "      <th colspan=\"2\" halign=\"left\">auc_pr</th>\n",
       "      <th colspan=\"2\" halign=\"left\">avg_precision</th>\n",
       "    </tr>\n",
       "    <tr>\n",
       "      <th></th>\n",
       "      <th>mean</th>\n",
       "      <th>std</th>\n",
       "      <th>mean</th>\n",
       "      <th>std</th>\n",
       "    </tr>\n",
       "    <tr>\n",
       "      <th>algo</th>\n",
       "      <th></th>\n",
       "      <th></th>\n",
       "      <th></th>\n",
       "      <th></th>\n",
       "    </tr>\n",
       "  </thead>\n",
       "  <tbody>\n",
       "    <tr>\n",
       "      <th>GraphCASE</th>\n",
       "      <td>0.023550</td>\n",
       "      <td>0.001373</td>\n",
       "      <td>0.024334</td>\n",
       "      <td>0.001368</td>\n",
       "    </tr>\n",
       "    <tr>\n",
       "      <th>baseline</th>\n",
       "      <td>0.010775</td>\n",
       "      <td>0.000000</td>\n",
       "      <td>0.012438</td>\n",
       "      <td>0.000000</td>\n",
       "    </tr>\n",
       "  </tbody>\n",
       "</table>\n",
       "</div>"
      ],
      "text/plain": [
       "             auc_pr           avg_precision          \n",
       "               mean       std          mean       std\n",
       "algo                                                 \n",
       "GraphCASE  0.023550  0.001373      0.024334  0.001368\n",
       "baseline   0.010775  0.000000      0.012438  0.000000"
      ]
     },
     "execution_count": 4,
     "metadata": {},
     "output_type": "execute_result"
    }
   ],
   "source": [
    "smry"
   ]
  },
  {
   "cell_type": "code",
   "execution_count": null,
   "metadata": {},
   "outputs": [],
   "source": [
    "details"
   ]
  },
  {
   "cell_type": "code",
   "execution_count": null,
   "metadata": {},
   "outputs": [],
   "source": []
  }
 ],
 "metadata": {
  "kernelspec": {
   "display_name": "Python 3.8.12 ('graphcase')",
   "language": "python",
   "name": "python3"
  },
  "language_info": {
   "codemirror_mode": {
    "name": "ipython",
    "version": 3
   },
   "file_extension": ".py",
   "mimetype": "text/x-python",
   "name": "python",
   "nbconvert_exporter": "python",
   "pygments_lexer": "ipython3",
   "version": "3.8.12"
  },
  "orig_nbformat": 4,
  "vscode": {
   "interpreter": {
    "hash": "c716535ba2b95ead85a0e15eb985372fe78ead652a07dc780f0a477ec156580f"
   }
  }
 },
 "nbformat": 4,
 "nbformat_minor": 2
}
